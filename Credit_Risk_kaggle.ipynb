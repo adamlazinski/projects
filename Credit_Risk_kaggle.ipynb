{
  "cells": [
    {
      "cell_type": "markdown",
      "metadata": {
        "id": "QXVclVqNG6GZ"
      },
      "source": [
        "# **Credit Risk Analysis**\n",
        "\n",
        "### dataset: https://www.kaggle.com/datasets/ranadeep/credit-risk-dataset?resource=download"
      ]
    },
    {
      "cell_type": "markdown",
      "metadata": {
        "id": "fllYaeMHp4QG"
      },
      "source": [
        "#**Import libraries**"
      ]
    },
    {
      "cell_type": "code",
      "execution_count": null,
      "metadata": {
        "id": "LO2XtYJoFvH0"
      },
      "outputs": [],
      "source": [
        "import numpy as np # linear algebra\n",
        "import pandas as pd # data processing, CSV file I/O (e.g. pd.read_csv)\n",
        "import matplotlib.pyplot as plt\n",
        "import seaborn as sns\n",
        "\n",
        "from imblearn.over_sampling import SMOTE\n",
        "\n",
        "from sklearn.preprocessing import StandardScaler\n",
        "from sklearn.metrics import roc_auc_score, roc_curve, classification_report, accuracy_score, confusion_matrix, precision_score, recall_score, roc_auc_score\n",
        "from sklearn.model_selection import train_test_split\n",
        "from sklearn.linear_model import LogisticRegression\n",
        "from sklearn.neighbors import KNeighborsClassifier\n",
        "from sklearn.tree import DecisionTreeClassifier\n",
        "from sklearn.svm import SVC, LinearSVC"
      ]
    },
    {
      "cell_type": "code",
      "execution_count": null,
      "metadata": {
        "colab": {
          "base_uri": "https://localhost:8080/"
        },
        "id": "5P_3ZFgWHrgk",
        "outputId": "88310807-42bc-4339-d7fd-e55f68f90277"
      },
      "outputs": [
        {
          "output_type": "execute_result",
          "data": {
            "text/plain": [
              "150"
            ]
          },
          "metadata": {},
          "execution_count": 2
        }
      ],
      "source": [
        "#set display max column to see all column\n",
        "pd.set_option(\"display.max_columns\", None)\n",
        "pd.get_option(\"display.max_columns\")\n",
        "\n",
        "#set display max column to see all column\n",
        "pd.set_option(\"display.max_rows\", 150)\n",
        "pd.get_option(\"display.max_rows\")"
      ]
    },
    {
      "cell_type": "code",
      "execution_count": null,
      "metadata": {
        "colab": {
          "base_uri": "https://localhost:8080/"
        },
        "id": "i1ReSz2wZeMi",
        "outputId": "bcf0d9fc-d16e-4b58-f2be-1589ac4668d3"
      },
      "outputs": [
        {
          "output_type": "stream",
          "name": "stdout",
          "text": [
            "Drive already mounted at /content/drive; to attempt to forcibly remount, call drive.mount(\"/content/drive\", force_remount=True).\n"
          ]
        }
      ],
      "source": [
        "from google.colab import drive\n",
        "drive.mount('/content/drive')"
      ]
    },
    {
      "cell_type": "markdown",
      "metadata": {
        "id": "Q3FSXGawJM0R"
      },
      "source": [
        "# **Load dataset**"
      ]
    },
    {
      "cell_type": "code",
      "execution_count": null,
      "metadata": {
        "id": "5oBKAwpaHueW"
      },
      "outputs": [],
      "source": [
        "path = \"/content/drive/MyDrive/loan.csv\"\n",
        "data = pd.read_csv(path, engine='python')\n",
        "#alternative\n",
        "#data = pd.read_csv(path)\n",
        "#data.sample(10000) -> can be time consuming"
      ]
    },
    {
      "cell_type": "code",
      "execution_count": null,
      "metadata": {
        "colab": {
          "base_uri": "https://localhost:8080/",
          "height": 722
        },
        "id": "r28VtoLgKSqQ",
        "outputId": "6bc290b4-08b2-4274-ca89-f53e84a5dfb0"
      },
      "outputs": [
        {
          "data": {
            "text/html": [
              "\n",
              "  <div id=\"df-4fc25cbf-7965-4416-9b5f-472202cde50c\">\n",
              "    <div class=\"colab-df-container\">\n",
              "      <div>\n",
              "<style scoped>\n",
              "    .dataframe tbody tr th:only-of-type {\n",
              "        vertical-align: middle;\n",
              "    }\n",
              "\n",
              "    .dataframe tbody tr th {\n",
              "        vertical-align: top;\n",
              "    }\n",
              "\n",
              "    .dataframe thead th {\n",
              "        text-align: right;\n",
              "    }\n",
              "</style>\n",
              "<table border=\"1\" class=\"dataframe\">\n",
              "  <thead>\n",
              "    <tr style=\"text-align: right;\">\n",
              "      <th></th>\n",
              "      <th>id</th>\n",
              "      <th>member_id</th>\n",
              "      <th>loan_amnt</th>\n",
              "      <th>funded_amnt</th>\n",
              "      <th>funded_amnt_inv</th>\n",
              "      <th>term</th>\n",
              "      <th>int_rate</th>\n",
              "      <th>installment</th>\n",
              "      <th>grade</th>\n",
              "      <th>sub_grade</th>\n",
              "      <th>emp_title</th>\n",
              "      <th>emp_length</th>\n",
              "      <th>home_ownership</th>\n",
              "      <th>annual_inc</th>\n",
              "      <th>verification_status</th>\n",
              "      <th>issue_d</th>\n",
              "      <th>loan_status</th>\n",
              "      <th>pymnt_plan</th>\n",
              "      <th>url</th>\n",
              "      <th>desc</th>\n",
              "      <th>purpose</th>\n",
              "      <th>title</th>\n",
              "      <th>zip_code</th>\n",
              "      <th>addr_state</th>\n",
              "      <th>dti</th>\n",
              "      <th>delinq_2yrs</th>\n",
              "      <th>earliest_cr_line</th>\n",
              "      <th>inq_last_6mths</th>\n",
              "      <th>mths_since_last_delinq</th>\n",
              "      <th>mths_since_last_record</th>\n",
              "      <th>open_acc</th>\n",
              "      <th>pub_rec</th>\n",
              "      <th>revol_bal</th>\n",
              "      <th>revol_util</th>\n",
              "      <th>total_acc</th>\n",
              "      <th>initial_list_status</th>\n",
              "      <th>out_prncp</th>\n",
              "      <th>out_prncp_inv</th>\n",
              "      <th>total_pymnt</th>\n",
              "      <th>total_pymnt_inv</th>\n",
              "      <th>total_rec_prncp</th>\n",
              "      <th>total_rec_int</th>\n",
              "      <th>total_rec_late_fee</th>\n",
              "      <th>recoveries</th>\n",
              "      <th>collection_recovery_fee</th>\n",
              "      <th>last_pymnt_d</th>\n",
              "      <th>last_pymnt_amnt</th>\n",
              "      <th>next_pymnt_d</th>\n",
              "      <th>last_credit_pull_d</th>\n",
              "      <th>collections_12_mths_ex_med</th>\n",
              "      <th>mths_since_last_major_derog</th>\n",
              "      <th>policy_code</th>\n",
              "      <th>application_type</th>\n",
              "      <th>annual_inc_joint</th>\n",
              "      <th>dti_joint</th>\n",
              "      <th>verification_status_joint</th>\n",
              "      <th>acc_now_delinq</th>\n",
              "      <th>tot_coll_amt</th>\n",
              "      <th>tot_cur_bal</th>\n",
              "      <th>open_acc_6m</th>\n",
              "      <th>open_il_6m</th>\n",
              "      <th>open_il_12m</th>\n",
              "      <th>open_il_24m</th>\n",
              "      <th>mths_since_rcnt_il</th>\n",
              "      <th>total_bal_il</th>\n",
              "      <th>il_util</th>\n",
              "      <th>open_rv_12m</th>\n",
              "      <th>open_rv_24m</th>\n",
              "      <th>max_bal_bc</th>\n",
              "      <th>all_util</th>\n",
              "      <th>total_rev_hi_lim</th>\n",
              "      <th>inq_fi</th>\n",
              "      <th>total_cu_tl</th>\n",
              "      <th>inq_last_12m</th>\n",
              "    </tr>\n",
              "  </thead>\n",
              "  <tbody>\n",
              "    <tr>\n",
              "      <th>0</th>\n",
              "      <td>1077501</td>\n",
              "      <td>1296599</td>\n",
              "      <td>5000.0</td>\n",
              "      <td>5000.0</td>\n",
              "      <td>4975.0</td>\n",
              "      <td>36 months</td>\n",
              "      <td>10.65</td>\n",
              "      <td>162.87</td>\n",
              "      <td>B</td>\n",
              "      <td>B2</td>\n",
              "      <td>NaN</td>\n",
              "      <td>10+ years</td>\n",
              "      <td>RENT</td>\n",
              "      <td>24000.0</td>\n",
              "      <td>Verified</td>\n",
              "      <td>Dec-2011</td>\n",
              "      <td>Fully Paid</td>\n",
              "      <td>n</td>\n",
              "      <td>https://www.lendingclub.com/browse/loanDetail....</td>\n",
              "      <td>Borrower added on 12/22/11 &gt; I need to upgra...</td>\n",
              "      <td>credit_card</td>\n",
              "      <td>Computer</td>\n",
              "      <td>860xx</td>\n",
              "      <td>AZ</td>\n",
              "      <td>27.65</td>\n",
              "      <td>0.0</td>\n",
              "      <td>Jan-1985</td>\n",
              "      <td>1.0</td>\n",
              "      <td>NaN</td>\n",
              "      <td>NaN</td>\n",
              "      <td>3.0</td>\n",
              "      <td>0.0</td>\n",
              "      <td>13648.0</td>\n",
              "      <td>83.7</td>\n",
              "      <td>9.0</td>\n",
              "      <td>f</td>\n",
              "      <td>0.0</td>\n",
              "      <td>0.0</td>\n",
              "      <td>5861.071414</td>\n",
              "      <td>5831.78</td>\n",
              "      <td>5000.00</td>\n",
              "      <td>861.07</td>\n",
              "      <td>0.00</td>\n",
              "      <td>0.00</td>\n",
              "      <td>0.00</td>\n",
              "      <td>Jan-2015</td>\n",
              "      <td>171.62</td>\n",
              "      <td>NaN</td>\n",
              "      <td>Jan-2016</td>\n",
              "      <td>0.0</td>\n",
              "      <td>NaN</td>\n",
              "      <td>1.0</td>\n",
              "      <td>INDIVIDUAL</td>\n",
              "      <td>NaN</td>\n",
              "      <td>NaN</td>\n",
              "      <td>NaN</td>\n",
              "      <td>0.0</td>\n",
              "      <td>NaN</td>\n",
              "      <td>NaN</td>\n",
              "      <td>NaN</td>\n",
              "      <td>NaN</td>\n",
              "      <td>NaN</td>\n",
              "      <td>NaN</td>\n",
              "      <td>NaN</td>\n",
              "      <td>NaN</td>\n",
              "      <td>NaN</td>\n",
              "      <td>NaN</td>\n",
              "      <td>NaN</td>\n",
              "      <td>NaN</td>\n",
              "      <td>NaN</td>\n",
              "      <td>NaN</td>\n",
              "      <td>NaN</td>\n",
              "      <td>NaN</td>\n",
              "      <td>NaN</td>\n",
              "    </tr>\n",
              "    <tr>\n",
              "      <th>1</th>\n",
              "      <td>1077430</td>\n",
              "      <td>1314167</td>\n",
              "      <td>2500.0</td>\n",
              "      <td>2500.0</td>\n",
              "      <td>2500.0</td>\n",
              "      <td>60 months</td>\n",
              "      <td>15.27</td>\n",
              "      <td>59.83</td>\n",
              "      <td>C</td>\n",
              "      <td>C4</td>\n",
              "      <td>Ryder</td>\n",
              "      <td>&lt; 1 year</td>\n",
              "      <td>RENT</td>\n",
              "      <td>30000.0</td>\n",
              "      <td>Source Verified</td>\n",
              "      <td>Dec-2011</td>\n",
              "      <td>Charged Off</td>\n",
              "      <td>n</td>\n",
              "      <td>https://www.lendingclub.com/browse/loanDetail....</td>\n",
              "      <td>Borrower added on 12/22/11 &gt; I plan to use t...</td>\n",
              "      <td>car</td>\n",
              "      <td>bike</td>\n",
              "      <td>309xx</td>\n",
              "      <td>GA</td>\n",
              "      <td>1.00</td>\n",
              "      <td>0.0</td>\n",
              "      <td>Apr-1999</td>\n",
              "      <td>5.0</td>\n",
              "      <td>NaN</td>\n",
              "      <td>NaN</td>\n",
              "      <td>3.0</td>\n",
              "      <td>0.0</td>\n",
              "      <td>1687.0</td>\n",
              "      <td>9.4</td>\n",
              "      <td>4.0</td>\n",
              "      <td>f</td>\n",
              "      <td>0.0</td>\n",
              "      <td>0.0</td>\n",
              "      <td>1008.710000</td>\n",
              "      <td>1008.71</td>\n",
              "      <td>456.46</td>\n",
              "      <td>435.17</td>\n",
              "      <td>0.00</td>\n",
              "      <td>117.08</td>\n",
              "      <td>1.11</td>\n",
              "      <td>Apr-2013</td>\n",
              "      <td>119.66</td>\n",
              "      <td>NaN</td>\n",
              "      <td>Sep-2013</td>\n",
              "      <td>0.0</td>\n",
              "      <td>NaN</td>\n",
              "      <td>1.0</td>\n",
              "      <td>INDIVIDUAL</td>\n",
              "      <td>NaN</td>\n",
              "      <td>NaN</td>\n",
              "      <td>NaN</td>\n",
              "      <td>0.0</td>\n",
              "      <td>NaN</td>\n",
              "      <td>NaN</td>\n",
              "      <td>NaN</td>\n",
              "      <td>NaN</td>\n",
              "      <td>NaN</td>\n",
              "      <td>NaN</td>\n",
              "      <td>NaN</td>\n",
              "      <td>NaN</td>\n",
              "      <td>NaN</td>\n",
              "      <td>NaN</td>\n",
              "      <td>NaN</td>\n",
              "      <td>NaN</td>\n",
              "      <td>NaN</td>\n",
              "      <td>NaN</td>\n",
              "      <td>NaN</td>\n",
              "      <td>NaN</td>\n",
              "      <td>NaN</td>\n",
              "    </tr>\n",
              "    <tr>\n",
              "      <th>2</th>\n",
              "      <td>1077175</td>\n",
              "      <td>1313524</td>\n",
              "      <td>2400.0</td>\n",
              "      <td>2400.0</td>\n",
              "      <td>2400.0</td>\n",
              "      <td>36 months</td>\n",
              "      <td>15.96</td>\n",
              "      <td>84.33</td>\n",
              "      <td>C</td>\n",
              "      <td>C5</td>\n",
              "      <td>NaN</td>\n",
              "      <td>10+ years</td>\n",
              "      <td>RENT</td>\n",
              "      <td>12252.0</td>\n",
              "      <td>Not Verified</td>\n",
              "      <td>Dec-2011</td>\n",
              "      <td>Fully Paid</td>\n",
              "      <td>n</td>\n",
              "      <td>https://www.lendingclub.com/browse/loanDetail....</td>\n",
              "      <td>NaN</td>\n",
              "      <td>small_business</td>\n",
              "      <td>real estate business</td>\n",
              "      <td>606xx</td>\n",
              "      <td>IL</td>\n",
              "      <td>8.72</td>\n",
              "      <td>0.0</td>\n",
              "      <td>Nov-2001</td>\n",
              "      <td>2.0</td>\n",
              "      <td>NaN</td>\n",
              "      <td>NaN</td>\n",
              "      <td>2.0</td>\n",
              "      <td>0.0</td>\n",
              "      <td>2956.0</td>\n",
              "      <td>98.5</td>\n",
              "      <td>10.0</td>\n",
              "      <td>f</td>\n",
              "      <td>0.0</td>\n",
              "      <td>0.0</td>\n",
              "      <td>3003.653644</td>\n",
              "      <td>3003.65</td>\n",
              "      <td>2400.00</td>\n",
              "      <td>603.65</td>\n",
              "      <td>0.00</td>\n",
              "      <td>0.00</td>\n",
              "      <td>0.00</td>\n",
              "      <td>Jun-2014</td>\n",
              "      <td>649.91</td>\n",
              "      <td>NaN</td>\n",
              "      <td>Jan-2016</td>\n",
              "      <td>0.0</td>\n",
              "      <td>NaN</td>\n",
              "      <td>1.0</td>\n",
              "      <td>INDIVIDUAL</td>\n",
              "      <td>NaN</td>\n",
              "      <td>NaN</td>\n",
              "      <td>NaN</td>\n",
              "      <td>0.0</td>\n",
              "      <td>NaN</td>\n",
              "      <td>NaN</td>\n",
              "      <td>NaN</td>\n",
              "      <td>NaN</td>\n",
              "      <td>NaN</td>\n",
              "      <td>NaN</td>\n",
              "      <td>NaN</td>\n",
              "      <td>NaN</td>\n",
              "      <td>NaN</td>\n",
              "      <td>NaN</td>\n",
              "      <td>NaN</td>\n",
              "      <td>NaN</td>\n",
              "      <td>NaN</td>\n",
              "      <td>NaN</td>\n",
              "      <td>NaN</td>\n",
              "      <td>NaN</td>\n",
              "      <td>NaN</td>\n",
              "    </tr>\n",
              "    <tr>\n",
              "      <th>3</th>\n",
              "      <td>1076863</td>\n",
              "      <td>1277178</td>\n",
              "      <td>10000.0</td>\n",
              "      <td>10000.0</td>\n",
              "      <td>10000.0</td>\n",
              "      <td>36 months</td>\n",
              "      <td>13.49</td>\n",
              "      <td>339.31</td>\n",
              "      <td>C</td>\n",
              "      <td>C1</td>\n",
              "      <td>AIR RESOURCES BOARD</td>\n",
              "      <td>10+ years</td>\n",
              "      <td>RENT</td>\n",
              "      <td>49200.0</td>\n",
              "      <td>Source Verified</td>\n",
              "      <td>Dec-2011</td>\n",
              "      <td>Fully Paid</td>\n",
              "      <td>n</td>\n",
              "      <td>https://www.lendingclub.com/browse/loanDetail....</td>\n",
              "      <td>Borrower added on 12/21/11 &gt; to pay for prop...</td>\n",
              "      <td>other</td>\n",
              "      <td>personel</td>\n",
              "      <td>917xx</td>\n",
              "      <td>CA</td>\n",
              "      <td>20.00</td>\n",
              "      <td>0.0</td>\n",
              "      <td>Feb-1996</td>\n",
              "      <td>1.0</td>\n",
              "      <td>35.0</td>\n",
              "      <td>NaN</td>\n",
              "      <td>10.0</td>\n",
              "      <td>0.0</td>\n",
              "      <td>5598.0</td>\n",
              "      <td>21.0</td>\n",
              "      <td>37.0</td>\n",
              "      <td>f</td>\n",
              "      <td>0.0</td>\n",
              "      <td>0.0</td>\n",
              "      <td>12226.302212</td>\n",
              "      <td>12226.30</td>\n",
              "      <td>10000.00</td>\n",
              "      <td>2209.33</td>\n",
              "      <td>16.97</td>\n",
              "      <td>0.00</td>\n",
              "      <td>0.00</td>\n",
              "      <td>Jan-2015</td>\n",
              "      <td>357.48</td>\n",
              "      <td>NaN</td>\n",
              "      <td>Jan-2015</td>\n",
              "      <td>0.0</td>\n",
              "      <td>NaN</td>\n",
              "      <td>1.0</td>\n",
              "      <td>INDIVIDUAL</td>\n",
              "      <td>NaN</td>\n",
              "      <td>NaN</td>\n",
              "      <td>NaN</td>\n",
              "      <td>0.0</td>\n",
              "      <td>NaN</td>\n",
              "      <td>NaN</td>\n",
              "      <td>NaN</td>\n",
              "      <td>NaN</td>\n",
              "      <td>NaN</td>\n",
              "      <td>NaN</td>\n",
              "      <td>NaN</td>\n",
              "      <td>NaN</td>\n",
              "      <td>NaN</td>\n",
              "      <td>NaN</td>\n",
              "      <td>NaN</td>\n",
              "      <td>NaN</td>\n",
              "      <td>NaN</td>\n",
              "      <td>NaN</td>\n",
              "      <td>NaN</td>\n",
              "      <td>NaN</td>\n",
              "      <td>NaN</td>\n",
              "    </tr>\n",
              "    <tr>\n",
              "      <th>4</th>\n",
              "      <td>1075358</td>\n",
              "      <td>1311748</td>\n",
              "      <td>3000.0</td>\n",
              "      <td>3000.0</td>\n",
              "      <td>3000.0</td>\n",
              "      <td>60 months</td>\n",
              "      <td>12.69</td>\n",
              "      <td>67.79</td>\n",
              "      <td>B</td>\n",
              "      <td>B5</td>\n",
              "      <td>University Medical Group</td>\n",
              "      <td>1 year</td>\n",
              "      <td>RENT</td>\n",
              "      <td>80000.0</td>\n",
              "      <td>Source Verified</td>\n",
              "      <td>Dec-2011</td>\n",
              "      <td>Current</td>\n",
              "      <td>n</td>\n",
              "      <td>https://www.lendingclub.com/browse/loanDetail....</td>\n",
              "      <td>Borrower added on 12/21/11 &gt; I plan on combi...</td>\n",
              "      <td>other</td>\n",
              "      <td>Personal</td>\n",
              "      <td>972xx</td>\n",
              "      <td>OR</td>\n",
              "      <td>17.94</td>\n",
              "      <td>0.0</td>\n",
              "      <td>Jan-1996</td>\n",
              "      <td>0.0</td>\n",
              "      <td>38.0</td>\n",
              "      <td>NaN</td>\n",
              "      <td>15.0</td>\n",
              "      <td>0.0</td>\n",
              "      <td>27783.0</td>\n",
              "      <td>53.9</td>\n",
              "      <td>38.0</td>\n",
              "      <td>f</td>\n",
              "      <td>766.9</td>\n",
              "      <td>766.9</td>\n",
              "      <td>3242.170000</td>\n",
              "      <td>3242.17</td>\n",
              "      <td>2233.10</td>\n",
              "      <td>1009.07</td>\n",
              "      <td>0.00</td>\n",
              "      <td>0.00</td>\n",
              "      <td>0.00</td>\n",
              "      <td>Jan-2016</td>\n",
              "      <td>67.79</td>\n",
              "      <td>Feb-2016</td>\n",
              "      <td>Jan-2016</td>\n",
              "      <td>0.0</td>\n",
              "      <td>NaN</td>\n",
              "      <td>1.0</td>\n",
              "      <td>INDIVIDUAL</td>\n",
              "      <td>NaN</td>\n",
              "      <td>NaN</td>\n",
              "      <td>NaN</td>\n",
              "      <td>0.0</td>\n",
              "      <td>NaN</td>\n",
              "      <td>NaN</td>\n",
              "      <td>NaN</td>\n",
              "      <td>NaN</td>\n",
              "      <td>NaN</td>\n",
              "      <td>NaN</td>\n",
              "      <td>NaN</td>\n",
              "      <td>NaN</td>\n",
              "      <td>NaN</td>\n",
              "      <td>NaN</td>\n",
              "      <td>NaN</td>\n",
              "      <td>NaN</td>\n",
              "      <td>NaN</td>\n",
              "      <td>NaN</td>\n",
              "      <td>NaN</td>\n",
              "      <td>NaN</td>\n",
              "      <td>NaN</td>\n",
              "    </tr>\n",
              "  </tbody>\n",
              "</table>\n",
              "</div>\n",
              "      <button class=\"colab-df-convert\" onclick=\"convertToInteractive('df-4fc25cbf-7965-4416-9b5f-472202cde50c')\"\n",
              "              title=\"Convert this dataframe to an interactive table.\"\n",
              "              style=\"display:none;\">\n",
              "        \n",
              "  <svg xmlns=\"http://www.w3.org/2000/svg\" height=\"24px\"viewBox=\"0 0 24 24\"\n",
              "       width=\"24px\">\n",
              "    <path d=\"M0 0h24v24H0V0z\" fill=\"none\"/>\n",
              "    <path d=\"M18.56 5.44l.94 2.06.94-2.06 2.06-.94-2.06-.94-.94-2.06-.94 2.06-2.06.94zm-11 1L8.5 8.5l.94-2.06 2.06-.94-2.06-.94L8.5 2.5l-.94 2.06-2.06.94zm10 10l.94 2.06.94-2.06 2.06-.94-2.06-.94-.94-2.06-.94 2.06-2.06.94z\"/><path d=\"M17.41 7.96l-1.37-1.37c-.4-.4-.92-.59-1.43-.59-.52 0-1.04.2-1.43.59L10.3 9.45l-7.72 7.72c-.78.78-.78 2.05 0 2.83L4 21.41c.39.39.9.59 1.41.59.51 0 1.02-.2 1.41-.59l7.78-7.78 2.81-2.81c.8-.78.8-2.07 0-2.86zM5.41 20L4 18.59l7.72-7.72 1.47 1.35L5.41 20z\"/>\n",
              "  </svg>\n",
              "      </button>\n",
              "      \n",
              "  <style>\n",
              "    .colab-df-container {\n",
              "      display:flex;\n",
              "      flex-wrap:wrap;\n",
              "      gap: 12px;\n",
              "    }\n",
              "\n",
              "    .colab-df-convert {\n",
              "      background-color: #E8F0FE;\n",
              "      border: none;\n",
              "      border-radius: 50%;\n",
              "      cursor: pointer;\n",
              "      display: none;\n",
              "      fill: #1967D2;\n",
              "      height: 32px;\n",
              "      padding: 0 0 0 0;\n",
              "      width: 32px;\n",
              "    }\n",
              "\n",
              "    .colab-df-convert:hover {\n",
              "      background-color: #E2EBFA;\n",
              "      box-shadow: 0px 1px 2px rgba(60, 64, 67, 0.3), 0px 1px 3px 1px rgba(60, 64, 67, 0.15);\n",
              "      fill: #174EA6;\n",
              "    }\n",
              "\n",
              "    [theme=dark] .colab-df-convert {\n",
              "      background-color: #3B4455;\n",
              "      fill: #D2E3FC;\n",
              "    }\n",
              "\n",
              "    [theme=dark] .colab-df-convert:hover {\n",
              "      background-color: #434B5C;\n",
              "      box-shadow: 0px 1px 3px 1px rgba(0, 0, 0, 0.15);\n",
              "      filter: drop-shadow(0px 1px 2px rgba(0, 0, 0, 0.3));\n",
              "      fill: #FFFFFF;\n",
              "    }\n",
              "  </style>\n",
              "\n",
              "      <script>\n",
              "        const buttonEl =\n",
              "          document.querySelector('#df-4fc25cbf-7965-4416-9b5f-472202cde50c button.colab-df-convert');\n",
              "        buttonEl.style.display =\n",
              "          google.colab.kernel.accessAllowed ? 'block' : 'none';\n",
              "\n",
              "        async function convertToInteractive(key) {\n",
              "          const element = document.querySelector('#df-4fc25cbf-7965-4416-9b5f-472202cde50c');\n",
              "          const dataTable =\n",
              "            await google.colab.kernel.invokeFunction('convertToInteractive',\n",
              "                                                     [key], {});\n",
              "          if (!dataTable) return;\n",
              "\n",
              "          const docLinkHtml = 'Like what you see? Visit the ' +\n",
              "            '<a target=\"_blank\" href=https://colab.research.google.com/notebooks/data_table.ipynb>data table notebook</a>'\n",
              "            + ' to learn more about interactive tables.';\n",
              "          element.innerHTML = '';\n",
              "          dataTable['output_type'] = 'display_data';\n",
              "          await google.colab.output.renderOutput(dataTable, element);\n",
              "          const docLink = document.createElement('div');\n",
              "          docLink.innerHTML = docLinkHtml;\n",
              "          element.appendChild(docLink);\n",
              "        }\n",
              "      </script>\n",
              "    </div>\n",
              "  </div>\n",
              "  "
            ],
            "text/plain": [
              "        id  member_id  loan_amnt  funded_amnt  funded_amnt_inv        term  \\\n",
              "0  1077501    1296599     5000.0       5000.0           4975.0   36 months   \n",
              "1  1077430    1314167     2500.0       2500.0           2500.0   60 months   \n",
              "2  1077175    1313524     2400.0       2400.0           2400.0   36 months   \n",
              "3  1076863    1277178    10000.0      10000.0          10000.0   36 months   \n",
              "4  1075358    1311748     3000.0       3000.0           3000.0   60 months   \n",
              "\n",
              "   int_rate  installment grade sub_grade                 emp_title emp_length  \\\n",
              "0     10.65       162.87     B        B2                       NaN  10+ years   \n",
              "1     15.27        59.83     C        C4                     Ryder   < 1 year   \n",
              "2     15.96        84.33     C        C5                       NaN  10+ years   \n",
              "3     13.49       339.31     C        C1       AIR RESOURCES BOARD  10+ years   \n",
              "4     12.69        67.79     B        B5  University Medical Group     1 year   \n",
              "\n",
              "  home_ownership  annual_inc verification_status   issue_d  loan_status  \\\n",
              "0           RENT     24000.0            Verified  Dec-2011   Fully Paid   \n",
              "1           RENT     30000.0     Source Verified  Dec-2011  Charged Off   \n",
              "2           RENT     12252.0        Not Verified  Dec-2011   Fully Paid   \n",
              "3           RENT     49200.0     Source Verified  Dec-2011   Fully Paid   \n",
              "4           RENT     80000.0     Source Verified  Dec-2011      Current   \n",
              "\n",
              "  pymnt_plan                                                url  \\\n",
              "0          n  https://www.lendingclub.com/browse/loanDetail....   \n",
              "1          n  https://www.lendingclub.com/browse/loanDetail....   \n",
              "2          n  https://www.lendingclub.com/browse/loanDetail....   \n",
              "3          n  https://www.lendingclub.com/browse/loanDetail....   \n",
              "4          n  https://www.lendingclub.com/browse/loanDetail....   \n",
              "\n",
              "                                                desc         purpose  \\\n",
              "0    Borrower added on 12/22/11 > I need to upgra...     credit_card   \n",
              "1    Borrower added on 12/22/11 > I plan to use t...             car   \n",
              "2                                                NaN  small_business   \n",
              "3    Borrower added on 12/21/11 > to pay for prop...           other   \n",
              "4    Borrower added on 12/21/11 > I plan on combi...           other   \n",
              "\n",
              "                  title zip_code addr_state    dti  delinq_2yrs  \\\n",
              "0              Computer    860xx         AZ  27.65          0.0   \n",
              "1                  bike    309xx         GA   1.00          0.0   \n",
              "2  real estate business    606xx         IL   8.72          0.0   \n",
              "3              personel    917xx         CA  20.00          0.0   \n",
              "4              Personal    972xx         OR  17.94          0.0   \n",
              "\n",
              "  earliest_cr_line  inq_last_6mths  mths_since_last_delinq  \\\n",
              "0         Jan-1985             1.0                     NaN   \n",
              "1         Apr-1999             5.0                     NaN   \n",
              "2         Nov-2001             2.0                     NaN   \n",
              "3         Feb-1996             1.0                    35.0   \n",
              "4         Jan-1996             0.0                    38.0   \n",
              "\n",
              "   mths_since_last_record  open_acc  pub_rec  revol_bal  revol_util  \\\n",
              "0                     NaN       3.0      0.0    13648.0        83.7   \n",
              "1                     NaN       3.0      0.0     1687.0         9.4   \n",
              "2                     NaN       2.0      0.0     2956.0        98.5   \n",
              "3                     NaN      10.0      0.0     5598.0        21.0   \n",
              "4                     NaN      15.0      0.0    27783.0        53.9   \n",
              "\n",
              "   total_acc initial_list_status  out_prncp  out_prncp_inv   total_pymnt  \\\n",
              "0        9.0                   f        0.0            0.0   5861.071414   \n",
              "1        4.0                   f        0.0            0.0   1008.710000   \n",
              "2       10.0                   f        0.0            0.0   3003.653644   \n",
              "3       37.0                   f        0.0            0.0  12226.302212   \n",
              "4       38.0                   f      766.9          766.9   3242.170000   \n",
              "\n",
              "   total_pymnt_inv  total_rec_prncp  total_rec_int  total_rec_late_fee  \\\n",
              "0          5831.78          5000.00         861.07                0.00   \n",
              "1          1008.71           456.46         435.17                0.00   \n",
              "2          3003.65          2400.00         603.65                0.00   \n",
              "3         12226.30         10000.00        2209.33               16.97   \n",
              "4          3242.17          2233.10        1009.07                0.00   \n",
              "\n",
              "   recoveries  collection_recovery_fee last_pymnt_d  last_pymnt_amnt  \\\n",
              "0        0.00                     0.00     Jan-2015           171.62   \n",
              "1      117.08                     1.11     Apr-2013           119.66   \n",
              "2        0.00                     0.00     Jun-2014           649.91   \n",
              "3        0.00                     0.00     Jan-2015           357.48   \n",
              "4        0.00                     0.00     Jan-2016            67.79   \n",
              "\n",
              "  next_pymnt_d last_credit_pull_d  collections_12_mths_ex_med  \\\n",
              "0          NaN           Jan-2016                         0.0   \n",
              "1          NaN           Sep-2013                         0.0   \n",
              "2          NaN           Jan-2016                         0.0   \n",
              "3          NaN           Jan-2015                         0.0   \n",
              "4     Feb-2016           Jan-2016                         0.0   \n",
              "\n",
              "   mths_since_last_major_derog  policy_code application_type  \\\n",
              "0                          NaN          1.0       INDIVIDUAL   \n",
              "1                          NaN          1.0       INDIVIDUAL   \n",
              "2                          NaN          1.0       INDIVIDUAL   \n",
              "3                          NaN          1.0       INDIVIDUAL   \n",
              "4                          NaN          1.0       INDIVIDUAL   \n",
              "\n",
              "   annual_inc_joint  dti_joint  verification_status_joint  acc_now_delinq  \\\n",
              "0               NaN        NaN                        NaN             0.0   \n",
              "1               NaN        NaN                        NaN             0.0   \n",
              "2               NaN        NaN                        NaN             0.0   \n",
              "3               NaN        NaN                        NaN             0.0   \n",
              "4               NaN        NaN                        NaN             0.0   \n",
              "\n",
              "   tot_coll_amt  tot_cur_bal  open_acc_6m  open_il_6m  open_il_12m  \\\n",
              "0           NaN          NaN          NaN         NaN          NaN   \n",
              "1           NaN          NaN          NaN         NaN          NaN   \n",
              "2           NaN          NaN          NaN         NaN          NaN   \n",
              "3           NaN          NaN          NaN         NaN          NaN   \n",
              "4           NaN          NaN          NaN         NaN          NaN   \n",
              "\n",
              "   open_il_24m  mths_since_rcnt_il  total_bal_il  il_util  open_rv_12m  \\\n",
              "0          NaN                 NaN           NaN      NaN          NaN   \n",
              "1          NaN                 NaN           NaN      NaN          NaN   \n",
              "2          NaN                 NaN           NaN      NaN          NaN   \n",
              "3          NaN                 NaN           NaN      NaN          NaN   \n",
              "4          NaN                 NaN           NaN      NaN          NaN   \n",
              "\n",
              "   open_rv_24m  max_bal_bc  all_util  total_rev_hi_lim  inq_fi  total_cu_tl  \\\n",
              "0          NaN         NaN       NaN               NaN     NaN          NaN   \n",
              "1          NaN         NaN       NaN               NaN     NaN          NaN   \n",
              "2          NaN         NaN       NaN               NaN     NaN          NaN   \n",
              "3          NaN         NaN       NaN               NaN     NaN          NaN   \n",
              "4          NaN         NaN       NaN               NaN     NaN          NaN   \n",
              "\n",
              "   inq_last_12m  \n",
              "0           NaN  \n",
              "1           NaN  \n",
              "2           NaN  \n",
              "3           NaN  \n",
              "4           NaN  "
            ]
          },
          "execution_count": 27,
          "metadata": {},
          "output_type": "execute_result"
        }
      ],
      "source": [
        "data.head()"
      ]
    },
    {
      "cell_type": "markdown",
      "metadata": {
        "id": "ob0bIcDsJVTt"
      },
      "source": [
        "# **Preparation of data for analysis**"
      ]
    },
    {
      "cell_type": "markdown",
      "source": [
        "###1. Default flag investigation and synthesis"
      ],
      "metadata": {
        "id": "t3iryOQMhFM7"
      }
    },
    {
      "cell_type": "code",
      "execution_count": null,
      "metadata": {
        "colab": {
          "base_uri": "https://localhost:8080/"
        },
        "id": "-k0emfrkKnvl",
        "outputId": "a050c6c4-6376-4310-ea75-0dabe80b06bf"
      },
      "outputs": [
        {
          "output_type": "execute_result",
          "data": {
            "text/plain": [
              "Current                                                601779\n",
              "Fully Paid                                             207723\n",
              "Charged Off                                             45248\n",
              "Late (31-120 days)                                      11591\n",
              "Issued                                                   8460\n",
              "In Grace Period                                          6253\n",
              "Late (16-30 days)                                        2357\n",
              "Does not meet the credit policy. Status:Fully Paid       1988\n",
              "Default                                                  1219\n",
              "Does not meet the credit policy. Status:Charged Off       761\n",
              "Name: loan_status, dtype: int64"
            ]
          },
          "metadata": {},
          "execution_count": 5
        }
      ],
      "source": [
        "data['loan_status'].value_counts()"
      ]
    },
    {
      "cell_type": "markdown",
      "metadata": {
        "id": "dc9LmZNsNd7L"
      },
      "source": [
        "Transforming 'loan_status' to 'default_flag' - dependent variable.\n",
        "A client who's status is default, charged off or late (be it 16 or 120 days) is cosindered a bad client. We're interested not only in clients defaulting but also those that are going to be late, since it's a sign a clieng may default, which means they are also worse than clients paying on time"
      ]
    },
    {
      "cell_type": "code",
      "source": [],
      "metadata": {
        "id": "EuTUt2epmtVK"
      },
      "execution_count": null,
      "outputs": []
    },
    {
      "cell_type": "code",
      "execution_count": null,
      "metadata": {
        "id": "9Kz9lF7fN8Y2"
      },
      "outputs": [],
      "source": [
        "data['default_flag']= data.apply(lambda row: int(row['loan_status'] in ['Charged Off','Late (31-120 days)', 'Late (16-30 days)', 'Default', 'Does not meet the credit policy. Status:Charged Off ']), axis=1)"
      ]
    },
    {
      "cell_type": "code",
      "execution_count": null,
      "metadata": {
        "colab": {
          "base_uri": "https://localhost:8080/",
          "height": 722
        },
        "id": "BRmyGIlEaWOZ",
        "outputId": "921edaf7-7705-4121-bc01-4e92c05f7813"
      },
      "outputs": [
        {
          "data": {
            "text/html": [
              "\n",
              "  <div id=\"df-c41d11df-e17e-499f-b3bd-0ece3df048d3\">\n",
              "    <div class=\"colab-df-container\">\n",
              "      <div>\n",
              "<style scoped>\n",
              "    .dataframe tbody tr th:only-of-type {\n",
              "        vertical-align: middle;\n",
              "    }\n",
              "\n",
              "    .dataframe tbody tr th {\n",
              "        vertical-align: top;\n",
              "    }\n",
              "\n",
              "    .dataframe thead th {\n",
              "        text-align: right;\n",
              "    }\n",
              "</style>\n",
              "<table border=\"1\" class=\"dataframe\">\n",
              "  <thead>\n",
              "    <tr style=\"text-align: right;\">\n",
              "      <th></th>\n",
              "      <th>id</th>\n",
              "      <th>member_id</th>\n",
              "      <th>loan_amnt</th>\n",
              "      <th>funded_amnt</th>\n",
              "      <th>funded_amnt_inv</th>\n",
              "      <th>term</th>\n",
              "      <th>int_rate</th>\n",
              "      <th>installment</th>\n",
              "      <th>grade</th>\n",
              "      <th>sub_grade</th>\n",
              "      <th>emp_title</th>\n",
              "      <th>emp_length</th>\n",
              "      <th>home_ownership</th>\n",
              "      <th>annual_inc</th>\n",
              "      <th>verification_status</th>\n",
              "      <th>issue_d</th>\n",
              "      <th>loan_status</th>\n",
              "      <th>pymnt_plan</th>\n",
              "      <th>url</th>\n",
              "      <th>desc</th>\n",
              "      <th>purpose</th>\n",
              "      <th>title</th>\n",
              "      <th>zip_code</th>\n",
              "      <th>addr_state</th>\n",
              "      <th>dti</th>\n",
              "      <th>delinq_2yrs</th>\n",
              "      <th>earliest_cr_line</th>\n",
              "      <th>inq_last_6mths</th>\n",
              "      <th>mths_since_last_delinq</th>\n",
              "      <th>mths_since_last_record</th>\n",
              "      <th>open_acc</th>\n",
              "      <th>pub_rec</th>\n",
              "      <th>revol_bal</th>\n",
              "      <th>revol_util</th>\n",
              "      <th>total_acc</th>\n",
              "      <th>initial_list_status</th>\n",
              "      <th>out_prncp</th>\n",
              "      <th>out_prncp_inv</th>\n",
              "      <th>total_pymnt</th>\n",
              "      <th>total_pymnt_inv</th>\n",
              "      <th>total_rec_prncp</th>\n",
              "      <th>total_rec_int</th>\n",
              "      <th>total_rec_late_fee</th>\n",
              "      <th>recoveries</th>\n",
              "      <th>collection_recovery_fee</th>\n",
              "      <th>last_pymnt_d</th>\n",
              "      <th>last_pymnt_amnt</th>\n",
              "      <th>next_pymnt_d</th>\n",
              "      <th>last_credit_pull_d</th>\n",
              "      <th>collections_12_mths_ex_med</th>\n",
              "      <th>mths_since_last_major_derog</th>\n",
              "      <th>policy_code</th>\n",
              "      <th>application_type</th>\n",
              "      <th>annual_inc_joint</th>\n",
              "      <th>dti_joint</th>\n",
              "      <th>verification_status_joint</th>\n",
              "      <th>acc_now_delinq</th>\n",
              "      <th>tot_coll_amt</th>\n",
              "      <th>tot_cur_bal</th>\n",
              "      <th>open_acc_6m</th>\n",
              "      <th>open_il_6m</th>\n",
              "      <th>open_il_12m</th>\n",
              "      <th>open_il_24m</th>\n",
              "      <th>mths_since_rcnt_il</th>\n",
              "      <th>total_bal_il</th>\n",
              "      <th>il_util</th>\n",
              "      <th>open_rv_12m</th>\n",
              "      <th>open_rv_24m</th>\n",
              "      <th>max_bal_bc</th>\n",
              "      <th>all_util</th>\n",
              "      <th>total_rev_hi_lim</th>\n",
              "      <th>inq_fi</th>\n",
              "      <th>total_cu_tl</th>\n",
              "      <th>inq_last_12m</th>\n",
              "      <th>default_flag</th>\n",
              "    </tr>\n",
              "  </thead>\n",
              "  <tbody>\n",
              "    <tr>\n",
              "      <th>0</th>\n",
              "      <td>1077501</td>\n",
              "      <td>1296599</td>\n",
              "      <td>5000.0</td>\n",
              "      <td>5000.0</td>\n",
              "      <td>4975.0</td>\n",
              "      <td>36 months</td>\n",
              "      <td>10.65</td>\n",
              "      <td>162.87</td>\n",
              "      <td>B</td>\n",
              "      <td>B2</td>\n",
              "      <td>NaN</td>\n",
              "      <td>10+ years</td>\n",
              "      <td>RENT</td>\n",
              "      <td>24000.0</td>\n",
              "      <td>Verified</td>\n",
              "      <td>Dec-2011</td>\n",
              "      <td>Fully Paid</td>\n",
              "      <td>n</td>\n",
              "      <td>https://www.lendingclub.com/browse/loanDetail....</td>\n",
              "      <td>Borrower added on 12/22/11 &gt; I need to upgra...</td>\n",
              "      <td>credit_card</td>\n",
              "      <td>Computer</td>\n",
              "      <td>860xx</td>\n",
              "      <td>AZ</td>\n",
              "      <td>27.65</td>\n",
              "      <td>0.0</td>\n",
              "      <td>Jan-1985</td>\n",
              "      <td>1.0</td>\n",
              "      <td>NaN</td>\n",
              "      <td>NaN</td>\n",
              "      <td>3.0</td>\n",
              "      <td>0.0</td>\n",
              "      <td>13648.0</td>\n",
              "      <td>83.7</td>\n",
              "      <td>9.0</td>\n",
              "      <td>f</td>\n",
              "      <td>0.0</td>\n",
              "      <td>0.0</td>\n",
              "      <td>5861.071414</td>\n",
              "      <td>5831.78</td>\n",
              "      <td>5000.00</td>\n",
              "      <td>861.07</td>\n",
              "      <td>0.00</td>\n",
              "      <td>0.00</td>\n",
              "      <td>0.00</td>\n",
              "      <td>Jan-2015</td>\n",
              "      <td>171.62</td>\n",
              "      <td>NaN</td>\n",
              "      <td>Jan-2016</td>\n",
              "      <td>0.0</td>\n",
              "      <td>NaN</td>\n",
              "      <td>1.0</td>\n",
              "      <td>INDIVIDUAL</td>\n",
              "      <td>NaN</td>\n",
              "      <td>NaN</td>\n",
              "      <td>NaN</td>\n",
              "      <td>0.0</td>\n",
              "      <td>NaN</td>\n",
              "      <td>NaN</td>\n",
              "      <td>NaN</td>\n",
              "      <td>NaN</td>\n",
              "      <td>NaN</td>\n",
              "      <td>NaN</td>\n",
              "      <td>NaN</td>\n",
              "      <td>NaN</td>\n",
              "      <td>NaN</td>\n",
              "      <td>NaN</td>\n",
              "      <td>NaN</td>\n",
              "      <td>NaN</td>\n",
              "      <td>NaN</td>\n",
              "      <td>NaN</td>\n",
              "      <td>NaN</td>\n",
              "      <td>NaN</td>\n",
              "      <td>NaN</td>\n",
              "      <td>0</td>\n",
              "    </tr>\n",
              "    <tr>\n",
              "      <th>1</th>\n",
              "      <td>1077430</td>\n",
              "      <td>1314167</td>\n",
              "      <td>2500.0</td>\n",
              "      <td>2500.0</td>\n",
              "      <td>2500.0</td>\n",
              "      <td>60 months</td>\n",
              "      <td>15.27</td>\n",
              "      <td>59.83</td>\n",
              "      <td>C</td>\n",
              "      <td>C4</td>\n",
              "      <td>Ryder</td>\n",
              "      <td>&lt; 1 year</td>\n",
              "      <td>RENT</td>\n",
              "      <td>30000.0</td>\n",
              "      <td>Source Verified</td>\n",
              "      <td>Dec-2011</td>\n",
              "      <td>Charged Off</td>\n",
              "      <td>n</td>\n",
              "      <td>https://www.lendingclub.com/browse/loanDetail....</td>\n",
              "      <td>Borrower added on 12/22/11 &gt; I plan to use t...</td>\n",
              "      <td>car</td>\n",
              "      <td>bike</td>\n",
              "      <td>309xx</td>\n",
              "      <td>GA</td>\n",
              "      <td>1.00</td>\n",
              "      <td>0.0</td>\n",
              "      <td>Apr-1999</td>\n",
              "      <td>5.0</td>\n",
              "      <td>NaN</td>\n",
              "      <td>NaN</td>\n",
              "      <td>3.0</td>\n",
              "      <td>0.0</td>\n",
              "      <td>1687.0</td>\n",
              "      <td>9.4</td>\n",
              "      <td>4.0</td>\n",
              "      <td>f</td>\n",
              "      <td>0.0</td>\n",
              "      <td>0.0</td>\n",
              "      <td>1008.710000</td>\n",
              "      <td>1008.71</td>\n",
              "      <td>456.46</td>\n",
              "      <td>435.17</td>\n",
              "      <td>0.00</td>\n",
              "      <td>117.08</td>\n",
              "      <td>1.11</td>\n",
              "      <td>Apr-2013</td>\n",
              "      <td>119.66</td>\n",
              "      <td>NaN</td>\n",
              "      <td>Sep-2013</td>\n",
              "      <td>0.0</td>\n",
              "      <td>NaN</td>\n",
              "      <td>1.0</td>\n",
              "      <td>INDIVIDUAL</td>\n",
              "      <td>NaN</td>\n",
              "      <td>NaN</td>\n",
              "      <td>NaN</td>\n",
              "      <td>0.0</td>\n",
              "      <td>NaN</td>\n",
              "      <td>NaN</td>\n",
              "      <td>NaN</td>\n",
              "      <td>NaN</td>\n",
              "      <td>NaN</td>\n",
              "      <td>NaN</td>\n",
              "      <td>NaN</td>\n",
              "      <td>NaN</td>\n",
              "      <td>NaN</td>\n",
              "      <td>NaN</td>\n",
              "      <td>NaN</td>\n",
              "      <td>NaN</td>\n",
              "      <td>NaN</td>\n",
              "      <td>NaN</td>\n",
              "      <td>NaN</td>\n",
              "      <td>NaN</td>\n",
              "      <td>NaN</td>\n",
              "      <td>1</td>\n",
              "    </tr>\n",
              "    <tr>\n",
              "      <th>2</th>\n",
              "      <td>1077175</td>\n",
              "      <td>1313524</td>\n",
              "      <td>2400.0</td>\n",
              "      <td>2400.0</td>\n",
              "      <td>2400.0</td>\n",
              "      <td>36 months</td>\n",
              "      <td>15.96</td>\n",
              "      <td>84.33</td>\n",
              "      <td>C</td>\n",
              "      <td>C5</td>\n",
              "      <td>NaN</td>\n",
              "      <td>10+ years</td>\n",
              "      <td>RENT</td>\n",
              "      <td>12252.0</td>\n",
              "      <td>Not Verified</td>\n",
              "      <td>Dec-2011</td>\n",
              "      <td>Fully Paid</td>\n",
              "      <td>n</td>\n",
              "      <td>https://www.lendingclub.com/browse/loanDetail....</td>\n",
              "      <td>NaN</td>\n",
              "      <td>small_business</td>\n",
              "      <td>real estate business</td>\n",
              "      <td>606xx</td>\n",
              "      <td>IL</td>\n",
              "      <td>8.72</td>\n",
              "      <td>0.0</td>\n",
              "      <td>Nov-2001</td>\n",
              "      <td>2.0</td>\n",
              "      <td>NaN</td>\n",
              "      <td>NaN</td>\n",
              "      <td>2.0</td>\n",
              "      <td>0.0</td>\n",
              "      <td>2956.0</td>\n",
              "      <td>98.5</td>\n",
              "      <td>10.0</td>\n",
              "      <td>f</td>\n",
              "      <td>0.0</td>\n",
              "      <td>0.0</td>\n",
              "      <td>3003.653644</td>\n",
              "      <td>3003.65</td>\n",
              "      <td>2400.00</td>\n",
              "      <td>603.65</td>\n",
              "      <td>0.00</td>\n",
              "      <td>0.00</td>\n",
              "      <td>0.00</td>\n",
              "      <td>Jun-2014</td>\n",
              "      <td>649.91</td>\n",
              "      <td>NaN</td>\n",
              "      <td>Jan-2016</td>\n",
              "      <td>0.0</td>\n",
              "      <td>NaN</td>\n",
              "      <td>1.0</td>\n",
              "      <td>INDIVIDUAL</td>\n",
              "      <td>NaN</td>\n",
              "      <td>NaN</td>\n",
              "      <td>NaN</td>\n",
              "      <td>0.0</td>\n",
              "      <td>NaN</td>\n",
              "      <td>NaN</td>\n",
              "      <td>NaN</td>\n",
              "      <td>NaN</td>\n",
              "      <td>NaN</td>\n",
              "      <td>NaN</td>\n",
              "      <td>NaN</td>\n",
              "      <td>NaN</td>\n",
              "      <td>NaN</td>\n",
              "      <td>NaN</td>\n",
              "      <td>NaN</td>\n",
              "      <td>NaN</td>\n",
              "      <td>NaN</td>\n",
              "      <td>NaN</td>\n",
              "      <td>NaN</td>\n",
              "      <td>NaN</td>\n",
              "      <td>NaN</td>\n",
              "      <td>0</td>\n",
              "    </tr>\n",
              "    <tr>\n",
              "      <th>3</th>\n",
              "      <td>1076863</td>\n",
              "      <td>1277178</td>\n",
              "      <td>10000.0</td>\n",
              "      <td>10000.0</td>\n",
              "      <td>10000.0</td>\n",
              "      <td>36 months</td>\n",
              "      <td>13.49</td>\n",
              "      <td>339.31</td>\n",
              "      <td>C</td>\n",
              "      <td>C1</td>\n",
              "      <td>AIR RESOURCES BOARD</td>\n",
              "      <td>10+ years</td>\n",
              "      <td>RENT</td>\n",
              "      <td>49200.0</td>\n",
              "      <td>Source Verified</td>\n",
              "      <td>Dec-2011</td>\n",
              "      <td>Fully Paid</td>\n",
              "      <td>n</td>\n",
              "      <td>https://www.lendingclub.com/browse/loanDetail....</td>\n",
              "      <td>Borrower added on 12/21/11 &gt; to pay for prop...</td>\n",
              "      <td>other</td>\n",
              "      <td>personel</td>\n",
              "      <td>917xx</td>\n",
              "      <td>CA</td>\n",
              "      <td>20.00</td>\n",
              "      <td>0.0</td>\n",
              "      <td>Feb-1996</td>\n",
              "      <td>1.0</td>\n",
              "      <td>35.0</td>\n",
              "      <td>NaN</td>\n",
              "      <td>10.0</td>\n",
              "      <td>0.0</td>\n",
              "      <td>5598.0</td>\n",
              "      <td>21.0</td>\n",
              "      <td>37.0</td>\n",
              "      <td>f</td>\n",
              "      <td>0.0</td>\n",
              "      <td>0.0</td>\n",
              "      <td>12226.302212</td>\n",
              "      <td>12226.30</td>\n",
              "      <td>10000.00</td>\n",
              "      <td>2209.33</td>\n",
              "      <td>16.97</td>\n",
              "      <td>0.00</td>\n",
              "      <td>0.00</td>\n",
              "      <td>Jan-2015</td>\n",
              "      <td>357.48</td>\n",
              "      <td>NaN</td>\n",
              "      <td>Jan-2015</td>\n",
              "      <td>0.0</td>\n",
              "      <td>NaN</td>\n",
              "      <td>1.0</td>\n",
              "      <td>INDIVIDUAL</td>\n",
              "      <td>NaN</td>\n",
              "      <td>NaN</td>\n",
              "      <td>NaN</td>\n",
              "      <td>0.0</td>\n",
              "      <td>NaN</td>\n",
              "      <td>NaN</td>\n",
              "      <td>NaN</td>\n",
              "      <td>NaN</td>\n",
              "      <td>NaN</td>\n",
              "      <td>NaN</td>\n",
              "      <td>NaN</td>\n",
              "      <td>NaN</td>\n",
              "      <td>NaN</td>\n",
              "      <td>NaN</td>\n",
              "      <td>NaN</td>\n",
              "      <td>NaN</td>\n",
              "      <td>NaN</td>\n",
              "      <td>NaN</td>\n",
              "      <td>NaN</td>\n",
              "      <td>NaN</td>\n",
              "      <td>NaN</td>\n",
              "      <td>0</td>\n",
              "    </tr>\n",
              "    <tr>\n",
              "      <th>4</th>\n",
              "      <td>1075358</td>\n",
              "      <td>1311748</td>\n",
              "      <td>3000.0</td>\n",
              "      <td>3000.0</td>\n",
              "      <td>3000.0</td>\n",
              "      <td>60 months</td>\n",
              "      <td>12.69</td>\n",
              "      <td>67.79</td>\n",
              "      <td>B</td>\n",
              "      <td>B5</td>\n",
              "      <td>University Medical Group</td>\n",
              "      <td>1 year</td>\n",
              "      <td>RENT</td>\n",
              "      <td>80000.0</td>\n",
              "      <td>Source Verified</td>\n",
              "      <td>Dec-2011</td>\n",
              "      <td>Current</td>\n",
              "      <td>n</td>\n",
              "      <td>https://www.lendingclub.com/browse/loanDetail....</td>\n",
              "      <td>Borrower added on 12/21/11 &gt; I plan on combi...</td>\n",
              "      <td>other</td>\n",
              "      <td>Personal</td>\n",
              "      <td>972xx</td>\n",
              "      <td>OR</td>\n",
              "      <td>17.94</td>\n",
              "      <td>0.0</td>\n",
              "      <td>Jan-1996</td>\n",
              "      <td>0.0</td>\n",
              "      <td>38.0</td>\n",
              "      <td>NaN</td>\n",
              "      <td>15.0</td>\n",
              "      <td>0.0</td>\n",
              "      <td>27783.0</td>\n",
              "      <td>53.9</td>\n",
              "      <td>38.0</td>\n",
              "      <td>f</td>\n",
              "      <td>766.9</td>\n",
              "      <td>766.9</td>\n",
              "      <td>3242.170000</td>\n",
              "      <td>3242.17</td>\n",
              "      <td>2233.10</td>\n",
              "      <td>1009.07</td>\n",
              "      <td>0.00</td>\n",
              "      <td>0.00</td>\n",
              "      <td>0.00</td>\n",
              "      <td>Jan-2016</td>\n",
              "      <td>67.79</td>\n",
              "      <td>Feb-2016</td>\n",
              "      <td>Jan-2016</td>\n",
              "      <td>0.0</td>\n",
              "      <td>NaN</td>\n",
              "      <td>1.0</td>\n",
              "      <td>INDIVIDUAL</td>\n",
              "      <td>NaN</td>\n",
              "      <td>NaN</td>\n",
              "      <td>NaN</td>\n",
              "      <td>0.0</td>\n",
              "      <td>NaN</td>\n",
              "      <td>NaN</td>\n",
              "      <td>NaN</td>\n",
              "      <td>NaN</td>\n",
              "      <td>NaN</td>\n",
              "      <td>NaN</td>\n",
              "      <td>NaN</td>\n",
              "      <td>NaN</td>\n",
              "      <td>NaN</td>\n",
              "      <td>NaN</td>\n",
              "      <td>NaN</td>\n",
              "      <td>NaN</td>\n",
              "      <td>NaN</td>\n",
              "      <td>NaN</td>\n",
              "      <td>NaN</td>\n",
              "      <td>NaN</td>\n",
              "      <td>NaN</td>\n",
              "      <td>0</td>\n",
              "    </tr>\n",
              "  </tbody>\n",
              "</table>\n",
              "</div>\n",
              "      <button class=\"colab-df-convert\" onclick=\"convertToInteractive('df-c41d11df-e17e-499f-b3bd-0ece3df048d3')\"\n",
              "              title=\"Convert this dataframe to an interactive table.\"\n",
              "              style=\"display:none;\">\n",
              "        \n",
              "  <svg xmlns=\"http://www.w3.org/2000/svg\" height=\"24px\"viewBox=\"0 0 24 24\"\n",
              "       width=\"24px\">\n",
              "    <path d=\"M0 0h24v24H0V0z\" fill=\"none\"/>\n",
              "    <path d=\"M18.56 5.44l.94 2.06.94-2.06 2.06-.94-2.06-.94-.94-2.06-.94 2.06-2.06.94zm-11 1L8.5 8.5l.94-2.06 2.06-.94-2.06-.94L8.5 2.5l-.94 2.06-2.06.94zm10 10l.94 2.06.94-2.06 2.06-.94-2.06-.94-.94-2.06-.94 2.06-2.06.94z\"/><path d=\"M17.41 7.96l-1.37-1.37c-.4-.4-.92-.59-1.43-.59-.52 0-1.04.2-1.43.59L10.3 9.45l-7.72 7.72c-.78.78-.78 2.05 0 2.83L4 21.41c.39.39.9.59 1.41.59.51 0 1.02-.2 1.41-.59l7.78-7.78 2.81-2.81c.8-.78.8-2.07 0-2.86zM5.41 20L4 18.59l7.72-7.72 1.47 1.35L5.41 20z\"/>\n",
              "  </svg>\n",
              "      </button>\n",
              "      \n",
              "  <style>\n",
              "    .colab-df-container {\n",
              "      display:flex;\n",
              "      flex-wrap:wrap;\n",
              "      gap: 12px;\n",
              "    }\n",
              "\n",
              "    .colab-df-convert {\n",
              "      background-color: #E8F0FE;\n",
              "      border: none;\n",
              "      border-radius: 50%;\n",
              "      cursor: pointer;\n",
              "      display: none;\n",
              "      fill: #1967D2;\n",
              "      height: 32px;\n",
              "      padding: 0 0 0 0;\n",
              "      width: 32px;\n",
              "    }\n",
              "\n",
              "    .colab-df-convert:hover {\n",
              "      background-color: #E2EBFA;\n",
              "      box-shadow: 0px 1px 2px rgba(60, 64, 67, 0.3), 0px 1px 3px 1px rgba(60, 64, 67, 0.15);\n",
              "      fill: #174EA6;\n",
              "    }\n",
              "\n",
              "    [theme=dark] .colab-df-convert {\n",
              "      background-color: #3B4455;\n",
              "      fill: #D2E3FC;\n",
              "    }\n",
              "\n",
              "    [theme=dark] .colab-df-convert:hover {\n",
              "      background-color: #434B5C;\n",
              "      box-shadow: 0px 1px 3px 1px rgba(0, 0, 0, 0.15);\n",
              "      filter: drop-shadow(0px 1px 2px rgba(0, 0, 0, 0.3));\n",
              "      fill: #FFFFFF;\n",
              "    }\n",
              "  </style>\n",
              "\n",
              "      <script>\n",
              "        const buttonEl =\n",
              "          document.querySelector('#df-c41d11df-e17e-499f-b3bd-0ece3df048d3 button.colab-df-convert');\n",
              "        buttonEl.style.display =\n",
              "          google.colab.kernel.accessAllowed ? 'block' : 'none';\n",
              "\n",
              "        async function convertToInteractive(key) {\n",
              "          const element = document.querySelector('#df-c41d11df-e17e-499f-b3bd-0ece3df048d3');\n",
              "          const dataTable =\n",
              "            await google.colab.kernel.invokeFunction('convertToInteractive',\n",
              "                                                     [key], {});\n",
              "          if (!dataTable) return;\n",
              "\n",
              "          const docLinkHtml = 'Like what you see? Visit the ' +\n",
              "            '<a target=\"_blank\" href=https://colab.research.google.com/notebooks/data_table.ipynb>data table notebook</a>'\n",
              "            + ' to learn more about interactive tables.';\n",
              "          element.innerHTML = '';\n",
              "          dataTable['output_type'] = 'display_data';\n",
              "          await google.colab.output.renderOutput(dataTable, element);\n",
              "          const docLink = document.createElement('div');\n",
              "          docLink.innerHTML = docLinkHtml;\n",
              "          element.appendChild(docLink);\n",
              "        }\n",
              "      </script>\n",
              "    </div>\n",
              "  </div>\n",
              "  "
            ],
            "text/plain": [
              "        id  member_id  loan_amnt  funded_amnt  funded_amnt_inv        term  \\\n",
              "0  1077501    1296599     5000.0       5000.0           4975.0   36 months   \n",
              "1  1077430    1314167     2500.0       2500.0           2500.0   60 months   \n",
              "2  1077175    1313524     2400.0       2400.0           2400.0   36 months   \n",
              "3  1076863    1277178    10000.0      10000.0          10000.0   36 months   \n",
              "4  1075358    1311748     3000.0       3000.0           3000.0   60 months   \n",
              "\n",
              "   int_rate  installment grade sub_grade                 emp_title emp_length  \\\n",
              "0     10.65       162.87     B        B2                       NaN  10+ years   \n",
              "1     15.27        59.83     C        C4                     Ryder   < 1 year   \n",
              "2     15.96        84.33     C        C5                       NaN  10+ years   \n",
              "3     13.49       339.31     C        C1       AIR RESOURCES BOARD  10+ years   \n",
              "4     12.69        67.79     B        B5  University Medical Group     1 year   \n",
              "\n",
              "  home_ownership  annual_inc verification_status   issue_d  loan_status  \\\n",
              "0           RENT     24000.0            Verified  Dec-2011   Fully Paid   \n",
              "1           RENT     30000.0     Source Verified  Dec-2011  Charged Off   \n",
              "2           RENT     12252.0        Not Verified  Dec-2011   Fully Paid   \n",
              "3           RENT     49200.0     Source Verified  Dec-2011   Fully Paid   \n",
              "4           RENT     80000.0     Source Verified  Dec-2011      Current   \n",
              "\n",
              "  pymnt_plan                                                url  \\\n",
              "0          n  https://www.lendingclub.com/browse/loanDetail....   \n",
              "1          n  https://www.lendingclub.com/browse/loanDetail....   \n",
              "2          n  https://www.lendingclub.com/browse/loanDetail....   \n",
              "3          n  https://www.lendingclub.com/browse/loanDetail....   \n",
              "4          n  https://www.lendingclub.com/browse/loanDetail....   \n",
              "\n",
              "                                                desc         purpose  \\\n",
              "0    Borrower added on 12/22/11 > I need to upgra...     credit_card   \n",
              "1    Borrower added on 12/22/11 > I plan to use t...             car   \n",
              "2                                                NaN  small_business   \n",
              "3    Borrower added on 12/21/11 > to pay for prop...           other   \n",
              "4    Borrower added on 12/21/11 > I plan on combi...           other   \n",
              "\n",
              "                  title zip_code addr_state    dti  delinq_2yrs  \\\n",
              "0              Computer    860xx         AZ  27.65          0.0   \n",
              "1                  bike    309xx         GA   1.00          0.0   \n",
              "2  real estate business    606xx         IL   8.72          0.0   \n",
              "3              personel    917xx         CA  20.00          0.0   \n",
              "4              Personal    972xx         OR  17.94          0.0   \n",
              "\n",
              "  earliest_cr_line  inq_last_6mths  mths_since_last_delinq  \\\n",
              "0         Jan-1985             1.0                     NaN   \n",
              "1         Apr-1999             5.0                     NaN   \n",
              "2         Nov-2001             2.0                     NaN   \n",
              "3         Feb-1996             1.0                    35.0   \n",
              "4         Jan-1996             0.0                    38.0   \n",
              "\n",
              "   mths_since_last_record  open_acc  pub_rec  revol_bal  revol_util  \\\n",
              "0                     NaN       3.0      0.0    13648.0        83.7   \n",
              "1                     NaN       3.0      0.0     1687.0         9.4   \n",
              "2                     NaN       2.0      0.0     2956.0        98.5   \n",
              "3                     NaN      10.0      0.0     5598.0        21.0   \n",
              "4                     NaN      15.0      0.0    27783.0        53.9   \n",
              "\n",
              "   total_acc initial_list_status  out_prncp  out_prncp_inv   total_pymnt  \\\n",
              "0        9.0                   f        0.0            0.0   5861.071414   \n",
              "1        4.0                   f        0.0            0.0   1008.710000   \n",
              "2       10.0                   f        0.0            0.0   3003.653644   \n",
              "3       37.0                   f        0.0            0.0  12226.302212   \n",
              "4       38.0                   f      766.9          766.9   3242.170000   \n",
              "\n",
              "   total_pymnt_inv  total_rec_prncp  total_rec_int  total_rec_late_fee  \\\n",
              "0          5831.78          5000.00         861.07                0.00   \n",
              "1          1008.71           456.46         435.17                0.00   \n",
              "2          3003.65          2400.00         603.65                0.00   \n",
              "3         12226.30         10000.00        2209.33               16.97   \n",
              "4          3242.17          2233.10        1009.07                0.00   \n",
              "\n",
              "   recoveries  collection_recovery_fee last_pymnt_d  last_pymnt_amnt  \\\n",
              "0        0.00                     0.00     Jan-2015           171.62   \n",
              "1      117.08                     1.11     Apr-2013           119.66   \n",
              "2        0.00                     0.00     Jun-2014           649.91   \n",
              "3        0.00                     0.00     Jan-2015           357.48   \n",
              "4        0.00                     0.00     Jan-2016            67.79   \n",
              "\n",
              "  next_pymnt_d last_credit_pull_d  collections_12_mths_ex_med  \\\n",
              "0          NaN           Jan-2016                         0.0   \n",
              "1          NaN           Sep-2013                         0.0   \n",
              "2          NaN           Jan-2016                         0.0   \n",
              "3          NaN           Jan-2015                         0.0   \n",
              "4     Feb-2016           Jan-2016                         0.0   \n",
              "\n",
              "   mths_since_last_major_derog  policy_code application_type  \\\n",
              "0                          NaN          1.0       INDIVIDUAL   \n",
              "1                          NaN          1.0       INDIVIDUAL   \n",
              "2                          NaN          1.0       INDIVIDUAL   \n",
              "3                          NaN          1.0       INDIVIDUAL   \n",
              "4                          NaN          1.0       INDIVIDUAL   \n",
              "\n",
              "   annual_inc_joint  dti_joint  verification_status_joint  acc_now_delinq  \\\n",
              "0               NaN        NaN                        NaN             0.0   \n",
              "1               NaN        NaN                        NaN             0.0   \n",
              "2               NaN        NaN                        NaN             0.0   \n",
              "3               NaN        NaN                        NaN             0.0   \n",
              "4               NaN        NaN                        NaN             0.0   \n",
              "\n",
              "   tot_coll_amt  tot_cur_bal  open_acc_6m  open_il_6m  open_il_12m  \\\n",
              "0           NaN          NaN          NaN         NaN          NaN   \n",
              "1           NaN          NaN          NaN         NaN          NaN   \n",
              "2           NaN          NaN          NaN         NaN          NaN   \n",
              "3           NaN          NaN          NaN         NaN          NaN   \n",
              "4           NaN          NaN          NaN         NaN          NaN   \n",
              "\n",
              "   open_il_24m  mths_since_rcnt_il  total_bal_il  il_util  open_rv_12m  \\\n",
              "0          NaN                 NaN           NaN      NaN          NaN   \n",
              "1          NaN                 NaN           NaN      NaN          NaN   \n",
              "2          NaN                 NaN           NaN      NaN          NaN   \n",
              "3          NaN                 NaN           NaN      NaN          NaN   \n",
              "4          NaN                 NaN           NaN      NaN          NaN   \n",
              "\n",
              "   open_rv_24m  max_bal_bc  all_util  total_rev_hi_lim  inq_fi  total_cu_tl  \\\n",
              "0          NaN         NaN       NaN               NaN     NaN          NaN   \n",
              "1          NaN         NaN       NaN               NaN     NaN          NaN   \n",
              "2          NaN         NaN       NaN               NaN     NaN          NaN   \n",
              "3          NaN         NaN       NaN               NaN     NaN          NaN   \n",
              "4          NaN         NaN       NaN               NaN     NaN          NaN   \n",
              "\n",
              "   inq_last_12m  default_flag  \n",
              "0           NaN             0  \n",
              "1           NaN             1  \n",
              "2           NaN             0  \n",
              "3           NaN             0  \n",
              "4           NaN             0  "
            ]
          },
          "execution_count": 30,
          "metadata": {},
          "output_type": "execute_result"
        }
      ],
      "source": [
        "data.head()"
      ]
    },
    {
      "cell_type": "markdown",
      "metadata": {
        "id": "jO4MjoaNacYf"
      },
      "source": [
        "investigate data types"
      ]
    },
    {
      "cell_type": "markdown",
      "source": [],
      "metadata": {
        "id": "o8H6nUUhhThp"
      }
    },
    {
      "cell_type": "markdown",
      "source": [
        "###2. Initial variables investigation"
      ],
      "metadata": {
        "id": "4UGTBxCNhTkJ"
      }
    },
    {
      "cell_type": "code",
      "execution_count": null,
      "metadata": {
        "colab": {
          "base_uri": "https://localhost:8080/"
        },
        "id": "tBkKBhVqafHg",
        "outputId": "be2f9cc4-f43b-44e4-9806-ceed787850f1"
      },
      "outputs": [
        {
          "name": "stdout",
          "output_type": "stream",
          "text": [
            "id                               int64\n",
            "member_id                        int64\n",
            "loan_amnt                      float64\n",
            "funded_amnt                    float64\n",
            "funded_amnt_inv                float64\n",
            "term                            object\n",
            "int_rate                       float64\n",
            "installment                    float64\n",
            "grade                           object\n",
            "sub_grade                       object\n",
            "emp_title                       object\n",
            "emp_length                      object\n",
            "home_ownership                  object\n",
            "annual_inc                     float64\n",
            "verification_status             object\n",
            "issue_d                         object\n",
            "loan_status                     object\n",
            "pymnt_plan                      object\n",
            "url                             object\n",
            "desc                            object\n",
            "purpose                         object\n",
            "title                           object\n",
            "zip_code                        object\n",
            "addr_state                      object\n",
            "dti                            float64\n",
            "delinq_2yrs                    float64\n",
            "earliest_cr_line                object\n",
            "inq_last_6mths                 float64\n",
            "mths_since_last_delinq         float64\n",
            "mths_since_last_record         float64\n",
            "open_acc                       float64\n",
            "pub_rec                        float64\n",
            "revol_bal                      float64\n",
            "revol_util                     float64\n",
            "total_acc                      float64\n",
            "initial_list_status             object\n",
            "out_prncp                      float64\n",
            "out_prncp_inv                  float64\n",
            "total_pymnt                    float64\n",
            "total_pymnt_inv                float64\n",
            "total_rec_prncp                float64\n",
            "total_rec_int                  float64\n",
            "total_rec_late_fee             float64\n",
            "recoveries                     float64\n",
            "collection_recovery_fee        float64\n",
            "last_pymnt_d                    object\n",
            "last_pymnt_amnt                float64\n",
            "next_pymnt_d                    object\n",
            "last_credit_pull_d              object\n",
            "collections_12_mths_ex_med     float64\n",
            "mths_since_last_major_derog    float64\n",
            "policy_code                    float64\n",
            "application_type                object\n",
            "annual_inc_joint               float64\n",
            "dti_joint                      float64\n",
            "verification_status_joint      float64\n",
            "acc_now_delinq                 float64\n",
            "tot_coll_amt                   float64\n",
            "tot_cur_bal                    float64\n",
            "open_acc_6m                    float64\n",
            "open_il_6m                     float64\n",
            "open_il_12m                    float64\n",
            "open_il_24m                    float64\n",
            "mths_since_rcnt_il             float64\n",
            "total_bal_il                   float64\n",
            "il_util                        float64\n",
            "open_rv_12m                    float64\n",
            "open_rv_24m                    float64\n",
            "max_bal_bc                     float64\n",
            "all_util                       float64\n",
            "total_rev_hi_lim               float64\n",
            "inq_fi                         float64\n",
            "total_cu_tl                    float64\n",
            "inq_last_12m                   float64\n",
            "default_flag                     int64\n",
            "dtype: object\n"
          ]
        }
      ],
      "source": [
        "print(data.dtypes)"
      ]
    },
    {
      "cell_type": "markdown",
      "metadata": {
        "id": "mvPAuqzcbIif"
      },
      "source": [
        "Investigate Grade"
      ]
    },
    {
      "cell_type": "code",
      "execution_count": null,
      "metadata": {
        "colab": {
          "base_uri": "https://localhost:8080/"
        },
        "id": "9yLaR-dhbKIT",
        "outputId": "5c3f44b4-7471-4e07-a5ed-9be15f1df093"
      },
      "outputs": [
        {
          "data": {
            "text/plain": [
              "B    3113\n",
              "A    2765\n",
              "C    1825\n",
              "D    1220\n",
              "E     718\n",
              "F     292\n",
              "G      67\n",
              "Name: grade, dtype: int64"
            ]
          },
          "execution_count": 34,
          "metadata": {},
          "output_type": "execute_result"
        }
      ],
      "source": [
        "data['grade'].value_counts()"
      ]
    },
    {
      "cell_type": "markdown",
      "metadata": {
        "id": "uvB0dgcwfuR4"
      },
      "source": []
    },
    {
      "cell_type": "code",
      "execution_count": null,
      "metadata": {
        "colab": {
          "base_uri": "https://localhost:8080/",
          "height": 364
        },
        "id": "GhspCT3fbUh1",
        "outputId": "cf177e38-3de8-4337-97a2-64bb3f6e191d"
      },
      "outputs": [
        {
          "data": {
            "text/html": [
              "\n",
              "  <div id=\"df-0acb4d4b-8ce5-4625-8a87-745854b392d2\">\n",
              "    <div class=\"colab-df-container\">\n",
              "      <div>\n",
              "<style scoped>\n",
              "    .dataframe tbody tr th:only-of-type {\n",
              "        vertical-align: middle;\n",
              "    }\n",
              "\n",
              "    .dataframe tbody tr th {\n",
              "        vertical-align: top;\n",
              "    }\n",
              "\n",
              "    .dataframe thead th {\n",
              "        text-align: right;\n",
              "    }\n",
              "</style>\n",
              "<table border=\"1\" class=\"dataframe\">\n",
              "  <thead>\n",
              "    <tr style=\"text-align: right;\">\n",
              "      <th></th>\n",
              "      <th>id</th>\n",
              "      <th>member_id</th>\n",
              "      <th>loan_amnt</th>\n",
              "      <th>funded_amnt</th>\n",
              "      <th>funded_amnt_inv</th>\n",
              "      <th>int_rate</th>\n",
              "      <th>installment</th>\n",
              "      <th>annual_inc</th>\n",
              "      <th>dti</th>\n",
              "      <th>delinq_2yrs</th>\n",
              "      <th>inq_last_6mths</th>\n",
              "      <th>mths_since_last_delinq</th>\n",
              "      <th>mths_since_last_record</th>\n",
              "      <th>open_acc</th>\n",
              "      <th>pub_rec</th>\n",
              "      <th>revol_bal</th>\n",
              "      <th>revol_util</th>\n",
              "      <th>total_acc</th>\n",
              "      <th>out_prncp</th>\n",
              "      <th>out_prncp_inv</th>\n",
              "      <th>total_pymnt</th>\n",
              "      <th>total_pymnt_inv</th>\n",
              "      <th>total_rec_prncp</th>\n",
              "      <th>total_rec_int</th>\n",
              "      <th>total_rec_late_fee</th>\n",
              "      <th>recoveries</th>\n",
              "      <th>collection_recovery_fee</th>\n",
              "      <th>last_pymnt_amnt</th>\n",
              "      <th>collections_12_mths_ex_med</th>\n",
              "      <th>mths_since_last_major_derog</th>\n",
              "      <th>policy_code</th>\n",
              "      <th>annual_inc_joint</th>\n",
              "      <th>dti_joint</th>\n",
              "      <th>verification_status_joint</th>\n",
              "      <th>acc_now_delinq</th>\n",
              "      <th>tot_coll_amt</th>\n",
              "      <th>tot_cur_bal</th>\n",
              "      <th>open_acc_6m</th>\n",
              "      <th>open_il_6m</th>\n",
              "      <th>open_il_12m</th>\n",
              "      <th>open_il_24m</th>\n",
              "      <th>mths_since_rcnt_il</th>\n",
              "      <th>total_bal_il</th>\n",
              "      <th>il_util</th>\n",
              "      <th>open_rv_12m</th>\n",
              "      <th>open_rv_24m</th>\n",
              "      <th>max_bal_bc</th>\n",
              "      <th>all_util</th>\n",
              "      <th>total_rev_hi_lim</th>\n",
              "      <th>inq_fi</th>\n",
              "      <th>total_cu_tl</th>\n",
              "      <th>inq_last_12m</th>\n",
              "      <th>default_flag</th>\n",
              "    </tr>\n",
              "  </thead>\n",
              "  <tbody>\n",
              "    <tr>\n",
              "      <th>count</th>\n",
              "      <td>1.000000e+04</td>\n",
              "      <td>1.000000e+04</td>\n",
              "      <td>10000.000000</td>\n",
              "      <td>10000.000000</td>\n",
              "      <td>10000.000000</td>\n",
              "      <td>10000.000000</td>\n",
              "      <td>10000.00000</td>\n",
              "      <td>1.000000e+04</td>\n",
              "      <td>10000.000000</td>\n",
              "      <td>10000.000000</td>\n",
              "      <td>10000.000000</td>\n",
              "      <td>3213.000000</td>\n",
              "      <td>460.000000</td>\n",
              "      <td>10000.000000</td>\n",
              "      <td>10000.000000</td>\n",
              "      <td>10000.000000</td>\n",
              "      <td>9997.000000</td>\n",
              "      <td>10000.000000</td>\n",
              "      <td>10000.000000</td>\n",
              "      <td>10000.000000</td>\n",
              "      <td>10000.000000</td>\n",
              "      <td>10000.000000</td>\n",
              "      <td>10000.000000</td>\n",
              "      <td>10000.000000</td>\n",
              "      <td>10000.000000</td>\n",
              "      <td>10000.000000</td>\n",
              "      <td>10000.000000</td>\n",
              "      <td>10000.000000</td>\n",
              "      <td>10000.0</td>\n",
              "      <td>0.0</td>\n",
              "      <td>10000.0</td>\n",
              "      <td>0.0</td>\n",
              "      <td>0.0</td>\n",
              "      <td>0.0</td>\n",
              "      <td>10000.0</td>\n",
              "      <td>0.0</td>\n",
              "      <td>0.0</td>\n",
              "      <td>0.0</td>\n",
              "      <td>0.0</td>\n",
              "      <td>0.0</td>\n",
              "      <td>0.0</td>\n",
              "      <td>0.0</td>\n",
              "      <td>0.0</td>\n",
              "      <td>0.0</td>\n",
              "      <td>0.0</td>\n",
              "      <td>0.0</td>\n",
              "      <td>0.0</td>\n",
              "      <td>0.0</td>\n",
              "      <td>0.0</td>\n",
              "      <td>0.0</td>\n",
              "      <td>0.0</td>\n",
              "      <td>0.0</td>\n",
              "      <td>10000.000000</td>\n",
              "    </tr>\n",
              "    <tr>\n",
              "      <th>mean</th>\n",
              "      <td>9.635445e+05</td>\n",
              "      <td>1.185210e+06</td>\n",
              "      <td>12861.637500</td>\n",
              "      <td>12687.660000</td>\n",
              "      <td>12604.045587</td>\n",
              "      <td>12.428547</td>\n",
              "      <td>363.81508</td>\n",
              "      <td>7.026650e+04</td>\n",
              "      <td>13.990554</td>\n",
              "      <td>0.133500</td>\n",
              "      <td>0.849600</td>\n",
              "      <td>37.519763</td>\n",
              "      <td>94.297826</td>\n",
              "      <td>9.472200</td>\n",
              "      <td>0.046800</td>\n",
              "      <td>14008.839200</td>\n",
              "      <td>52.684455</td>\n",
              "      <td>22.540600</td>\n",
              "      <td>392.935115</td>\n",
              "      <td>391.407178</td>\n",
              "      <td>13831.287565</td>\n",
              "      <td>13726.387386</td>\n",
              "      <td>10862.491155</td>\n",
              "      <td>2837.790120</td>\n",
              "      <td>1.036130</td>\n",
              "      <td>129.970174</td>\n",
              "      <td>11.280360</td>\n",
              "      <td>3305.547886</td>\n",
              "      <td>0.0</td>\n",
              "      <td>NaN</td>\n",
              "      <td>1.0</td>\n",
              "      <td>NaN</td>\n",
              "      <td>NaN</td>\n",
              "      <td>NaN</td>\n",
              "      <td>0.0</td>\n",
              "      <td>NaN</td>\n",
              "      <td>NaN</td>\n",
              "      <td>NaN</td>\n",
              "      <td>NaN</td>\n",
              "      <td>NaN</td>\n",
              "      <td>NaN</td>\n",
              "      <td>NaN</td>\n",
              "      <td>NaN</td>\n",
              "      <td>NaN</td>\n",
              "      <td>NaN</td>\n",
              "      <td>NaN</td>\n",
              "      <td>NaN</td>\n",
              "      <td>NaN</td>\n",
              "      <td>NaN</td>\n",
              "      <td>NaN</td>\n",
              "      <td>NaN</td>\n",
              "      <td>NaN</td>\n",
              "      <td>0.154900</td>\n",
              "    </tr>\n",
              "    <tr>\n",
              "      <th>std</th>\n",
              "      <td>7.933409e+04</td>\n",
              "      <td>8.805752e+04</td>\n",
              "      <td>8491.813747</td>\n",
              "      <td>8271.774837</td>\n",
              "      <td>8205.771867</td>\n",
              "      <td>4.239117</td>\n",
              "      <td>226.20985</td>\n",
              "      <td>4.832114e+04</td>\n",
              "      <td>6.612879</td>\n",
              "      <td>0.459673</td>\n",
              "      <td>1.040427</td>\n",
              "      <td>21.477246</td>\n",
              "      <td>20.355030</td>\n",
              "      <td>4.264885</td>\n",
              "      <td>0.214975</td>\n",
              "      <td>15205.930733</td>\n",
              "      <td>27.544090</td>\n",
              "      <td>11.098264</td>\n",
              "      <td>1348.448687</td>\n",
              "      <td>1344.131919</td>\n",
              "      <td>10177.614310</td>\n",
              "      <td>10074.725956</td>\n",
              "      <td>7855.519127</td>\n",
              "      <td>3260.981728</td>\n",
              "      <td>6.211648</td>\n",
              "      <td>833.797048</td>\n",
              "      <td>101.370626</td>\n",
              "      <td>5302.132587</td>\n",
              "      <td>0.0</td>\n",
              "      <td>NaN</td>\n",
              "      <td>0.0</td>\n",
              "      <td>NaN</td>\n",
              "      <td>NaN</td>\n",
              "      <td>NaN</td>\n",
              "      <td>0.0</td>\n",
              "      <td>NaN</td>\n",
              "      <td>NaN</td>\n",
              "      <td>NaN</td>\n",
              "      <td>NaN</td>\n",
              "      <td>NaN</td>\n",
              "      <td>NaN</td>\n",
              "      <td>NaN</td>\n",
              "      <td>NaN</td>\n",
              "      <td>NaN</td>\n",
              "      <td>NaN</td>\n",
              "      <td>NaN</td>\n",
              "      <td>NaN</td>\n",
              "      <td>NaN</td>\n",
              "      <td>NaN</td>\n",
              "      <td>NaN</td>\n",
              "      <td>NaN</td>\n",
              "      <td>NaN</td>\n",
              "      <td>0.361827</td>\n",
              "    </tr>\n",
              "    <tr>\n",
              "      <th>min</th>\n",
              "      <td>4.581650e+05</td>\n",
              "      <td>3.940260e+05</td>\n",
              "      <td>1000.000000</td>\n",
              "      <td>1000.000000</td>\n",
              "      <td>750.000000</td>\n",
              "      <td>5.420000</td>\n",
              "      <td>22.24000</td>\n",
              "      <td>6.000000e+03</td>\n",
              "      <td>0.000000</td>\n",
              "      <td>0.000000</td>\n",
              "      <td>0.000000</td>\n",
              "      <td>1.000000</td>\n",
              "      <td>11.000000</td>\n",
              "      <td>2.000000</td>\n",
              "      <td>0.000000</td>\n",
              "      <td>0.000000</td>\n",
              "      <td>0.000000</td>\n",
              "      <td>3.000000</td>\n",
              "      <td>0.000000</td>\n",
              "      <td>0.000000</td>\n",
              "      <td>0.000000</td>\n",
              "      <td>0.000000</td>\n",
              "      <td>0.000000</td>\n",
              "      <td>0.000000</td>\n",
              "      <td>0.000000</td>\n",
              "      <td>0.000000</td>\n",
              "      <td>0.000000</td>\n",
              "      <td>0.000000</td>\n",
              "      <td>0.0</td>\n",
              "      <td>NaN</td>\n",
              "      <td>1.0</td>\n",
              "      <td>NaN</td>\n",
              "      <td>NaN</td>\n",
              "      <td>NaN</td>\n",
              "      <td>0.0</td>\n",
              "      <td>NaN</td>\n",
              "      <td>NaN</td>\n",
              "      <td>NaN</td>\n",
              "      <td>NaN</td>\n",
              "      <td>NaN</td>\n",
              "      <td>NaN</td>\n",
              "      <td>NaN</td>\n",
              "      <td>NaN</td>\n",
              "      <td>NaN</td>\n",
              "      <td>NaN</td>\n",
              "      <td>NaN</td>\n",
              "      <td>NaN</td>\n",
              "      <td>NaN</td>\n",
              "      <td>NaN</td>\n",
              "      <td>NaN</td>\n",
              "      <td>NaN</td>\n",
              "      <td>NaN</td>\n",
              "      <td>0.000000</td>\n",
              "    </tr>\n",
              "    <tr>\n",
              "      <th>25%</th>\n",
              "      <td>8.781782e+05</td>\n",
              "      <td>1.092339e+06</td>\n",
              "      <td>6000.000000</td>\n",
              "      <td>6000.000000</td>\n",
              "      <td>6000.000000</td>\n",
              "      <td>8.900000</td>\n",
              "      <td>193.58000</td>\n",
              "      <td>4.200000e+04</td>\n",
              "      <td>8.940000</td>\n",
              "      <td>0.000000</td>\n",
              "      <td>0.000000</td>\n",
              "      <td>20.000000</td>\n",
              "      <td>88.000000</td>\n",
              "      <td>6.000000</td>\n",
              "      <td>0.000000</td>\n",
              "      <td>4767.750000</td>\n",
              "      <td>31.200000</td>\n",
              "      <td>14.000000</td>\n",
              "      <td>0.000000</td>\n",
              "      <td>0.000000</td>\n",
              "      <td>6122.035000</td>\n",
              "      <td>6082.380000</td>\n",
              "      <td>5000.000000</td>\n",
              "      <td>739.217500</td>\n",
              "      <td>0.000000</td>\n",
              "      <td>0.000000</td>\n",
              "      <td>0.000000</td>\n",
              "      <td>276.060000</td>\n",
              "      <td>0.0</td>\n",
              "      <td>NaN</td>\n",
              "      <td>1.0</td>\n",
              "      <td>NaN</td>\n",
              "      <td>NaN</td>\n",
              "      <td>NaN</td>\n",
              "      <td>0.0</td>\n",
              "      <td>NaN</td>\n",
              "      <td>NaN</td>\n",
              "      <td>NaN</td>\n",
              "      <td>NaN</td>\n",
              "      <td>NaN</td>\n",
              "      <td>NaN</td>\n",
              "      <td>NaN</td>\n",
              "      <td>NaN</td>\n",
              "      <td>NaN</td>\n",
              "      <td>NaN</td>\n",
              "      <td>NaN</td>\n",
              "      <td>NaN</td>\n",
              "      <td>NaN</td>\n",
              "      <td>NaN</td>\n",
              "      <td>NaN</td>\n",
              "      <td>NaN</td>\n",
              "      <td>NaN</td>\n",
              "      <td>0.000000</td>\n",
              "    </tr>\n",
              "    <tr>\n",
              "      <th>50%</th>\n",
              "      <td>9.879250e+05</td>\n",
              "      <td>1.211594e+06</td>\n",
              "      <td>11200.000000</td>\n",
              "      <td>11075.000000</td>\n",
              "      <td>11000.000000</td>\n",
              "      <td>12.420000</td>\n",
              "      <td>322.25000</td>\n",
              "      <td>6.000000e+04</td>\n",
              "      <td>14.020000</td>\n",
              "      <td>0.000000</td>\n",
              "      <td>1.000000</td>\n",
              "      <td>35.000000</td>\n",
              "      <td>98.000000</td>\n",
              "      <td>9.000000</td>\n",
              "      <td>0.000000</td>\n",
              "      <td>10160.500000</td>\n",
              "      <td>55.000000</td>\n",
              "      <td>21.000000</td>\n",
              "      <td>0.000000</td>\n",
              "      <td>0.000000</td>\n",
              "      <td>11337.250000</td>\n",
              "      <td>11263.575000</td>\n",
              "      <td>9499.995000</td>\n",
              "      <td>1594.050000</td>\n",
              "      <td>0.000000</td>\n",
              "      <td>0.000000</td>\n",
              "      <td>0.000000</td>\n",
              "      <td>639.645000</td>\n",
              "      <td>0.0</td>\n",
              "      <td>NaN</td>\n",
              "      <td>1.0</td>\n",
              "      <td>NaN</td>\n",
              "      <td>NaN</td>\n",
              "      <td>NaN</td>\n",
              "      <td>0.0</td>\n",
              "      <td>NaN</td>\n",
              "      <td>NaN</td>\n",
              "      <td>NaN</td>\n",
              "      <td>NaN</td>\n",
              "      <td>NaN</td>\n",
              "      <td>NaN</td>\n",
              "      <td>NaN</td>\n",
              "      <td>NaN</td>\n",
              "      <td>NaN</td>\n",
              "      <td>NaN</td>\n",
              "      <td>NaN</td>\n",
              "      <td>NaN</td>\n",
              "      <td>NaN</td>\n",
              "      <td>NaN</td>\n",
              "      <td>NaN</td>\n",
              "      <td>NaN</td>\n",
              "      <td>NaN</td>\n",
              "      <td>0.000000</td>\n",
              "    </tr>\n",
              "    <tr>\n",
              "      <th>75%</th>\n",
              "      <td>1.033696e+06</td>\n",
              "      <td>1.263089e+06</td>\n",
              "      <td>17500.000000</td>\n",
              "      <td>17000.000000</td>\n",
              "      <td>16950.000000</td>\n",
              "      <td>15.270000</td>\n",
              "      <td>480.33000</td>\n",
              "      <td>8.450000e+04</td>\n",
              "      <td>19.150000</td>\n",
              "      <td>0.000000</td>\n",
              "      <td>1.000000</td>\n",
              "      <td>53.000000</td>\n",
              "      <td>109.000000</td>\n",
              "      <td>12.000000</td>\n",
              "      <td>0.000000</td>\n",
              "      <td>17815.250000</td>\n",
              "      <td>75.200000</td>\n",
              "      <td>29.000000</td>\n",
              "      <td>0.000000</td>\n",
              "      <td>0.000000</td>\n",
              "      <td>18625.890397</td>\n",
              "      <td>18452.647500</td>\n",
              "      <td>15000.000000</td>\n",
              "      <td>3655.675000</td>\n",
              "      <td>0.000000</td>\n",
              "      <td>0.000000</td>\n",
              "      <td>0.000000</td>\n",
              "      <td>4241.470000</td>\n",
              "      <td>0.0</td>\n",
              "      <td>NaN</td>\n",
              "      <td>1.0</td>\n",
              "      <td>NaN</td>\n",
              "      <td>NaN</td>\n",
              "      <td>NaN</td>\n",
              "      <td>0.0</td>\n",
              "      <td>NaN</td>\n",
              "      <td>NaN</td>\n",
              "      <td>NaN</td>\n",
              "      <td>NaN</td>\n",
              "      <td>NaN</td>\n",
              "      <td>NaN</td>\n",
              "      <td>NaN</td>\n",
              "      <td>NaN</td>\n",
              "      <td>NaN</td>\n",
              "      <td>NaN</td>\n",
              "      <td>NaN</td>\n",
              "      <td>NaN</td>\n",
              "      <td>NaN</td>\n",
              "      <td>NaN</td>\n",
              "      <td>NaN</td>\n",
              "      <td>NaN</td>\n",
              "      <td>NaN</td>\n",
              "      <td>0.000000</td>\n",
              "    </tr>\n",
              "    <tr>\n",
              "      <th>max</th>\n",
              "      <td>1.077501e+06</td>\n",
              "      <td>1.314167e+06</td>\n",
              "      <td>35000.000000</td>\n",
              "      <td>35000.000000</td>\n",
              "      <td>35000.000000</td>\n",
              "      <td>24.110000</td>\n",
              "      <td>1288.10000</td>\n",
              "      <td>1.782000e+06</td>\n",
              "      <td>29.920000</td>\n",
              "      <td>6.000000</td>\n",
              "      <td>8.000000</td>\n",
              "      <td>115.000000</td>\n",
              "      <td>119.000000</td>\n",
              "      <td>34.000000</td>\n",
              "      <td>2.000000</td>\n",
              "      <td>148804.000000</td>\n",
              "      <td>99.900000</td>\n",
              "      <td>79.000000</td>\n",
              "      <td>10418.060000</td>\n",
              "      <td>10410.560000</td>\n",
              "      <td>56809.051629</td>\n",
              "      <td>56475.050000</td>\n",
              "      <td>35000.010000</td>\n",
              "      <td>22930.840000</td>\n",
              "      <td>146.040000</td>\n",
              "      <td>29623.350000</td>\n",
              "      <td>3926.150000</td>\n",
              "      <td>36115.200000</td>\n",
              "      <td>0.0</td>\n",
              "      <td>NaN</td>\n",
              "      <td>1.0</td>\n",
              "      <td>NaN</td>\n",
              "      <td>NaN</td>\n",
              "      <td>NaN</td>\n",
              "      <td>0.0</td>\n",
              "      <td>NaN</td>\n",
              "      <td>NaN</td>\n",
              "      <td>NaN</td>\n",
              "      <td>NaN</td>\n",
              "      <td>NaN</td>\n",
              "      <td>NaN</td>\n",
              "      <td>NaN</td>\n",
              "      <td>NaN</td>\n",
              "      <td>NaN</td>\n",
              "      <td>NaN</td>\n",
              "      <td>NaN</td>\n",
              "      <td>NaN</td>\n",
              "      <td>NaN</td>\n",
              "      <td>NaN</td>\n",
              "      <td>NaN</td>\n",
              "      <td>NaN</td>\n",
              "      <td>NaN</td>\n",
              "      <td>1.000000</td>\n",
              "    </tr>\n",
              "  </tbody>\n",
              "</table>\n",
              "</div>\n",
              "      <button class=\"colab-df-convert\" onclick=\"convertToInteractive('df-0acb4d4b-8ce5-4625-8a87-745854b392d2')\"\n",
              "              title=\"Convert this dataframe to an interactive table.\"\n",
              "              style=\"display:none;\">\n",
              "        \n",
              "  <svg xmlns=\"http://www.w3.org/2000/svg\" height=\"24px\"viewBox=\"0 0 24 24\"\n",
              "       width=\"24px\">\n",
              "    <path d=\"M0 0h24v24H0V0z\" fill=\"none\"/>\n",
              "    <path d=\"M18.56 5.44l.94 2.06.94-2.06 2.06-.94-2.06-.94-.94-2.06-.94 2.06-2.06.94zm-11 1L8.5 8.5l.94-2.06 2.06-.94-2.06-.94L8.5 2.5l-.94 2.06-2.06.94zm10 10l.94 2.06.94-2.06 2.06-.94-2.06-.94-.94-2.06-.94 2.06-2.06.94z\"/><path d=\"M17.41 7.96l-1.37-1.37c-.4-.4-.92-.59-1.43-.59-.52 0-1.04.2-1.43.59L10.3 9.45l-7.72 7.72c-.78.78-.78 2.05 0 2.83L4 21.41c.39.39.9.59 1.41.59.51 0 1.02-.2 1.41-.59l7.78-7.78 2.81-2.81c.8-.78.8-2.07 0-2.86zM5.41 20L4 18.59l7.72-7.72 1.47 1.35L5.41 20z\"/>\n",
              "  </svg>\n",
              "      </button>\n",
              "      \n",
              "  <style>\n",
              "    .colab-df-container {\n",
              "      display:flex;\n",
              "      flex-wrap:wrap;\n",
              "      gap: 12px;\n",
              "    }\n",
              "\n",
              "    .colab-df-convert {\n",
              "      background-color: #E8F0FE;\n",
              "      border: none;\n",
              "      border-radius: 50%;\n",
              "      cursor: pointer;\n",
              "      display: none;\n",
              "      fill: #1967D2;\n",
              "      height: 32px;\n",
              "      padding: 0 0 0 0;\n",
              "      width: 32px;\n",
              "    }\n",
              "\n",
              "    .colab-df-convert:hover {\n",
              "      background-color: #E2EBFA;\n",
              "      box-shadow: 0px 1px 2px rgba(60, 64, 67, 0.3), 0px 1px 3px 1px rgba(60, 64, 67, 0.15);\n",
              "      fill: #174EA6;\n",
              "    }\n",
              "\n",
              "    [theme=dark] .colab-df-convert {\n",
              "      background-color: #3B4455;\n",
              "      fill: #D2E3FC;\n",
              "    }\n",
              "\n",
              "    [theme=dark] .colab-df-convert:hover {\n",
              "      background-color: #434B5C;\n",
              "      box-shadow: 0px 1px 3px 1px rgba(0, 0, 0, 0.15);\n",
              "      filter: drop-shadow(0px 1px 2px rgba(0, 0, 0, 0.3));\n",
              "      fill: #FFFFFF;\n",
              "    }\n",
              "  </style>\n",
              "\n",
              "      <script>\n",
              "        const buttonEl =\n",
              "          document.querySelector('#df-0acb4d4b-8ce5-4625-8a87-745854b392d2 button.colab-df-convert');\n",
              "        buttonEl.style.display =\n",
              "          google.colab.kernel.accessAllowed ? 'block' : 'none';\n",
              "\n",
              "        async function convertToInteractive(key) {\n",
              "          const element = document.querySelector('#df-0acb4d4b-8ce5-4625-8a87-745854b392d2');\n",
              "          const dataTable =\n",
              "            await google.colab.kernel.invokeFunction('convertToInteractive',\n",
              "                                                     [key], {});\n",
              "          if (!dataTable) return;\n",
              "\n",
              "          const docLinkHtml = 'Like what you see? Visit the ' +\n",
              "            '<a target=\"_blank\" href=https://colab.research.google.com/notebooks/data_table.ipynb>data table notebook</a>'\n",
              "            + ' to learn more about interactive tables.';\n",
              "          element.innerHTML = '';\n",
              "          dataTable['output_type'] = 'display_data';\n",
              "          await google.colab.output.renderOutput(dataTable, element);\n",
              "          const docLink = document.createElement('div');\n",
              "          docLink.innerHTML = docLinkHtml;\n",
              "          element.appendChild(docLink);\n",
              "        }\n",
              "      </script>\n",
              "    </div>\n",
              "  </div>\n",
              "  "
            ],
            "text/plain": [
              "                 id     member_id     loan_amnt   funded_amnt  \\\n",
              "count  1.000000e+04  1.000000e+04  10000.000000  10000.000000   \n",
              "mean   9.635445e+05  1.185210e+06  12861.637500  12687.660000   \n",
              "std    7.933409e+04  8.805752e+04   8491.813747   8271.774837   \n",
              "min    4.581650e+05  3.940260e+05   1000.000000   1000.000000   \n",
              "25%    8.781782e+05  1.092339e+06   6000.000000   6000.000000   \n",
              "50%    9.879250e+05  1.211594e+06  11200.000000  11075.000000   \n",
              "75%    1.033696e+06  1.263089e+06  17500.000000  17000.000000   \n",
              "max    1.077501e+06  1.314167e+06  35000.000000  35000.000000   \n",
              "\n",
              "       funded_amnt_inv      int_rate  installment    annual_inc           dti  \\\n",
              "count     10000.000000  10000.000000  10000.00000  1.000000e+04  10000.000000   \n",
              "mean      12604.045587     12.428547    363.81508  7.026650e+04     13.990554   \n",
              "std        8205.771867      4.239117    226.20985  4.832114e+04      6.612879   \n",
              "min         750.000000      5.420000     22.24000  6.000000e+03      0.000000   \n",
              "25%        6000.000000      8.900000    193.58000  4.200000e+04      8.940000   \n",
              "50%       11000.000000     12.420000    322.25000  6.000000e+04     14.020000   \n",
              "75%       16950.000000     15.270000    480.33000  8.450000e+04     19.150000   \n",
              "max       35000.000000     24.110000   1288.10000  1.782000e+06     29.920000   \n",
              "\n",
              "        delinq_2yrs  inq_last_6mths  mths_since_last_delinq  \\\n",
              "count  10000.000000    10000.000000             3213.000000   \n",
              "mean       0.133500        0.849600               37.519763   \n",
              "std        0.459673        1.040427               21.477246   \n",
              "min        0.000000        0.000000                1.000000   \n",
              "25%        0.000000        0.000000               20.000000   \n",
              "50%        0.000000        1.000000               35.000000   \n",
              "75%        0.000000        1.000000               53.000000   \n",
              "max        6.000000        8.000000              115.000000   \n",
              "\n",
              "       mths_since_last_record      open_acc       pub_rec      revol_bal  \\\n",
              "count              460.000000  10000.000000  10000.000000   10000.000000   \n",
              "mean                94.297826      9.472200      0.046800   14008.839200   \n",
              "std                 20.355030      4.264885      0.214975   15205.930733   \n",
              "min                 11.000000      2.000000      0.000000       0.000000   \n",
              "25%                 88.000000      6.000000      0.000000    4767.750000   \n",
              "50%                 98.000000      9.000000      0.000000   10160.500000   \n",
              "75%                109.000000     12.000000      0.000000   17815.250000   \n",
              "max                119.000000     34.000000      2.000000  148804.000000   \n",
              "\n",
              "        revol_util     total_acc     out_prncp  out_prncp_inv   total_pymnt  \\\n",
              "count  9997.000000  10000.000000  10000.000000   10000.000000  10000.000000   \n",
              "mean     52.684455     22.540600    392.935115     391.407178  13831.287565   \n",
              "std      27.544090     11.098264   1348.448687    1344.131919  10177.614310   \n",
              "min       0.000000      3.000000      0.000000       0.000000      0.000000   \n",
              "25%      31.200000     14.000000      0.000000       0.000000   6122.035000   \n",
              "50%      55.000000     21.000000      0.000000       0.000000  11337.250000   \n",
              "75%      75.200000     29.000000      0.000000       0.000000  18625.890397   \n",
              "max      99.900000     79.000000  10418.060000   10410.560000  56809.051629   \n",
              "\n",
              "       total_pymnt_inv  total_rec_prncp  total_rec_int  total_rec_late_fee  \\\n",
              "count     10000.000000     10000.000000   10000.000000        10000.000000   \n",
              "mean      13726.387386     10862.491155    2837.790120            1.036130   \n",
              "std       10074.725956      7855.519127    3260.981728            6.211648   \n",
              "min           0.000000         0.000000       0.000000            0.000000   \n",
              "25%        6082.380000      5000.000000     739.217500            0.000000   \n",
              "50%       11263.575000      9499.995000    1594.050000            0.000000   \n",
              "75%       18452.647500     15000.000000    3655.675000            0.000000   \n",
              "max       56475.050000     35000.010000   22930.840000          146.040000   \n",
              "\n",
              "         recoveries  collection_recovery_fee  last_pymnt_amnt  \\\n",
              "count  10000.000000             10000.000000     10000.000000   \n",
              "mean     129.970174                11.280360      3305.547886   \n",
              "std      833.797048               101.370626      5302.132587   \n",
              "min        0.000000                 0.000000         0.000000   \n",
              "25%        0.000000                 0.000000       276.060000   \n",
              "50%        0.000000                 0.000000       639.645000   \n",
              "75%        0.000000                 0.000000      4241.470000   \n",
              "max    29623.350000              3926.150000     36115.200000   \n",
              "\n",
              "       collections_12_mths_ex_med  mths_since_last_major_derog  policy_code  \\\n",
              "count                     10000.0                          0.0      10000.0   \n",
              "mean                          0.0                          NaN          1.0   \n",
              "std                           0.0                          NaN          0.0   \n",
              "min                           0.0                          NaN          1.0   \n",
              "25%                           0.0                          NaN          1.0   \n",
              "50%                           0.0                          NaN          1.0   \n",
              "75%                           0.0                          NaN          1.0   \n",
              "max                           0.0                          NaN          1.0   \n",
              "\n",
              "       annual_inc_joint  dti_joint  verification_status_joint  acc_now_delinq  \\\n",
              "count               0.0        0.0                        0.0         10000.0   \n",
              "mean                NaN        NaN                        NaN             0.0   \n",
              "std                 NaN        NaN                        NaN             0.0   \n",
              "min                 NaN        NaN                        NaN             0.0   \n",
              "25%                 NaN        NaN                        NaN             0.0   \n",
              "50%                 NaN        NaN                        NaN             0.0   \n",
              "75%                 NaN        NaN                        NaN             0.0   \n",
              "max                 NaN        NaN                        NaN             0.0   \n",
              "\n",
              "       tot_coll_amt  tot_cur_bal  open_acc_6m  open_il_6m  open_il_12m  \\\n",
              "count           0.0          0.0          0.0         0.0          0.0   \n",
              "mean            NaN          NaN          NaN         NaN          NaN   \n",
              "std             NaN          NaN          NaN         NaN          NaN   \n",
              "min             NaN          NaN          NaN         NaN          NaN   \n",
              "25%             NaN          NaN          NaN         NaN          NaN   \n",
              "50%             NaN          NaN          NaN         NaN          NaN   \n",
              "75%             NaN          NaN          NaN         NaN          NaN   \n",
              "max             NaN          NaN          NaN         NaN          NaN   \n",
              "\n",
              "       open_il_24m  mths_since_rcnt_il  total_bal_il  il_util  open_rv_12m  \\\n",
              "count          0.0                 0.0           0.0      0.0          0.0   \n",
              "mean           NaN                 NaN           NaN      NaN          NaN   \n",
              "std            NaN                 NaN           NaN      NaN          NaN   \n",
              "min            NaN                 NaN           NaN      NaN          NaN   \n",
              "25%            NaN                 NaN           NaN      NaN          NaN   \n",
              "50%            NaN                 NaN           NaN      NaN          NaN   \n",
              "75%            NaN                 NaN           NaN      NaN          NaN   \n",
              "max            NaN                 NaN           NaN      NaN          NaN   \n",
              "\n",
              "       open_rv_24m  max_bal_bc  all_util  total_rev_hi_lim  inq_fi  \\\n",
              "count          0.0         0.0       0.0               0.0     0.0   \n",
              "mean           NaN         NaN       NaN               NaN     NaN   \n",
              "std            NaN         NaN       NaN               NaN     NaN   \n",
              "min            NaN         NaN       NaN               NaN     NaN   \n",
              "25%            NaN         NaN       NaN               NaN     NaN   \n",
              "50%            NaN         NaN       NaN               NaN     NaN   \n",
              "75%            NaN         NaN       NaN               NaN     NaN   \n",
              "max            NaN         NaN       NaN               NaN     NaN   \n",
              "\n",
              "       total_cu_tl  inq_last_12m  default_flag  \n",
              "count          0.0           0.0  10000.000000  \n",
              "mean           NaN           NaN      0.154900  \n",
              "std            NaN           NaN      0.361827  \n",
              "min            NaN           NaN      0.000000  \n",
              "25%            NaN           NaN      0.000000  \n",
              "50%            NaN           NaN      0.000000  \n",
              "75%            NaN           NaN      0.000000  \n",
              "max            NaN           NaN      1.000000  "
            ]
          },
          "execution_count": 15,
          "metadata": {},
          "output_type": "execute_result"
        }
      ],
      "source": [
        "data.describe()"
      ]
    },
    {
      "cell_type": "markdown",
      "source": [
        "###3. Initial column elimination"
      ],
      "metadata": {
        "id": "ud864GsZifU8"
      }
    },
    {
      "cell_type": "markdown",
      "metadata": {
        "id": "Za9AAWc-f-pd"
      },
      "source": [
        "Drop columns that have less than circa 30% of non missing values, in that case 250k"
      ]
    },
    {
      "cell_type": "code",
      "execution_count": null,
      "metadata": {
        "colab": {
          "base_uri": "https://localhost:8080/"
        },
        "id": "jGAB5aCOhVco",
        "outputId": "60ecc6df-baee-4f95-bba1-681b9d2048ce"
      },
      "outputs": [
        {
          "output_type": "stream",
          "name": "stderr",
          "text": [
            "<ipython-input-7-47abe674bde8>:1: FutureWarning: In a future version of pandas all arguments of DataFrame.dropna will be keyword-only\n",
            "  data.dropna('columns',thresh=250000, inplace=True)\n"
          ]
        }
      ],
      "source": [
        "data.dropna('columns',thresh=250000, inplace=True)"
      ]
    },
    {
      "cell_type": "code",
      "execution_count": null,
      "metadata": {
        "colab": {
          "base_uri": "https://localhost:8080/",
          "height": 409
        },
        "id": "EE-Qln1lhVdm",
        "outputId": "0d2d81a7-f06e-4e5e-bbd1-41f680ce8536"
      },
      "outputs": [
        {
          "data": {
            "text/html": [
              "\n",
              "  <div id=\"df-63e27d8a-9060-48ca-895d-edec071f7824\">\n",
              "    <div class=\"colab-df-container\">\n",
              "      <div>\n",
              "<style scoped>\n",
              "    .dataframe tbody tr th:only-of-type {\n",
              "        vertical-align: middle;\n",
              "    }\n",
              "\n",
              "    .dataframe tbody tr th {\n",
              "        vertical-align: top;\n",
              "    }\n",
              "\n",
              "    .dataframe thead th {\n",
              "        text-align: right;\n",
              "    }\n",
              "</style>\n",
              "<table border=\"1\" class=\"dataframe\">\n",
              "  <thead>\n",
              "    <tr style=\"text-align: right;\">\n",
              "      <th></th>\n",
              "      <th>id</th>\n",
              "      <th>member_id</th>\n",
              "      <th>loan_amnt</th>\n",
              "      <th>funded_amnt</th>\n",
              "      <th>funded_amnt_inv</th>\n",
              "      <th>term</th>\n",
              "      <th>int_rate</th>\n",
              "      <th>installment</th>\n",
              "      <th>grade</th>\n",
              "      <th>sub_grade</th>\n",
              "      <th>emp_title</th>\n",
              "      <th>emp_length</th>\n",
              "      <th>home_ownership</th>\n",
              "      <th>annual_inc</th>\n",
              "      <th>verification_status</th>\n",
              "      <th>issue_d</th>\n",
              "      <th>loan_status</th>\n",
              "      <th>pymnt_plan</th>\n",
              "      <th>url</th>\n",
              "      <th>purpose</th>\n",
              "      <th>title</th>\n",
              "      <th>zip_code</th>\n",
              "      <th>addr_state</th>\n",
              "      <th>dti</th>\n",
              "      <th>delinq_2yrs</th>\n",
              "      <th>earliest_cr_line</th>\n",
              "      <th>inq_last_6mths</th>\n",
              "      <th>mths_since_last_delinq</th>\n",
              "      <th>open_acc</th>\n",
              "      <th>pub_rec</th>\n",
              "      <th>revol_bal</th>\n",
              "      <th>revol_util</th>\n",
              "      <th>total_acc</th>\n",
              "      <th>initial_list_status</th>\n",
              "      <th>out_prncp</th>\n",
              "      <th>out_prncp_inv</th>\n",
              "      <th>total_pymnt</th>\n",
              "      <th>total_pymnt_inv</th>\n",
              "      <th>total_rec_prncp</th>\n",
              "      <th>total_rec_int</th>\n",
              "      <th>total_rec_late_fee</th>\n",
              "      <th>recoveries</th>\n",
              "      <th>collection_recovery_fee</th>\n",
              "      <th>last_pymnt_d</th>\n",
              "      <th>last_pymnt_amnt</th>\n",
              "      <th>next_pymnt_d</th>\n",
              "      <th>last_credit_pull_d</th>\n",
              "      <th>collections_12_mths_ex_med</th>\n",
              "      <th>policy_code</th>\n",
              "      <th>application_type</th>\n",
              "      <th>acc_now_delinq</th>\n",
              "      <th>tot_coll_amt</th>\n",
              "      <th>tot_cur_bal</th>\n",
              "      <th>total_rev_hi_lim</th>\n",
              "      <th>default_flag</th>\n",
              "    </tr>\n",
              "  </thead>\n",
              "  <tbody>\n",
              "    <tr>\n",
              "      <th>0</th>\n",
              "      <td>1077501</td>\n",
              "      <td>1296599</td>\n",
              "      <td>5000.0</td>\n",
              "      <td>5000.0</td>\n",
              "      <td>4975.0</td>\n",
              "      <td>36</td>\n",
              "      <td>10.65</td>\n",
              "      <td>162.87</td>\n",
              "      <td>B</td>\n",
              "      <td>B2</td>\n",
              "      <td>NaN</td>\n",
              "      <td>10+ years</td>\n",
              "      <td>RENT</td>\n",
              "      <td>24000.0</td>\n",
              "      <td>Verified</td>\n",
              "      <td>Dec-2011</td>\n",
              "      <td>Fully Paid</td>\n",
              "      <td>n</td>\n",
              "      <td>https://www.lendingclub.com/browse/loanDetail....</td>\n",
              "      <td>credit_card</td>\n",
              "      <td>Computer</td>\n",
              "      <td>860xx</td>\n",
              "      <td>AZ</td>\n",
              "      <td>27.65</td>\n",
              "      <td>0.0</td>\n",
              "      <td>Jan-1985</td>\n",
              "      <td>1.0</td>\n",
              "      <td>NaN</td>\n",
              "      <td>3.0</td>\n",
              "      <td>0.0</td>\n",
              "      <td>13648.0</td>\n",
              "      <td>83.7</td>\n",
              "      <td>9.0</td>\n",
              "      <td>f</td>\n",
              "      <td>0.0</td>\n",
              "      <td>0.0</td>\n",
              "      <td>5861.071414</td>\n",
              "      <td>5831.78</td>\n",
              "      <td>5000.00</td>\n",
              "      <td>861.07</td>\n",
              "      <td>0.00</td>\n",
              "      <td>0.00</td>\n",
              "      <td>0.00</td>\n",
              "      <td>Jan-2015</td>\n",
              "      <td>171.62</td>\n",
              "      <td>NaN</td>\n",
              "      <td>Jan-2016</td>\n",
              "      <td>0.0</td>\n",
              "      <td>1.0</td>\n",
              "      <td>INDIVIDUAL</td>\n",
              "      <td>0.0</td>\n",
              "      <td>NaN</td>\n",
              "      <td>NaN</td>\n",
              "      <td>NaN</td>\n",
              "      <td>0</td>\n",
              "    </tr>\n",
              "    <tr>\n",
              "      <th>1</th>\n",
              "      <td>1077430</td>\n",
              "      <td>1314167</td>\n",
              "      <td>2500.0</td>\n",
              "      <td>2500.0</td>\n",
              "      <td>2500.0</td>\n",
              "      <td>60</td>\n",
              "      <td>15.27</td>\n",
              "      <td>59.83</td>\n",
              "      <td>C</td>\n",
              "      <td>C4</td>\n",
              "      <td>Ryder</td>\n",
              "      <td>&lt; 1 year</td>\n",
              "      <td>RENT</td>\n",
              "      <td>30000.0</td>\n",
              "      <td>Source Verified</td>\n",
              "      <td>Dec-2011</td>\n",
              "      <td>Charged Off</td>\n",
              "      <td>n</td>\n",
              "      <td>https://www.lendingclub.com/browse/loanDetail....</td>\n",
              "      <td>car</td>\n",
              "      <td>bike</td>\n",
              "      <td>309xx</td>\n",
              "      <td>GA</td>\n",
              "      <td>1.00</td>\n",
              "      <td>0.0</td>\n",
              "      <td>Apr-1999</td>\n",
              "      <td>5.0</td>\n",
              "      <td>NaN</td>\n",
              "      <td>3.0</td>\n",
              "      <td>0.0</td>\n",
              "      <td>1687.0</td>\n",
              "      <td>9.4</td>\n",
              "      <td>4.0</td>\n",
              "      <td>f</td>\n",
              "      <td>0.0</td>\n",
              "      <td>0.0</td>\n",
              "      <td>1008.710000</td>\n",
              "      <td>1008.71</td>\n",
              "      <td>456.46</td>\n",
              "      <td>435.17</td>\n",
              "      <td>0.00</td>\n",
              "      <td>117.08</td>\n",
              "      <td>1.11</td>\n",
              "      <td>Apr-2013</td>\n",
              "      <td>119.66</td>\n",
              "      <td>NaN</td>\n",
              "      <td>Sep-2013</td>\n",
              "      <td>0.0</td>\n",
              "      <td>1.0</td>\n",
              "      <td>INDIVIDUAL</td>\n",
              "      <td>0.0</td>\n",
              "      <td>NaN</td>\n",
              "      <td>NaN</td>\n",
              "      <td>NaN</td>\n",
              "      <td>1</td>\n",
              "    </tr>\n",
              "    <tr>\n",
              "      <th>2</th>\n",
              "      <td>1077175</td>\n",
              "      <td>1313524</td>\n",
              "      <td>2400.0</td>\n",
              "      <td>2400.0</td>\n",
              "      <td>2400.0</td>\n",
              "      <td>36</td>\n",
              "      <td>15.96</td>\n",
              "      <td>84.33</td>\n",
              "      <td>C</td>\n",
              "      <td>C5</td>\n",
              "      <td>NaN</td>\n",
              "      <td>10+ years</td>\n",
              "      <td>RENT</td>\n",
              "      <td>12252.0</td>\n",
              "      <td>Not Verified</td>\n",
              "      <td>Dec-2011</td>\n",
              "      <td>Fully Paid</td>\n",
              "      <td>n</td>\n",
              "      <td>https://www.lendingclub.com/browse/loanDetail....</td>\n",
              "      <td>small_business</td>\n",
              "      <td>real estate business</td>\n",
              "      <td>606xx</td>\n",
              "      <td>IL</td>\n",
              "      <td>8.72</td>\n",
              "      <td>0.0</td>\n",
              "      <td>Nov-2001</td>\n",
              "      <td>2.0</td>\n",
              "      <td>NaN</td>\n",
              "      <td>2.0</td>\n",
              "      <td>0.0</td>\n",
              "      <td>2956.0</td>\n",
              "      <td>98.5</td>\n",
              "      <td>10.0</td>\n",
              "      <td>f</td>\n",
              "      <td>0.0</td>\n",
              "      <td>0.0</td>\n",
              "      <td>3003.653644</td>\n",
              "      <td>3003.65</td>\n",
              "      <td>2400.00</td>\n",
              "      <td>603.65</td>\n",
              "      <td>0.00</td>\n",
              "      <td>0.00</td>\n",
              "      <td>0.00</td>\n",
              "      <td>Jun-2014</td>\n",
              "      <td>649.91</td>\n",
              "      <td>NaN</td>\n",
              "      <td>Jan-2016</td>\n",
              "      <td>0.0</td>\n",
              "      <td>1.0</td>\n",
              "      <td>INDIVIDUAL</td>\n",
              "      <td>0.0</td>\n",
              "      <td>NaN</td>\n",
              "      <td>NaN</td>\n",
              "      <td>NaN</td>\n",
              "      <td>0</td>\n",
              "    </tr>\n",
              "    <tr>\n",
              "      <th>3</th>\n",
              "      <td>1076863</td>\n",
              "      <td>1277178</td>\n",
              "      <td>10000.0</td>\n",
              "      <td>10000.0</td>\n",
              "      <td>10000.0</td>\n",
              "      <td>36</td>\n",
              "      <td>13.49</td>\n",
              "      <td>339.31</td>\n",
              "      <td>C</td>\n",
              "      <td>C1</td>\n",
              "      <td>AIR RESOURCES BOARD</td>\n",
              "      <td>10+ years</td>\n",
              "      <td>RENT</td>\n",
              "      <td>49200.0</td>\n",
              "      <td>Source Verified</td>\n",
              "      <td>Dec-2011</td>\n",
              "      <td>Fully Paid</td>\n",
              "      <td>n</td>\n",
              "      <td>https://www.lendingclub.com/browse/loanDetail....</td>\n",
              "      <td>other</td>\n",
              "      <td>personel</td>\n",
              "      <td>917xx</td>\n",
              "      <td>CA</td>\n",
              "      <td>20.00</td>\n",
              "      <td>0.0</td>\n",
              "      <td>Feb-1996</td>\n",
              "      <td>1.0</td>\n",
              "      <td>35.0</td>\n",
              "      <td>10.0</td>\n",
              "      <td>0.0</td>\n",
              "      <td>5598.0</td>\n",
              "      <td>21.0</td>\n",
              "      <td>37.0</td>\n",
              "      <td>f</td>\n",
              "      <td>0.0</td>\n",
              "      <td>0.0</td>\n",
              "      <td>12226.302212</td>\n",
              "      <td>12226.30</td>\n",
              "      <td>10000.00</td>\n",
              "      <td>2209.33</td>\n",
              "      <td>16.97</td>\n",
              "      <td>0.00</td>\n",
              "      <td>0.00</td>\n",
              "      <td>Jan-2015</td>\n",
              "      <td>357.48</td>\n",
              "      <td>NaN</td>\n",
              "      <td>Jan-2015</td>\n",
              "      <td>0.0</td>\n",
              "      <td>1.0</td>\n",
              "      <td>INDIVIDUAL</td>\n",
              "      <td>0.0</td>\n",
              "      <td>NaN</td>\n",
              "      <td>NaN</td>\n",
              "      <td>NaN</td>\n",
              "      <td>0</td>\n",
              "    </tr>\n",
              "    <tr>\n",
              "      <th>4</th>\n",
              "      <td>1075358</td>\n",
              "      <td>1311748</td>\n",
              "      <td>3000.0</td>\n",
              "      <td>3000.0</td>\n",
              "      <td>3000.0</td>\n",
              "      <td>60</td>\n",
              "      <td>12.69</td>\n",
              "      <td>67.79</td>\n",
              "      <td>B</td>\n",
              "      <td>B5</td>\n",
              "      <td>University Medical Group</td>\n",
              "      <td>1 year</td>\n",
              "      <td>RENT</td>\n",
              "      <td>80000.0</td>\n",
              "      <td>Source Verified</td>\n",
              "      <td>Dec-2011</td>\n",
              "      <td>Current</td>\n",
              "      <td>n</td>\n",
              "      <td>https://www.lendingclub.com/browse/loanDetail....</td>\n",
              "      <td>other</td>\n",
              "      <td>Personal</td>\n",
              "      <td>972xx</td>\n",
              "      <td>OR</td>\n",
              "      <td>17.94</td>\n",
              "      <td>0.0</td>\n",
              "      <td>Jan-1996</td>\n",
              "      <td>0.0</td>\n",
              "      <td>38.0</td>\n",
              "      <td>15.0</td>\n",
              "      <td>0.0</td>\n",
              "      <td>27783.0</td>\n",
              "      <td>53.9</td>\n",
              "      <td>38.0</td>\n",
              "      <td>f</td>\n",
              "      <td>766.9</td>\n",
              "      <td>766.9</td>\n",
              "      <td>3242.170000</td>\n",
              "      <td>3242.17</td>\n",
              "      <td>2233.10</td>\n",
              "      <td>1009.07</td>\n",
              "      <td>0.00</td>\n",
              "      <td>0.00</td>\n",
              "      <td>0.00</td>\n",
              "      <td>Jan-2016</td>\n",
              "      <td>67.79</td>\n",
              "      <td>Feb-2016</td>\n",
              "      <td>Jan-2016</td>\n",
              "      <td>0.0</td>\n",
              "      <td>1.0</td>\n",
              "      <td>INDIVIDUAL</td>\n",
              "      <td>0.0</td>\n",
              "      <td>NaN</td>\n",
              "      <td>NaN</td>\n",
              "      <td>NaN</td>\n",
              "      <td>0</td>\n",
              "    </tr>\n",
              "  </tbody>\n",
              "</table>\n",
              "</div>\n",
              "      <button class=\"colab-df-convert\" onclick=\"convertToInteractive('df-63e27d8a-9060-48ca-895d-edec071f7824')\"\n",
              "              title=\"Convert this dataframe to an interactive table.\"\n",
              "              style=\"display:none;\">\n",
              "        \n",
              "  <svg xmlns=\"http://www.w3.org/2000/svg\" height=\"24px\"viewBox=\"0 0 24 24\"\n",
              "       width=\"24px\">\n",
              "    <path d=\"M0 0h24v24H0V0z\" fill=\"none\"/>\n",
              "    <path d=\"M18.56 5.44l.94 2.06.94-2.06 2.06-.94-2.06-.94-.94-2.06-.94 2.06-2.06.94zm-11 1L8.5 8.5l.94-2.06 2.06-.94-2.06-.94L8.5 2.5l-.94 2.06-2.06.94zm10 10l.94 2.06.94-2.06 2.06-.94-2.06-.94-.94-2.06-.94 2.06-2.06.94z\"/><path d=\"M17.41 7.96l-1.37-1.37c-.4-.4-.92-.59-1.43-.59-.52 0-1.04.2-1.43.59L10.3 9.45l-7.72 7.72c-.78.78-.78 2.05 0 2.83L4 21.41c.39.39.9.59 1.41.59.51 0 1.02-.2 1.41-.59l7.78-7.78 2.81-2.81c.8-.78.8-2.07 0-2.86zM5.41 20L4 18.59l7.72-7.72 1.47 1.35L5.41 20z\"/>\n",
              "  </svg>\n",
              "      </button>\n",
              "      \n",
              "  <style>\n",
              "    .colab-df-container {\n",
              "      display:flex;\n",
              "      flex-wrap:wrap;\n",
              "      gap: 12px;\n",
              "    }\n",
              "\n",
              "    .colab-df-convert {\n",
              "      background-color: #E8F0FE;\n",
              "      border: none;\n",
              "      border-radius: 50%;\n",
              "      cursor: pointer;\n",
              "      display: none;\n",
              "      fill: #1967D2;\n",
              "      height: 32px;\n",
              "      padding: 0 0 0 0;\n",
              "      width: 32px;\n",
              "    }\n",
              "\n",
              "    .colab-df-convert:hover {\n",
              "      background-color: #E2EBFA;\n",
              "      box-shadow: 0px 1px 2px rgba(60, 64, 67, 0.3), 0px 1px 3px 1px rgba(60, 64, 67, 0.15);\n",
              "      fill: #174EA6;\n",
              "    }\n",
              "\n",
              "    [theme=dark] .colab-df-convert {\n",
              "      background-color: #3B4455;\n",
              "      fill: #D2E3FC;\n",
              "    }\n",
              "\n",
              "    [theme=dark] .colab-df-convert:hover {\n",
              "      background-color: #434B5C;\n",
              "      box-shadow: 0px 1px 3px 1px rgba(0, 0, 0, 0.15);\n",
              "      filter: drop-shadow(0px 1px 2px rgba(0, 0, 0, 0.3));\n",
              "      fill: #FFFFFF;\n",
              "    }\n",
              "  </style>\n",
              "\n",
              "      <script>\n",
              "        const buttonEl =\n",
              "          document.querySelector('#df-63e27d8a-9060-48ca-895d-edec071f7824 button.colab-df-convert');\n",
              "        buttonEl.style.display =\n",
              "          google.colab.kernel.accessAllowed ? 'block' : 'none';\n",
              "\n",
              "        async function convertToInteractive(key) {\n",
              "          const element = document.querySelector('#df-63e27d8a-9060-48ca-895d-edec071f7824');\n",
              "          const dataTable =\n",
              "            await google.colab.kernel.invokeFunction('convertToInteractive',\n",
              "                                                     [key], {});\n",
              "          if (!dataTable) return;\n",
              "\n",
              "          const docLinkHtml = 'Like what you see? Visit the ' +\n",
              "            '<a target=\"_blank\" href=https://colab.research.google.com/notebooks/data_table.ipynb>data table notebook</a>'\n",
              "            + ' to learn more about interactive tables.';\n",
              "          element.innerHTML = '';\n",
              "          dataTable['output_type'] = 'display_data';\n",
              "          await google.colab.output.renderOutput(dataTable, element);\n",
              "          const docLink = document.createElement('div');\n",
              "          docLink.innerHTML = docLinkHtml;\n",
              "          element.appendChild(docLink);\n",
              "        }\n",
              "      </script>\n",
              "    </div>\n",
              "  </div>\n",
              "  "
            ],
            "text/plain": [
              "        id  member_id  loan_amnt  funded_amnt  funded_amnt_inv  term  \\\n",
              "0  1077501    1296599     5000.0       5000.0           4975.0    36   \n",
              "1  1077430    1314167     2500.0       2500.0           2500.0    60   \n",
              "2  1077175    1313524     2400.0       2400.0           2400.0    36   \n",
              "3  1076863    1277178    10000.0      10000.0          10000.0    36   \n",
              "4  1075358    1311748     3000.0       3000.0           3000.0    60   \n",
              "\n",
              "   int_rate  installment grade sub_grade                 emp_title emp_length  \\\n",
              "0     10.65       162.87     B        B2                       NaN  10+ years   \n",
              "1     15.27        59.83     C        C4                     Ryder   < 1 year   \n",
              "2     15.96        84.33     C        C5                       NaN  10+ years   \n",
              "3     13.49       339.31     C        C1       AIR RESOURCES BOARD  10+ years   \n",
              "4     12.69        67.79     B        B5  University Medical Group     1 year   \n",
              "\n",
              "  home_ownership  annual_inc verification_status   issue_d  loan_status  \\\n",
              "0           RENT     24000.0            Verified  Dec-2011   Fully Paid   \n",
              "1           RENT     30000.0     Source Verified  Dec-2011  Charged Off   \n",
              "2           RENT     12252.0        Not Verified  Dec-2011   Fully Paid   \n",
              "3           RENT     49200.0     Source Verified  Dec-2011   Fully Paid   \n",
              "4           RENT     80000.0     Source Verified  Dec-2011      Current   \n",
              "\n",
              "  pymnt_plan                                                url  \\\n",
              "0          n  https://www.lendingclub.com/browse/loanDetail....   \n",
              "1          n  https://www.lendingclub.com/browse/loanDetail....   \n",
              "2          n  https://www.lendingclub.com/browse/loanDetail....   \n",
              "3          n  https://www.lendingclub.com/browse/loanDetail....   \n",
              "4          n  https://www.lendingclub.com/browse/loanDetail....   \n",
              "\n",
              "          purpose                 title zip_code addr_state    dti  \\\n",
              "0     credit_card              Computer    860xx         AZ  27.65   \n",
              "1             car                  bike    309xx         GA   1.00   \n",
              "2  small_business  real estate business    606xx         IL   8.72   \n",
              "3           other              personel    917xx         CA  20.00   \n",
              "4           other              Personal    972xx         OR  17.94   \n",
              "\n",
              "   delinq_2yrs earliest_cr_line  inq_last_6mths  mths_since_last_delinq  \\\n",
              "0          0.0         Jan-1985             1.0                     NaN   \n",
              "1          0.0         Apr-1999             5.0                     NaN   \n",
              "2          0.0         Nov-2001             2.0                     NaN   \n",
              "3          0.0         Feb-1996             1.0                    35.0   \n",
              "4          0.0         Jan-1996             0.0                    38.0   \n",
              "\n",
              "   open_acc  pub_rec  revol_bal  revol_util  total_acc initial_list_status  \\\n",
              "0       3.0      0.0    13648.0        83.7        9.0                   f   \n",
              "1       3.0      0.0     1687.0         9.4        4.0                   f   \n",
              "2       2.0      0.0     2956.0        98.5       10.0                   f   \n",
              "3      10.0      0.0     5598.0        21.0       37.0                   f   \n",
              "4      15.0      0.0    27783.0        53.9       38.0                   f   \n",
              "\n",
              "   out_prncp  out_prncp_inv   total_pymnt  total_pymnt_inv  total_rec_prncp  \\\n",
              "0        0.0            0.0   5861.071414          5831.78          5000.00   \n",
              "1        0.0            0.0   1008.710000          1008.71           456.46   \n",
              "2        0.0            0.0   3003.653644          3003.65          2400.00   \n",
              "3        0.0            0.0  12226.302212         12226.30         10000.00   \n",
              "4      766.9          766.9   3242.170000          3242.17          2233.10   \n",
              "\n",
              "   total_rec_int  total_rec_late_fee  recoveries  collection_recovery_fee  \\\n",
              "0         861.07                0.00        0.00                     0.00   \n",
              "1         435.17                0.00      117.08                     1.11   \n",
              "2         603.65                0.00        0.00                     0.00   \n",
              "3        2209.33               16.97        0.00                     0.00   \n",
              "4        1009.07                0.00        0.00                     0.00   \n",
              "\n",
              "  last_pymnt_d  last_pymnt_amnt next_pymnt_d last_credit_pull_d  \\\n",
              "0     Jan-2015           171.62          NaN           Jan-2016   \n",
              "1     Apr-2013           119.66          NaN           Sep-2013   \n",
              "2     Jun-2014           649.91          NaN           Jan-2016   \n",
              "3     Jan-2015           357.48          NaN           Jan-2015   \n",
              "4     Jan-2016            67.79     Feb-2016           Jan-2016   \n",
              "\n",
              "   collections_12_mths_ex_med  policy_code application_type  acc_now_delinq  \\\n",
              "0                         0.0          1.0       INDIVIDUAL             0.0   \n",
              "1                         0.0          1.0       INDIVIDUAL             0.0   \n",
              "2                         0.0          1.0       INDIVIDUAL             0.0   \n",
              "3                         0.0          1.0       INDIVIDUAL             0.0   \n",
              "4                         0.0          1.0       INDIVIDUAL             0.0   \n",
              "\n",
              "   tot_coll_amt  tot_cur_bal  total_rev_hi_lim  default_flag  \n",
              "0           NaN          NaN               NaN             0  \n",
              "1           NaN          NaN               NaN             1  \n",
              "2           NaN          NaN               NaN             0  \n",
              "3           NaN          NaN               NaN             0  \n",
              "4           NaN          NaN               NaN             0  "
            ]
          },
          "execution_count": 224,
          "metadata": {},
          "output_type": "execute_result"
        }
      ],
      "source": [
        "data.head()"
      ]
    },
    {
      "cell_type": "code",
      "execution_count": null,
      "metadata": {
        "colab": {
          "base_uri": "https://localhost:8080/"
        },
        "id": "3XWoMTBkDfak",
        "outputId": "d4e4030d-4af4-4ebb-c8bd-b1916474c523"
      },
      "outputs": [
        {
          "name": "stdout",
          "output_type": "stream",
          "text": [
            "<class 'pandas.core.frame.DataFrame'>\n",
            "RangeIndex: 887379 entries, 0 to 887378\n",
            "Data columns (total 55 columns):\n",
            " #   Column                      Non-Null Count   Dtype  \n",
            "---  ------                      --------------   -----  \n",
            " 0   id                          887379 non-null  int64  \n",
            " 1   member_id                   887379 non-null  int64  \n",
            " 2   loan_amnt                   887379 non-null  float64\n",
            " 3   funded_amnt                 887379 non-null  float64\n",
            " 4   funded_amnt_inv             887379 non-null  float64\n",
            " 5   term                        887379 non-null  int64  \n",
            " 6   int_rate                    887379 non-null  float64\n",
            " 7   installment                 887379 non-null  float64\n",
            " 8   grade                       887379 non-null  object \n",
            " 9   sub_grade                   887379 non-null  object \n",
            " 10  emp_title                   835917 non-null  object \n",
            " 11  emp_length                  842554 non-null  object \n",
            " 12  home_ownership              887379 non-null  object \n",
            " 13  annual_inc                  887375 non-null  float64\n",
            " 14  verification_status         887379 non-null  object \n",
            " 15  issue_d                     887379 non-null  object \n",
            " 16  loan_status                 887379 non-null  object \n",
            " 17  pymnt_plan                  887379 non-null  object \n",
            " 18  url                         887379 non-null  object \n",
            " 19  purpose                     887379 non-null  object \n",
            " 20  title                       887227 non-null  object \n",
            " 21  zip_code                    887379 non-null  object \n",
            " 22  addr_state                  887379 non-null  object \n",
            " 23  dti                         887379 non-null  float64\n",
            " 24  delinq_2yrs                 887350 non-null  float64\n",
            " 25  earliest_cr_line            887350 non-null  object \n",
            " 26  inq_last_6mths              887350 non-null  float64\n",
            " 27  mths_since_last_delinq      433067 non-null  float64\n",
            " 28  open_acc                    887350 non-null  float64\n",
            " 29  pub_rec                     887350 non-null  float64\n",
            " 30  revol_bal                   887379 non-null  float64\n",
            " 31  revol_util                  886877 non-null  float64\n",
            " 32  total_acc                   887350 non-null  float64\n",
            " 33  initial_list_status         887379 non-null  object \n",
            " 34  out_prncp                   887379 non-null  float64\n",
            " 35  out_prncp_inv               887379 non-null  float64\n",
            " 36  total_pymnt                 887379 non-null  float64\n",
            " 37  total_pymnt_inv             887379 non-null  float64\n",
            " 38  total_rec_prncp             887379 non-null  float64\n",
            " 39  total_rec_int               887379 non-null  float64\n",
            " 40  total_rec_late_fee          887379 non-null  float64\n",
            " 41  recoveries                  887379 non-null  float64\n",
            " 42  collection_recovery_fee     887379 non-null  float64\n",
            " 43  last_pymnt_d                869720 non-null  object \n",
            " 44  last_pymnt_amnt             887379 non-null  float64\n",
            " 45  next_pymnt_d                634408 non-null  object \n",
            " 46  last_credit_pull_d          887326 non-null  object \n",
            " 47  collections_12_mths_ex_med  887234 non-null  float64\n",
            " 48  policy_code                 887379 non-null  float64\n",
            " 49  application_type            887379 non-null  object \n",
            " 50  acc_now_delinq              887350 non-null  float64\n",
            " 51  tot_coll_amt                817103 non-null  float64\n",
            " 52  tot_cur_bal                 817103 non-null  float64\n",
            " 53  total_rev_hi_lim            817103 non-null  float64\n",
            " 54  default_flag                887379 non-null  int64  \n",
            "dtypes: float64(31), int64(4), object(20)\n",
            "memory usage: 372.4+ MB\n"
          ]
        }
      ],
      "source": [
        "data.info()"
      ]
    },
    {
      "cell_type": "markdown",
      "source": [
        "Let's check some columns that we suspect might have really concentraded values. We can then delete them to save space and computation time"
      ],
      "metadata": {
        "id": "nNzW9t7mi40O"
      }
    },
    {
      "cell_type": "code",
      "execution_count": null,
      "metadata": {
        "colab": {
          "base_uri": "https://localhost:8080/"
        },
        "id": "GMY1fXn6i0vp",
        "outputId": "2737f910-005a-486d-80b0-9ecf956fe6ba"
      },
      "outputs": [
        {
          "data": {
            "text/plain": [
              "n    887369\n",
              "y        10\n",
              "Name: pymnt_plan, dtype: int64"
            ]
          },
          "execution_count": 253,
          "metadata": {},
          "output_type": "execute_result"
        }
      ],
      "source": [
        "data['pymnt_plan'].value_counts()"
      ]
    },
    {
      "cell_type": "code",
      "execution_count": null,
      "metadata": {
        "colab": {
          "base_uri": "https://localhost:8080/"
        },
        "id": "S-ioE9i81YG4",
        "outputId": "c9181ff2-ce4b-4965-94e5-a0ac382ed3a4"
      },
      "outputs": [
        {
          "data": {
            "text/plain": [
              "INDIVIDUAL    886868\n",
              "JOINT            511\n",
              "Name: application_type, dtype: int64"
            ]
          },
          "execution_count": 254,
          "metadata": {},
          "output_type": "execute_result"
        }
      ],
      "source": [
        "data['application_type'].value_counts()"
      ]
    },
    {
      "cell_type": "code",
      "execution_count": null,
      "metadata": {
        "colab": {
          "base_uri": "https://localhost:8080/"
        },
        "id": "ktUe4i9H1YP6",
        "outputId": "384ef993-6b03-4fde-c98a-797e72cc0678"
      },
      "outputs": [
        {
          "data": {
            "text/plain": [
              "0.0     883236\n",
              "1.0       3866\n",
              "2.0        208\n",
              "3.0         28\n",
              "4.0          7\n",
              "5.0          3\n",
              "6.0          1\n",
              "14.0         1\n",
              "Name: acc_now_delinq, dtype: int64"
            ]
          },
          "execution_count": 255,
          "metadata": {},
          "output_type": "execute_result"
        }
      ],
      "source": [
        "data['acc_now_delinq'].value_counts()"
      ]
    },
    {
      "cell_type": "code",
      "execution_count": null,
      "metadata": {
        "colab": {
          "base_uri": "https://localhost:8080/"
        },
        "id": "6nACjSKl1YXc",
        "outputId": "ec78224b-d8ed-4fae-c02a-88f83fef6df9"
      },
      "outputs": [
        {
          "data": {
            "text/plain": [
              "1.0    887379\n",
              "Name: policy_code, dtype: int64"
            ]
          },
          "execution_count": 256,
          "metadata": {},
          "output_type": "execute_result"
        }
      ],
      "source": [
        "data['policy_code'].value_counts()"
      ]
    },
    {
      "cell_type": "code",
      "execution_count": null,
      "metadata": {
        "colab": {
          "base_uri": "https://localhost:8080/"
        },
        "id": "sXzlXADp1Ydy",
        "outputId": "94c985cf-ea34-4dd7-c6ed-ca65498bab4c"
      },
      "outputs": [
        {
          "data": {
            "text/plain": [
              "0.0     875553\n",
              "1.0      10824\n",
              "2.0        732\n",
              "3.0         88\n",
              "4.0         23\n",
              "5.0          7\n",
              "6.0          2\n",
              "16.0         1\n",
              "20.0         1\n",
              "7.0          1\n",
              "10.0         1\n",
              "14.0         1\n",
              "Name: collections_12_mths_ex_med, dtype: int64"
            ]
          },
          "execution_count": 231,
          "metadata": {},
          "output_type": "execute_result"
        }
      ],
      "source": [
        "data['collections_12_mths_ex_med'].value_counts()"
      ]
    },
    {
      "cell_type": "code",
      "execution_count": null,
      "metadata": {
        "colab": {
          "base_uri": "https://localhost:8080/"
        },
        "id": "EQ60OK4T1YhE",
        "outputId": "9ecf0eae-d18f-4a08-c4fb-1bc792d40c17"
      },
      "outputs": [
        {
          "data": {
            "text/plain": [
              "n    887369\n",
              "y        10\n",
              "Name: pymnt_plan, dtype: int64"
            ]
          },
          "execution_count": 232,
          "metadata": {},
          "output_type": "execute_result"
        }
      ],
      "source": [
        "data['pymnt_plan'].value_counts()"
      ]
    },
    {
      "cell_type": "code",
      "execution_count": null,
      "metadata": {
        "colab": {
          "base_uri": "https://localhost:8080/"
        },
        "id": "fWggyILD1YjM",
        "outputId": "07c91d57-7ff1-4e2b-d08f-5e8c0f4f882a"
      },
      "outputs": [
        {
          "data": {
            "text/plain": [
              "9.0      8591\n",
              "6.0      8470\n",
              "12.0     8368\n",
              "8.0      8335\n",
              "13.0     8318\n",
              "         ... \n",
              "180.0       1\n",
              "136.0       1\n",
              "124.0       1\n",
              "143.0       1\n",
              "137.0       1\n",
              "Name: mths_since_last_delinq, Length: 155, dtype: int64"
            ]
          },
          "execution_count": 235,
          "metadata": {},
          "output_type": "execute_result"
        }
      ],
      "source": [
        "data['mths_since_last_delinq'].value_counts()"
      ]
    },
    {
      "cell_type": "code",
      "execution_count": null,
      "metadata": {
        "colab": {
          "base_uri": "https://localhost:8080/",
          "height": 282
        },
        "id": "N8Dvl-ec13s_",
        "outputId": "ca758f1a-1d8f-4e08-9d9a-07850fa75089"
      },
      "outputs": [
        {
          "data": {
            "text/plain": [
              "<matplotlib.axes._subplots.AxesSubplot at 0x7f0670844d90>"
            ]
          },
          "execution_count": 239,
          "metadata": {},
          "output_type": "execute_result"
        },
        {
          "data": {
            "image/png": "[encoded data removed]",
            "text/plain": [
              "<Figure size 432x288 with 1 Axes>"
            ]
          },
          "metadata": {},
          "output_type": "display_data"
        }
      ],
      "source": [
        "data['mths_since_last_delinq'].hist(bins=150)"
      ]
    },
    {
      "cell_type": "code",
      "execution_count": null,
      "metadata": {
        "colab": {
          "base_uri": "https://localhost:8080/"
        },
        "id": "F6GwSbGe1Yld",
        "outputId": "8a7e1ff6-000d-4ea1-accb-70d3a47221f7"
      },
      "outputs": [
        {
          "data": {
            "text/plain": [
              "f    456848\n",
              "w    430531\n",
              "Name: initial_list_status, dtype: int64"
            ]
          },
          "execution_count": 244,
          "metadata": {},
          "output_type": "execute_result"
        }
      ],
      "source": [
        "data['initial_list_status'].value_counts()"
      ]
    },
    {
      "cell_type": "code",
      "execution_count": null,
      "metadata": {
        "id": "robwE1kTiQTZ"
      },
      "outputs": [],
      "source": [
        "del data['application_type']\n",
        "del data['acc_now_delinq']\n",
        "del data['policy_code']\n",
        "del data['collections_12_mths_ex_med']\n",
        "del data['url']\n",
        "del data['pymnt_plan']\n",
        "del data['next_pymnt_d']\n",
        "\n"
      ]
    },
    {
      "cell_type": "markdown",
      "metadata": {
        "id": "EfiqYsFTbgZI"
      },
      "source": [
        "Investigatee fields such as title and employer title, these variables don't make much sense since each value is taken by 1-2 observations, thus we delete them"
      ]
    },
    {
      "cell_type": "code",
      "execution_count": null,
      "metadata": {
        "colab": {
          "base_uri": "https://localhost:8080/"
        },
        "id": "bHnE7USti0wp",
        "outputId": "4d16ccc4-4c13-4d67-a5d8-0b80437ce056"
      },
      "outputs": [
        {
          "data": {
            "text/plain": [
              "Teacher                                     13469\n",
              "Manager                                     11240\n",
              "Registered Nurse                             5525\n",
              "Owner                                        5376\n",
              "RN                                           5355\n",
              "                                            ...  \n",
              "Thomas J. Paul, Inc.                            1\n",
              "Piggie Toes Preschool                           1\n",
              "greystone park psychiatric hospital             1\n",
              "Las Vegas Motropolitan Police Department        1\n",
              "Manager Hotel Operations Oasis                  1\n",
              "Name: emp_title, Length: 299271, dtype: int64"
            ]
          },
          "execution_count": 259,
          "metadata": {},
          "output_type": "execute_result"
        }
      ],
      "source": [
        "data['emp_title'].value_counts()"
      ]
    },
    {
      "cell_type": "markdown",
      "metadata": {
        "id": "UYLLtb0W9jz8"
      },
      "source": [
        "Looks like a good variable but we have to merge smaller counts into one so that the number of groups is not that large"
      ]
    },
    {
      "cell_type": "code",
      "execution_count": null,
      "metadata": {
        "id": "-sJiRBvn9qJE"
      },
      "outputs": [],
      "source": [
        "s=data['emp_title'].value_counts\n",
        "s.groupby(np.where(s>=3000,s.index,'other')).sum()#.plot.pie()"
      ]
    },
    {
      "cell_type": "markdown",
      "metadata": {
        "id": "RnzbgFSR_J2D"
      },
      "source": [
        "Doesn't look that good anymore, too fragmented"
      ]
    },
    {
      "cell_type": "code",
      "execution_count": null,
      "metadata": {
        "id": "NIfzTYby-fWz"
      },
      "outputs": [],
      "source": [
        "del data['emp_title']\n"
      ]
    },
    {
      "cell_type": "code",
      "execution_count": null,
      "metadata": {
        "colab": {
          "base_uri": "https://localhost:8080/"
        },
        "id": "FlqLH0_vjXhA",
        "outputId": "df7929c2-04a2-42b7-d989-d37593c72c35"
      },
      "outputs": [
        {
          "data": {
            "text/plain": [
              "Debt consolidation                     414001\n",
              "Credit card refinancing                164331\n",
              "Home improvement                        40112\n",
              "Other                                   31892\n",
              "Debt Consolidation                      15760\n",
              "                                        ...  \n",
              "New Heater                                  1\n",
              "Looking to get out of debt                  1\n",
              "Debt Conso/Pay off initial LC loan          1\n",
              "Emergency Home Repair                       1\n",
              "Credit Card/Auto Repair                     1\n",
              "Name: title, Length: 63144, dtype: int64"
            ]
          },
          "execution_count": 260,
          "metadata": {},
          "output_type": "execute_result"
        }
      ],
      "source": [
        "data['title'].value_counts()"
      ]
    },
    {
      "cell_type": "code",
      "execution_count": null,
      "metadata": {
        "colab": {
          "base_uri": "https://localhost:8080/"
        },
        "id": "5DVlKPD5j2Lq",
        "outputId": "3f1affff-8122-4036-9712-0e4d5f0b7f73"
      },
      "outputs": [
        {
          "data": {
            "text/plain": [
              "945xx    9770\n",
              "750xx    9417\n",
              "112xx    9272\n",
              "606xx    8641\n",
              "300xx    8126\n",
              "         ... \n",
              "569xx       1\n",
              "348xx       1\n",
              "819xx       1\n",
              "375xx       1\n",
              "507xx       1\n",
              "Name: zip_code, Length: 935, dtype: int64"
            ]
          },
          "execution_count": 261,
          "metadata": {},
          "output_type": "execute_result"
        }
      ],
      "source": [
        "data['zip_code'].value_counts()"
      ]
    },
    {
      "cell_type": "markdown",
      "source": [
        "Title and zip code don't make much sense as variables"
      ],
      "metadata": {
        "id": "32L_miiUQiaf"
      }
    },
    {
      "cell_type": "code",
      "execution_count": null,
      "metadata": {
        "id": "loFRzSbDi0xp"
      },
      "outputs": [],
      "source": [
        "del data['zip_code']\n",
        "del data['title']"
      ]
    },
    {
      "cell_type": "markdown",
      "metadata": {
        "id": "3BqlFl6EpbCH"
      },
      "source": [
        "loan_amnt, funded_amnt and funded_amnt_inv seem very similar in terms of values, most likely two of them will be thrown out at later stages"
      ]
    },
    {
      "cell_type": "code",
      "execution_count": null,
      "metadata": {
        "colab": {
          "base_uri": "https://localhost:8080/",
          "height": 282
        },
        "id": "1hpBCHjxpa-J",
        "outputId": "bdd3e653-84e2-4ca4-e7b6-9461fcfc19ca"
      },
      "outputs": [
        {
          "data": {
            "text/plain": [
              "<matplotlib.axes._subplots.AxesSubplot at 0x7f0675b6ec10>"
            ]
          },
          "execution_count": 180,
          "metadata": {},
          "output_type": "execute_result"
        },
        {
          "data": {
            "image/png": "[encoded data removed]",
            "text/plain": [
              "<Figure size 432x288 with 1 Axes>"
            ]
          },
          "metadata": {},
          "output_type": "display_data"
        }
      ],
      "source": [
        "(data['loan_amnt']-data['funded_amnt']).hist()"
      ]
    },
    {
      "cell_type": "markdown",
      "source": [
        "###4. Date Variables"
      ],
      "metadata": {
        "id": "9BULMNzUjG_d"
      }
    },
    {
      "cell_type": "markdown",
      "metadata": {
        "id": "BsDU5BkgcDc4"
      },
      "source": [
        "Now proceed to date variables, we transform it so instead of a date they become number of days from that time until now."
      ]
    },
    {
      "cell_type": "code",
      "execution_count": null,
      "metadata": {
        "colab": {
          "base_uri": "https://localhost:8080/"
        },
        "id": "QoHK2XMqj6NG",
        "outputId": "5b318a7f-3e28-4b9b-d810-790a8a1472d3"
      },
      "outputs": [
        {
          "data": {
            "text/plain": [
              "Nov-1998    103\n",
              "Oct-2000    102\n",
              "Jan-2000     91\n",
              "Apr-2000     89\n",
              "Nov-1999     88\n",
              "           ... \n",
              "Mar-1963      1\n",
              "Jun-1972      1\n",
              "Dec-1969      1\n",
              "Jan-1976      1\n",
              "Aug-1972      1\n",
              "Name: earliest_cr_line, Length: 465, dtype: int64"
            ]
          },
          "execution_count": 95,
          "metadata": {},
          "output_type": "execute_result"
        }
      ],
      "source": [
        "data['earliest_cr_line'].value_counts()"
      ]
    },
    {
      "cell_type": "code",
      "execution_count": null,
      "metadata": {
        "colab": {
          "base_uri": "https://localhost:8080/"
        },
        "id": "0vODb1JGmygG",
        "outputId": "e013be40-a988-40d8-c0b8-cf35bf3b8b8b"
      },
      "outputs": [
        {
          "data": {
            "text/plain": [
              "Jan-2016    3945\n",
              "Dec-2014     440\n",
              "Oct-2014     342\n",
              "Sep-2014     322\n",
              "Nov-2014     316\n",
              "Dec-2015     237\n",
              "Aug-2014     196\n",
              "Nov-2015     172\n",
              "Jan-2015     172\n",
              "Jul-2015     169\n",
              "Sep-2015     164\n",
              "Oct-2015     160\n",
              "Feb-2014     149\n",
              "Feb-2013     142\n",
              "Mar-2014     141\n",
              "Apr-2015     135\n",
              "Mar-2015     126\n",
              "May-2015     126\n",
              "Apr-2014     125\n",
              "Nov-2013     118\n",
              "Jan-2014     115\n",
              "Jun-2014     113\n",
              "Mar-2013     111\n",
              "May-2014     109\n",
              "Aug-2015     105\n",
              "Oct-2013     102\n",
              "Sep-2013     102\n",
              "Dec-2013      99\n",
              "Jul-2014      97\n",
              "Jun-2015      97\n",
              "Jul-2013      96\n",
              "Feb-2015      95\n",
              "May-2013      91\n",
              "Apr-2013      86\n",
              "Sep-2012      83\n",
              "Nov-2012      81\n",
              "Jun-2013      80\n",
              "Dec-2012      80\n",
              "Aug-2012      77\n",
              "Aug-2013      74\n",
              "Jun-2012      55\n",
              "Jul-2012      55\n",
              "Oct-2012      52\n",
              "Mar-2012      47\n",
              "Feb-2012      44\n",
              "Apr-2012      41\n",
              "May-2012      39\n",
              "Jan-2012      23\n",
              "Dec-2011      18\n",
              "Oct-2011      12\n",
              "Nov-2011      11\n",
              "Sep-2011       5\n",
              "Jan-2013       4\n",
              "Aug-2011       4\n",
              "Name: last_credit_pull_d, dtype: int64"
            ]
          },
          "execution_count": 109,
          "metadata": {},
          "output_type": "execute_result"
        }
      ],
      "source": [
        "data['last_credit_pull_d'].value_counts()"
      ]
    },
    {
      "cell_type": "code",
      "execution_count": null,
      "metadata": {
        "colab": {
          "base_uri": "https://localhost:8080/"
        },
        "id": "XrMoz7Dbnbt2",
        "outputId": "cc63acb7-e30d-4adc-f110-6e43e093e137"
      },
      "outputs": [
        {
          "data": {
            "text/plain": [
              "Dec-2011    2267\n",
              "Nov-2011    2232\n",
              "Oct-2011    2118\n",
              "Sep-2011    2067\n",
              "Aug-2011    1316\n",
              "Name: issue_d, dtype: int64"
            ]
          },
          "execution_count": 111,
          "metadata": {},
          "output_type": "execute_result"
        }
      ],
      "source": [
        "data['issue_d'].value_counts()"
      ]
    },
    {
      "cell_type": "code",
      "execution_count": null,
      "metadata": {
        "id": "kGxC_DySkW9A"
      },
      "outputs": [],
      "source": [
        "data['cr_history_length']=(pd.to_datetime('Jan-2023') - pd.to_datetime(data['earliest_cr_line'])).dt.days\n",
        "data['since_last_cr_pull']=(pd.to_datetime('Jan-2023') - pd.to_datetime(data['last_credit_pull_d'])).dt.days\n",
        "data['since_issue']=(pd.to_datetime('Jan-2023') - pd.to_datetime(data['issue_d'])).dt.days\n",
        "data['since_last_pnmt']=(pd.to_datetime('Jan-2023') - pd.to_datetime(data['last_pymnt_d'])).dt.days"
      ]
    },
    {
      "cell_type": "markdown",
      "metadata": {
        "id": "7xnEvPmHcd8p"
      },
      "source": [
        "We can now drop original date variables"
      ]
    },
    {
      "cell_type": "code",
      "execution_count": null,
      "metadata": {
        "id": "86GR0-qhcgI8"
      },
      "outputs": [],
      "source": [
        "del data['earliest_cr_line']\n",
        "del data['last_credit_pull_d']\n",
        "del data['issue_d']\n",
        "del data['last_pymnt_d']"
      ]
    },
    {
      "cell_type": "code",
      "execution_count": null,
      "metadata": {
        "colab": {
          "base_uri": "https://localhost:8080/",
          "height": 270
        },
        "id": "gb66Nv3FonWD",
        "outputId": "646c5739-dc87-47ec-ef4b-8a8255f4bfc9"
      },
      "outputs": [
        {
          "data": {
            "text/html": [
              "\n",
              "  <div id=\"df-8843a51f-db1d-44d8-8d95-300a0fec00d3\">\n",
              "    <div class=\"colab-df-container\">\n",
              "      <div>\n",
              "<style scoped>\n",
              "    .dataframe tbody tr th:only-of-type {\n",
              "        vertical-align: middle;\n",
              "    }\n",
              "\n",
              "    .dataframe tbody tr th {\n",
              "        vertical-align: top;\n",
              "    }\n",
              "\n",
              "    .dataframe thead th {\n",
              "        text-align: right;\n",
              "    }\n",
              "</style>\n",
              "<table border=\"1\" class=\"dataframe\">\n",
              "  <thead>\n",
              "    <tr style=\"text-align: right;\">\n",
              "      <th></th>\n",
              "      <th>id</th>\n",
              "      <th>member_id</th>\n",
              "      <th>loan_amnt</th>\n",
              "      <th>funded_amnt</th>\n",
              "      <th>funded_amnt_inv</th>\n",
              "      <th>term</th>\n",
              "      <th>int_rate</th>\n",
              "      <th>installment</th>\n",
              "      <th>grade</th>\n",
              "      <th>sub_grade</th>\n",
              "      <th>emp_length</th>\n",
              "      <th>home_ownership</th>\n",
              "      <th>annual_inc</th>\n",
              "      <th>verification_status</th>\n",
              "      <th>loan_status</th>\n",
              "      <th>purpose</th>\n",
              "      <th>addr_state</th>\n",
              "      <th>dti</th>\n",
              "      <th>delinq_2yrs</th>\n",
              "      <th>inq_last_6mths</th>\n",
              "      <th>mths_since_last_delinq</th>\n",
              "      <th>open_acc</th>\n",
              "      <th>pub_rec</th>\n",
              "      <th>revol_bal</th>\n",
              "      <th>revol_util</th>\n",
              "      <th>total_acc</th>\n",
              "      <th>out_prncp</th>\n",
              "      <th>out_prncp_inv</th>\n",
              "      <th>total_pymnt</th>\n",
              "      <th>total_pymnt_inv</th>\n",
              "      <th>total_rec_prncp</th>\n",
              "      <th>total_rec_int</th>\n",
              "      <th>total_rec_late_fee</th>\n",
              "      <th>recoveries</th>\n",
              "      <th>collection_recovery_fee</th>\n",
              "      <th>last_pymnt_amnt</th>\n",
              "      <th>mths_since_last_major_derog</th>\n",
              "      <th>tot_coll_amt</th>\n",
              "      <th>tot_cur_bal</th>\n",
              "      <th>total_rev_hi_lim</th>\n",
              "      <th>default_flag</th>\n",
              "      <th>cr_history_length</th>\n",
              "      <th>since_last_cr_pull</th>\n",
              "      <th>since_issue</th>\n",
              "      <th>since_last_pnmt</th>\n",
              "    </tr>\n",
              "  </thead>\n",
              "  <tbody>\n",
              "    <tr>\n",
              "      <th>0</th>\n",
              "      <td>1077501</td>\n",
              "      <td>1296599</td>\n",
              "      <td>5000.0</td>\n",
              "      <td>5000.0</td>\n",
              "      <td>4975.0</td>\n",
              "      <td>36</td>\n",
              "      <td>10.65</td>\n",
              "      <td>162.87</td>\n",
              "      <td>B</td>\n",
              "      <td>B2</td>\n",
              "      <td>10+ years</td>\n",
              "      <td>RENT</td>\n",
              "      <td>24000.0</td>\n",
              "      <td>Verified</td>\n",
              "      <td>Fully Paid</td>\n",
              "      <td>credit_card</td>\n",
              "      <td>AZ</td>\n",
              "      <td>27.65</td>\n",
              "      <td>0.0</td>\n",
              "      <td>1.0</td>\n",
              "      <td>NaN</td>\n",
              "      <td>3.0</td>\n",
              "      <td>0.0</td>\n",
              "      <td>13648.0</td>\n",
              "      <td>83.7</td>\n",
              "      <td>9.0</td>\n",
              "      <td>0.0</td>\n",
              "      <td>0.0</td>\n",
              "      <td>5861.071414</td>\n",
              "      <td>5831.78</td>\n",
              "      <td>5000.00</td>\n",
              "      <td>861.07</td>\n",
              "      <td>0.00</td>\n",
              "      <td>0.00</td>\n",
              "      <td>0.00</td>\n",
              "      <td>171.62</td>\n",
              "      <td>NaN</td>\n",
              "      <td>NaN</td>\n",
              "      <td>NaN</td>\n",
              "      <td>NaN</td>\n",
              "      <td>0</td>\n",
              "      <td>13879.0</td>\n",
              "      <td>2557.0</td>\n",
              "      <td>4049</td>\n",
              "      <td>2922.0</td>\n",
              "    </tr>\n",
              "    <tr>\n",
              "      <th>1</th>\n",
              "      <td>1077430</td>\n",
              "      <td>1314167</td>\n",
              "      <td>2500.0</td>\n",
              "      <td>2500.0</td>\n",
              "      <td>2500.0</td>\n",
              "      <td>60</td>\n",
              "      <td>15.27</td>\n",
              "      <td>59.83</td>\n",
              "      <td>C</td>\n",
              "      <td>C4</td>\n",
              "      <td>&lt; 1 year</td>\n",
              "      <td>RENT</td>\n",
              "      <td>30000.0</td>\n",
              "      <td>Source Verified</td>\n",
              "      <td>Charged Off</td>\n",
              "      <td>car</td>\n",
              "      <td>GA</td>\n",
              "      <td>1.00</td>\n",
              "      <td>0.0</td>\n",
              "      <td>5.0</td>\n",
              "      <td>NaN</td>\n",
              "      <td>3.0</td>\n",
              "      <td>0.0</td>\n",
              "      <td>1687.0</td>\n",
              "      <td>9.4</td>\n",
              "      <td>4.0</td>\n",
              "      <td>0.0</td>\n",
              "      <td>0.0</td>\n",
              "      <td>1008.710000</td>\n",
              "      <td>1008.71</td>\n",
              "      <td>456.46</td>\n",
              "      <td>435.17</td>\n",
              "      <td>0.00</td>\n",
              "      <td>117.08</td>\n",
              "      <td>1.11</td>\n",
              "      <td>119.66</td>\n",
              "      <td>NaN</td>\n",
              "      <td>NaN</td>\n",
              "      <td>NaN</td>\n",
              "      <td>NaN</td>\n",
              "      <td>1</td>\n",
              "      <td>8676.0</td>\n",
              "      <td>3409.0</td>\n",
              "      <td>4049</td>\n",
              "      <td>3562.0</td>\n",
              "    </tr>\n",
              "    <tr>\n",
              "      <th>2</th>\n",
              "      <td>1077175</td>\n",
              "      <td>1313524</td>\n",
              "      <td>2400.0</td>\n",
              "      <td>2400.0</td>\n",
              "      <td>2400.0</td>\n",
              "      <td>36</td>\n",
              "      <td>15.96</td>\n",
              "      <td>84.33</td>\n",
              "      <td>C</td>\n",
              "      <td>C5</td>\n",
              "      <td>10+ years</td>\n",
              "      <td>RENT</td>\n",
              "      <td>12252.0</td>\n",
              "      <td>Not Verified</td>\n",
              "      <td>Fully Paid</td>\n",
              "      <td>small_business</td>\n",
              "      <td>IL</td>\n",
              "      <td>8.72</td>\n",
              "      <td>0.0</td>\n",
              "      <td>2.0</td>\n",
              "      <td>NaN</td>\n",
              "      <td>2.0</td>\n",
              "      <td>0.0</td>\n",
              "      <td>2956.0</td>\n",
              "      <td>98.5</td>\n",
              "      <td>10.0</td>\n",
              "      <td>0.0</td>\n",
              "      <td>0.0</td>\n",
              "      <td>3003.653644</td>\n",
              "      <td>3003.65</td>\n",
              "      <td>2400.00</td>\n",
              "      <td>603.65</td>\n",
              "      <td>0.00</td>\n",
              "      <td>0.00</td>\n",
              "      <td>0.00</td>\n",
              "      <td>649.91</td>\n",
              "      <td>NaN</td>\n",
              "      <td>NaN</td>\n",
              "      <td>NaN</td>\n",
              "      <td>NaN</td>\n",
              "      <td>0</td>\n",
              "      <td>7731.0</td>\n",
              "      <td>2557.0</td>\n",
              "      <td>4049</td>\n",
              "      <td>3136.0</td>\n",
              "    </tr>\n",
              "    <tr>\n",
              "      <th>3</th>\n",
              "      <td>1076863</td>\n",
              "      <td>1277178</td>\n",
              "      <td>10000.0</td>\n",
              "      <td>10000.0</td>\n",
              "      <td>10000.0</td>\n",
              "      <td>36</td>\n",
              "      <td>13.49</td>\n",
              "      <td>339.31</td>\n",
              "      <td>C</td>\n",
              "      <td>C1</td>\n",
              "      <td>10+ years</td>\n",
              "      <td>RENT</td>\n",
              "      <td>49200.0</td>\n",
              "      <td>Source Verified</td>\n",
              "      <td>Fully Paid</td>\n",
              "      <td>other</td>\n",
              "      <td>CA</td>\n",
              "      <td>20.00</td>\n",
              "      <td>0.0</td>\n",
              "      <td>1.0</td>\n",
              "      <td>35.0</td>\n",
              "      <td>10.0</td>\n",
              "      <td>0.0</td>\n",
              "      <td>5598.0</td>\n",
              "      <td>21.0</td>\n",
              "      <td>37.0</td>\n",
              "      <td>0.0</td>\n",
              "      <td>0.0</td>\n",
              "      <td>12226.302212</td>\n",
              "      <td>12226.30</td>\n",
              "      <td>10000.00</td>\n",
              "      <td>2209.33</td>\n",
              "      <td>16.97</td>\n",
              "      <td>0.00</td>\n",
              "      <td>0.00</td>\n",
              "      <td>357.48</td>\n",
              "      <td>NaN</td>\n",
              "      <td>NaN</td>\n",
              "      <td>NaN</td>\n",
              "      <td>NaN</td>\n",
              "      <td>0</td>\n",
              "      <td>9831.0</td>\n",
              "      <td>2922.0</td>\n",
              "      <td>4049</td>\n",
              "      <td>2922.0</td>\n",
              "    </tr>\n",
              "    <tr>\n",
              "      <th>4</th>\n",
              "      <td>1075358</td>\n",
              "      <td>1311748</td>\n",
              "      <td>3000.0</td>\n",
              "      <td>3000.0</td>\n",
              "      <td>3000.0</td>\n",
              "      <td>60</td>\n",
              "      <td>12.69</td>\n",
              "      <td>67.79</td>\n",
              "      <td>B</td>\n",
              "      <td>B5</td>\n",
              "      <td>1 year</td>\n",
              "      <td>RENT</td>\n",
              "      <td>80000.0</td>\n",
              "      <td>Source Verified</td>\n",
              "      <td>Current</td>\n",
              "      <td>other</td>\n",
              "      <td>OR</td>\n",
              "      <td>17.94</td>\n",
              "      <td>0.0</td>\n",
              "      <td>0.0</td>\n",
              "      <td>38.0</td>\n",
              "      <td>15.0</td>\n",
              "      <td>0.0</td>\n",
              "      <td>27783.0</td>\n",
              "      <td>53.9</td>\n",
              "      <td>38.0</td>\n",
              "      <td>766.9</td>\n",
              "      <td>766.9</td>\n",
              "      <td>3242.170000</td>\n",
              "      <td>3242.17</td>\n",
              "      <td>2233.10</td>\n",
              "      <td>1009.07</td>\n",
              "      <td>0.00</td>\n",
              "      <td>0.00</td>\n",
              "      <td>0.00</td>\n",
              "      <td>67.79</td>\n",
              "      <td>NaN</td>\n",
              "      <td>NaN</td>\n",
              "      <td>NaN</td>\n",
              "      <td>NaN</td>\n",
              "      <td>0</td>\n",
              "      <td>9862.0</td>\n",
              "      <td>2557.0</td>\n",
              "      <td>4049</td>\n",
              "      <td>2557.0</td>\n",
              "    </tr>\n",
              "  </tbody>\n",
              "</table>\n",
              "</div>\n",
              "      <button class=\"colab-df-convert\" onclick=\"convertToInteractive('df-8843a51f-db1d-44d8-8d95-300a0fec00d3')\"\n",
              "              title=\"Convert this dataframe to an interactive table.\"\n",
              "              style=\"display:none;\">\n",
              "        \n",
              "  <svg xmlns=\"http://www.w3.org/2000/svg\" height=\"24px\"viewBox=\"0 0 24 24\"\n",
              "       width=\"24px\">\n",
              "    <path d=\"M0 0h24v24H0V0z\" fill=\"none\"/>\n",
              "    <path d=\"M18.56 5.44l.94 2.06.94-2.06 2.06-.94-2.06-.94-.94-2.06-.94 2.06-2.06.94zm-11 1L8.5 8.5l.94-2.06 2.06-.94-2.06-.94L8.5 2.5l-.94 2.06-2.06.94zm10 10l.94 2.06.94-2.06 2.06-.94-2.06-.94-.94-2.06-.94 2.06-2.06.94z\"/><path d=\"M17.41 7.96l-1.37-1.37c-.4-.4-.92-.59-1.43-.59-.52 0-1.04.2-1.43.59L10.3 9.45l-7.72 7.72c-.78.78-.78 2.05 0 2.83L4 21.41c.39.39.9.59 1.41.59.51 0 1.02-.2 1.41-.59l7.78-7.78 2.81-2.81c.8-.78.8-2.07 0-2.86zM5.41 20L4 18.59l7.72-7.72 1.47 1.35L5.41 20z\"/>\n",
              "  </svg>\n",
              "      </button>\n",
              "      \n",
              "  <style>\n",
              "    .colab-df-container {\n",
              "      display:flex;\n",
              "      flex-wrap:wrap;\n",
              "      gap: 12px;\n",
              "    }\n",
              "\n",
              "    .colab-df-convert {\n",
              "      background-color: #E8F0FE;\n",
              "      border: none;\n",
              "      border-radius: 50%;\n",
              "      cursor: pointer;\n",
              "      display: none;\n",
              "      fill: #1967D2;\n",
              "      height: 32px;\n",
              "      padding: 0 0 0 0;\n",
              "      width: 32px;\n",
              "    }\n",
              "\n",
              "    .colab-df-convert:hover {\n",
              "      background-color: #E2EBFA;\n",
              "      box-shadow: 0px 1px 2px rgba(60, 64, 67, 0.3), 0px 1px 3px 1px rgba(60, 64, 67, 0.15);\n",
              "      fill: #174EA6;\n",
              "    }\n",
              "\n",
              "    [theme=dark] .colab-df-convert {\n",
              "      background-color: #3B4455;\n",
              "      fill: #D2E3FC;\n",
              "    }\n",
              "\n",
              "    [theme=dark] .colab-df-convert:hover {\n",
              "      background-color: #434B5C;\n",
              "      box-shadow: 0px 1px 3px 1px rgba(0, 0, 0, 0.15);\n",
              "      filter: drop-shadow(0px 1px 2px rgba(0, 0, 0, 0.3));\n",
              "      fill: #FFFFFF;\n",
              "    }\n",
              "  </style>\n",
              "\n",
              "      <script>\n",
              "        const buttonEl =\n",
              "          document.querySelector('#df-8843a51f-db1d-44d8-8d95-300a0fec00d3 button.colab-df-convert');\n",
              "        buttonEl.style.display =\n",
              "          google.colab.kernel.accessAllowed ? 'block' : 'none';\n",
              "\n",
              "        async function convertToInteractive(key) {\n",
              "          const element = document.querySelector('#df-8843a51f-db1d-44d8-8d95-300a0fec00d3');\n",
              "          const dataTable =\n",
              "            await google.colab.kernel.invokeFunction('convertToInteractive',\n",
              "                                                     [key], {});\n",
              "          if (!dataTable) return;\n",
              "\n",
              "          const docLinkHtml = 'Like what you see? Visit the ' +\n",
              "            '<a target=\"_blank\" href=https://colab.research.google.com/notebooks/data_table.ipynb>data table notebook</a>'\n",
              "            + ' to learn more about interactive tables.';\n",
              "          element.innerHTML = '';\n",
              "          dataTable['output_type'] = 'display_data';\n",
              "          await google.colab.output.renderOutput(dataTable, element);\n",
              "          const docLink = document.createElement('div');\n",
              "          docLink.innerHTML = docLinkHtml;\n",
              "          element.appendChild(docLink);\n",
              "        }\n",
              "      </script>\n",
              "    </div>\n",
              "  </div>\n",
              "  "
            ],
            "text/plain": [
              "        id  member_id  loan_amnt  funded_amnt  funded_amnt_inv  term  \\\n",
              "0  1077501    1296599     5000.0       5000.0           4975.0    36   \n",
              "1  1077430    1314167     2500.0       2500.0           2500.0    60   \n",
              "2  1077175    1313524     2400.0       2400.0           2400.0    36   \n",
              "3  1076863    1277178    10000.0      10000.0          10000.0    36   \n",
              "4  1075358    1311748     3000.0       3000.0           3000.0    60   \n",
              "\n",
              "   int_rate  installment grade sub_grade emp_length home_ownership  \\\n",
              "0     10.65       162.87     B        B2  10+ years           RENT   \n",
              "1     15.27        59.83     C        C4   < 1 year           RENT   \n",
              "2     15.96        84.33     C        C5  10+ years           RENT   \n",
              "3     13.49       339.31     C        C1  10+ years           RENT   \n",
              "4     12.69        67.79     B        B5     1 year           RENT   \n",
              "\n",
              "   annual_inc verification_status  loan_status         purpose addr_state  \\\n",
              "0     24000.0            Verified   Fully Paid     credit_card         AZ   \n",
              "1     30000.0     Source Verified  Charged Off             car         GA   \n",
              "2     12252.0        Not Verified   Fully Paid  small_business         IL   \n",
              "3     49200.0     Source Verified   Fully Paid           other         CA   \n",
              "4     80000.0     Source Verified      Current           other         OR   \n",
              "\n",
              "     dti  delinq_2yrs  inq_last_6mths  mths_since_last_delinq  open_acc  \\\n",
              "0  27.65          0.0             1.0                     NaN       3.0   \n",
              "1   1.00          0.0             5.0                     NaN       3.0   \n",
              "2   8.72          0.0             2.0                     NaN       2.0   \n",
              "3  20.00          0.0             1.0                    35.0      10.0   \n",
              "4  17.94          0.0             0.0                    38.0      15.0   \n",
              "\n",
              "   pub_rec  revol_bal  revol_util  total_acc  out_prncp  out_prncp_inv  \\\n",
              "0      0.0    13648.0        83.7        9.0        0.0            0.0   \n",
              "1      0.0     1687.0         9.4        4.0        0.0            0.0   \n",
              "2      0.0     2956.0        98.5       10.0        0.0            0.0   \n",
              "3      0.0     5598.0        21.0       37.0        0.0            0.0   \n",
              "4      0.0    27783.0        53.9       38.0      766.9          766.9   \n",
              "\n",
              "    total_pymnt  total_pymnt_inv  total_rec_prncp  total_rec_int  \\\n",
              "0   5861.071414          5831.78          5000.00         861.07   \n",
              "1   1008.710000          1008.71           456.46         435.17   \n",
              "2   3003.653644          3003.65          2400.00         603.65   \n",
              "3  12226.302212         12226.30         10000.00        2209.33   \n",
              "4   3242.170000          3242.17          2233.10        1009.07   \n",
              "\n",
              "   total_rec_late_fee  recoveries  collection_recovery_fee  last_pymnt_amnt  \\\n",
              "0                0.00        0.00                     0.00           171.62   \n",
              "1                0.00      117.08                     1.11           119.66   \n",
              "2                0.00        0.00                     0.00           649.91   \n",
              "3               16.97        0.00                     0.00           357.48   \n",
              "4                0.00        0.00                     0.00            67.79   \n",
              "\n",
              "   mths_since_last_major_derog  tot_coll_amt  tot_cur_bal  total_rev_hi_lim  \\\n",
              "0                          NaN           NaN          NaN               NaN   \n",
              "1                          NaN           NaN          NaN               NaN   \n",
              "2                          NaN           NaN          NaN               NaN   \n",
              "3                          NaN           NaN          NaN               NaN   \n",
              "4                          NaN           NaN          NaN               NaN   \n",
              "\n",
              "   default_flag  cr_history_length  since_last_cr_pull  since_issue  \\\n",
              "0             0            13879.0              2557.0         4049   \n",
              "1             1             8676.0              3409.0         4049   \n",
              "2             0             7731.0              2557.0         4049   \n",
              "3             0             9831.0              2922.0         4049   \n",
              "4             0             9862.0              2557.0         4049   \n",
              "\n",
              "   since_last_pnmt  \n",
              "0           2922.0  \n",
              "1           3562.0  \n",
              "2           3136.0  \n",
              "3           2922.0  \n",
              "4           2557.0  "
            ]
          },
          "execution_count": 179,
          "metadata": {},
          "output_type": "execute_result"
        }
      ],
      "source": [
        "data.head()"
      ]
    },
    {
      "cell_type": "markdown",
      "source": [
        "###5. Transform some object columns into numbers"
      ],
      "metadata": {
        "id": "_OG7ffQAjcXC"
      }
    },
    {
      "cell_type": "markdown",
      "source": [
        "Term variable consists only of '36 months' or '60 months', which we can simply transform into numbers"
      ],
      "metadata": {
        "id": "cQEyW2DuQJ8O"
      }
    },
    {
      "cell_type": "code",
      "execution_count": null,
      "metadata": {
        "id": "2OatImH4agmT"
      },
      "outputs": [],
      "source": [
        "data['term']=pd.to_numeric(data['term'].str[:3])"
      ]
    },
    {
      "cell_type": "markdown",
      "metadata": {
        "id": "TKlXROE3e0Ew"
      },
      "source": [
        "Transform employment length to number"
      ]
    },
    {
      "cell_type": "code",
      "execution_count": null,
      "metadata": {
        "colab": {
          "base_uri": "https://localhost:8080/"
        },
        "id": "F7kWSWt0fRyn",
        "outputId": "7163f696-c6ad-4b38-aa8d-a86bd3179f1a"
      },
      "outputs": [
        {
          "data": {
            "text/plain": [
              "10+ years    291569\n",
              "2 years       78870\n",
              "< 1 year      70605\n",
              "3 years       70026\n",
              "1 year        57095\n",
              "5 years       55704\n",
              "4 years       52529\n",
              "7 years       44594\n",
              "8 years       43955\n",
              "6 years       42950\n",
              "9 years       34657\n",
              "Name: emp_length, dtype: int64"
            ]
          },
          "execution_count": 266,
          "metadata": {},
          "output_type": "execute_result"
        }
      ],
      "source": [
        "data['emp_length'].value_counts()"
      ]
    },
    {
      "cell_type": "code",
      "execution_count": null,
      "metadata": {
        "id": "-CgByDiApd8K"
      },
      "outputs": [],
      "source": [
        "data['emp_length_num']=data['emp_length'].map({'< 1 year':0,'1 year':1, '2 years':2, '3 years':3, '4 years':4, '5 years':5, '6 years':6, '7 years': 7, '8 years': 8, '9 years':9, '10+ years':10})"
      ]
    },
    {
      "cell_type": "code",
      "execution_count": null,
      "metadata": {
        "id": "NOfYphwKhQn9"
      },
      "outputs": [],
      "source": [
        "del data['emp_length']"
      ]
    },
    {
      "cell_type": "markdown",
      "source": [
        "###6. Drop the original target column and take one more look at the data"
      ],
      "metadata": {
        "id": "Z9Jg1zbWju1J"
      }
    },
    {
      "cell_type": "markdown",
      "metadata": {
        "id": "ShEUQtgKk8GI"
      },
      "source": [
        "We can also drop loan_status, as we have transformed it into a default flag before"
      ]
    },
    {
      "cell_type": "code",
      "execution_count": null,
      "metadata": {
        "id": "bAg7Npp2hQpm"
      },
      "outputs": [],
      "source": [
        "del data['loan_status']"
      ]
    },
    {
      "cell_type": "code",
      "execution_count": null,
      "metadata": {
        "colab": {
          "base_uri": "https://localhost:8080/",
          "height": 364
        },
        "id": "KnLLKqQDpgot",
        "outputId": "1df16a0c-3522-4a65-ba73-1afbf0e0f8cf"
      },
      "outputs": [
        {
          "data": {
            "text/html": [
              "\n",
              "  <div id=\"df-30bfa816-65e5-4269-b011-663b95cd3280\">\n",
              "    <div class=\"colab-df-container\">\n",
              "      <div>\n",
              "<style scoped>\n",
              "    .dataframe tbody tr th:only-of-type {\n",
              "        vertical-align: middle;\n",
              "    }\n",
              "\n",
              "    .dataframe tbody tr th {\n",
              "        vertical-align: top;\n",
              "    }\n",
              "\n",
              "    .dataframe thead th {\n",
              "        text-align: right;\n",
              "    }\n",
              "</style>\n",
              "<table border=\"1\" class=\"dataframe\">\n",
              "  <thead>\n",
              "    <tr style=\"text-align: right;\">\n",
              "      <th></th>\n",
              "      <th>id</th>\n",
              "      <th>member_id</th>\n",
              "      <th>loan_amnt</th>\n",
              "      <th>funded_amnt</th>\n",
              "      <th>funded_amnt_inv</th>\n",
              "      <th>term</th>\n",
              "      <th>int_rate</th>\n",
              "      <th>installment</th>\n",
              "      <th>annual_inc</th>\n",
              "      <th>dti</th>\n",
              "      <th>delinq_2yrs</th>\n",
              "      <th>inq_last_6mths</th>\n",
              "      <th>mths_since_last_delinq</th>\n",
              "      <th>open_acc</th>\n",
              "      <th>pub_rec</th>\n",
              "      <th>revol_bal</th>\n",
              "      <th>revol_util</th>\n",
              "      <th>total_acc</th>\n",
              "      <th>out_prncp</th>\n",
              "      <th>out_prncp_inv</th>\n",
              "      <th>total_pymnt</th>\n",
              "      <th>total_pymnt_inv</th>\n",
              "      <th>total_rec_prncp</th>\n",
              "      <th>total_rec_int</th>\n",
              "      <th>total_rec_late_fee</th>\n",
              "      <th>recoveries</th>\n",
              "      <th>collection_recovery_fee</th>\n",
              "      <th>last_pymnt_amnt</th>\n",
              "      <th>tot_coll_amt</th>\n",
              "      <th>tot_cur_bal</th>\n",
              "      <th>total_rev_hi_lim</th>\n",
              "      <th>default_flag</th>\n",
              "      <th>cr_history_length</th>\n",
              "      <th>since_last_cr_pull</th>\n",
              "      <th>since_issue</th>\n",
              "      <th>since_last_pnmt</th>\n",
              "      <th>emp_length_num</th>\n",
              "    </tr>\n",
              "  </thead>\n",
              "  <tbody>\n",
              "    <tr>\n",
              "      <th>count</th>\n",
              "      <td>8.873790e+05</td>\n",
              "      <td>8.873790e+05</td>\n",
              "      <td>887379.000000</td>\n",
              "      <td>887379.000000</td>\n",
              "      <td>887379.000000</td>\n",
              "      <td>887379.000000</td>\n",
              "      <td>887379.000000</td>\n",
              "      <td>887379.000000</td>\n",
              "      <td>8.873750e+05</td>\n",
              "      <td>887379.000000</td>\n",
              "      <td>887350.000000</td>\n",
              "      <td>887350.000000</td>\n",
              "      <td>433067.000000</td>\n",
              "      <td>887350.000000</td>\n",
              "      <td>887350.000000</td>\n",
              "      <td>8.873790e+05</td>\n",
              "      <td>886877.000000</td>\n",
              "      <td>887350.000000</td>\n",
              "      <td>887379.000000</td>\n",
              "      <td>887379.000000</td>\n",
              "      <td>887379.000000</td>\n",
              "      <td>887379.000000</td>\n",
              "      <td>887379.000000</td>\n",
              "      <td>887379.000000</td>\n",
              "      <td>887379.000000</td>\n",
              "      <td>887379.000000</td>\n",
              "      <td>887379.000000</td>\n",
              "      <td>887379.000000</td>\n",
              "      <td>8.171030e+05</td>\n",
              "      <td>8.171030e+05</td>\n",
              "      <td>8.171030e+05</td>\n",
              "      <td>887379.000000</td>\n",
              "      <td>887350.00000</td>\n",
              "      <td>887326.000000</td>\n",
              "      <td>887379.000000</td>\n",
              "      <td>869720.000000</td>\n",
              "      <td>842554.000000</td>\n",
              "    </tr>\n",
              "    <tr>\n",
              "      <th>mean</th>\n",
              "      <td>3.246513e+07</td>\n",
              "      <td>3.500182e+07</td>\n",
              "      <td>14755.264605</td>\n",
              "      <td>14741.877625</td>\n",
              "      <td>14702.464383</td>\n",
              "      <td>43.201090</td>\n",
              "      <td>13.246740</td>\n",
              "      <td>436.717127</td>\n",
              "      <td>7.502759e+04</td>\n",
              "      <td>18.157039</td>\n",
              "      <td>0.314442</td>\n",
              "      <td>0.694623</td>\n",
              "      <td>34.063798</td>\n",
              "      <td>11.548469</td>\n",
              "      <td>0.195307</td>\n",
              "      <td>1.692079e+04</td>\n",
              "      <td>55.067693</td>\n",
              "      <td>25.268026</td>\n",
              "      <td>8403.124852</td>\n",
              "      <td>8399.713242</td>\n",
              "      <td>7558.826684</td>\n",
              "      <td>7521.160306</td>\n",
              "      <td>5757.706424</td>\n",
              "      <td>1754.804327</td>\n",
              "      <td>0.396692</td>\n",
              "      <td>45.919243</td>\n",
              "      <td>4.880757</td>\n",
              "      <td>2164.145585</td>\n",
              "      <td>2.257026e+02</td>\n",
              "      <td>1.394582e+05</td>\n",
              "      <td>3.206862e+04</td>\n",
              "      <td>0.068083</td>\n",
              "      <td>9066.13260</td>\n",
              "      <td>2623.986856</td>\n",
              "      <td>3096.714597</td>\n",
              "      <td>2699.664855</td>\n",
              "      <td>6.008695</td>\n",
              "    </tr>\n",
              "    <tr>\n",
              "      <th>std</th>\n",
              "      <td>2.282734e+07</td>\n",
              "      <td>2.411335e+07</td>\n",
              "      <td>8435.455601</td>\n",
              "      <td>8429.897657</td>\n",
              "      <td>8442.106732</td>\n",
              "      <td>10.998663</td>\n",
              "      <td>4.381867</td>\n",
              "      <td>244.186593</td>\n",
              "      <td>6.469830e+04</td>\n",
              "      <td>17.190626</td>\n",
              "      <td>0.862244</td>\n",
              "      <td>0.998448</td>\n",
              "      <td>21.884940</td>\n",
              "      <td>5.317313</td>\n",
              "      <td>0.582091</td>\n",
              "      <td>2.242679e+04</td>\n",
              "      <td>23.834344</td>\n",
              "      <td>11.840561</td>\n",
              "      <td>8493.450269</td>\n",
              "      <td>8489.997617</td>\n",
              "      <td>7871.243336</td>\n",
              "      <td>7846.108604</td>\n",
              "      <td>6625.441046</td>\n",
              "      <td>2095.356099</td>\n",
              "      <td>4.087825</td>\n",
              "      <td>409.693874</td>\n",
              "      <td>63.125281</td>\n",
              "      <td>4794.783233</td>\n",
              "      <td>1.031137e+04</td>\n",
              "      <td>1.537500e+05</td>\n",
              "      <td>3.749826e+04</td>\n",
              "      <td>0.251888</td>\n",
              "      <td>2716.31017</td>\n",
              "      <td>221.588770</td>\n",
              "      <td>468.165139</td>\n",
              "      <td>310.120946</td>\n",
              "      <td>3.666155</td>\n",
              "    </tr>\n",
              "    <tr>\n",
              "      <th>min</th>\n",
              "      <td>5.473400e+04</td>\n",
              "      <td>7.047300e+04</td>\n",
              "      <td>500.000000</td>\n",
              "      <td>500.000000</td>\n",
              "      <td>0.000000</td>\n",
              "      <td>36.000000</td>\n",
              "      <td>5.320000</td>\n",
              "      <td>15.670000</td>\n",
              "      <td>0.000000e+00</td>\n",
              "      <td>0.000000</td>\n",
              "      <td>0.000000</td>\n",
              "      <td>0.000000</td>\n",
              "      <td>0.000000</td>\n",
              "      <td>0.000000</td>\n",
              "      <td>0.000000</td>\n",
              "      <td>0.000000e+00</td>\n",
              "      <td>0.000000</td>\n",
              "      <td>1.000000</td>\n",
              "      <td>0.000000</td>\n",
              "      <td>0.000000</td>\n",
              "      <td>0.000000</td>\n",
              "      <td>0.000000</td>\n",
              "      <td>0.000000</td>\n",
              "      <td>0.000000</td>\n",
              "      <td>0.000000</td>\n",
              "      <td>0.000000</td>\n",
              "      <td>0.000000</td>\n",
              "      <td>0.000000</td>\n",
              "      <td>0.000000e+00</td>\n",
              "      <td>0.000000e+00</td>\n",
              "      <td>0.000000e+00</td>\n",
              "      <td>0.000000</td>\n",
              "      <td>3713.00000</td>\n",
              "      <td>2557.000000</td>\n",
              "      <td>2588.000000</td>\n",
              "      <td>2557.000000</td>\n",
              "      <td>0.000000</td>\n",
              "    </tr>\n",
              "    <tr>\n",
              "      <th>25%</th>\n",
              "      <td>9.206643e+06</td>\n",
              "      <td>1.087713e+07</td>\n",
              "      <td>8000.000000</td>\n",
              "      <td>8000.000000</td>\n",
              "      <td>8000.000000</td>\n",
              "      <td>36.000000</td>\n",
              "      <td>9.990000</td>\n",
              "      <td>260.705000</td>\n",
              "      <td>4.500000e+04</td>\n",
              "      <td>11.910000</td>\n",
              "      <td>0.000000</td>\n",
              "      <td>0.000000</td>\n",
              "      <td>15.000000</td>\n",
              "      <td>8.000000</td>\n",
              "      <td>0.000000</td>\n",
              "      <td>6.443000e+03</td>\n",
              "      <td>37.700000</td>\n",
              "      <td>17.000000</td>\n",
              "      <td>0.000000</td>\n",
              "      <td>0.000000</td>\n",
              "      <td>1914.590000</td>\n",
              "      <td>1899.700000</td>\n",
              "      <td>1200.570000</td>\n",
              "      <td>441.460000</td>\n",
              "      <td>0.000000</td>\n",
              "      <td>0.000000</td>\n",
              "      <td>0.000000</td>\n",
              "      <td>280.170000</td>\n",
              "      <td>0.000000e+00</td>\n",
              "      <td>2.985300e+04</td>\n",
              "      <td>1.390000e+04</td>\n",
              "      <td>0.000000</td>\n",
              "      <td>7185.00000</td>\n",
              "      <td>2557.000000</td>\n",
              "      <td>2741.000000</td>\n",
              "      <td>2557.000000</td>\n",
              "      <td>3.000000</td>\n",
              "    </tr>\n",
              "    <tr>\n",
              "      <th>50%</th>\n",
              "      <td>3.443327e+07</td>\n",
              "      <td>3.709528e+07</td>\n",
              "      <td>13000.000000</td>\n",
              "      <td>13000.000000</td>\n",
              "      <td>13000.000000</td>\n",
              "      <td>36.000000</td>\n",
              "      <td>12.990000</td>\n",
              "      <td>382.550000</td>\n",
              "      <td>6.500000e+04</td>\n",
              "      <td>17.650000</td>\n",
              "      <td>0.000000</td>\n",
              "      <td>0.000000</td>\n",
              "      <td>31.000000</td>\n",
              "      <td>11.000000</td>\n",
              "      <td>0.000000</td>\n",
              "      <td>1.187500e+04</td>\n",
              "      <td>56.000000</td>\n",
              "      <td>24.000000</td>\n",
              "      <td>6458.290000</td>\n",
              "      <td>6455.810000</td>\n",
              "      <td>4894.999117</td>\n",
              "      <td>4862.010000</td>\n",
              "      <td>3215.320000</td>\n",
              "      <td>1073.280000</td>\n",
              "      <td>0.000000</td>\n",
              "      <td>0.000000</td>\n",
              "      <td>0.000000</td>\n",
              "      <td>462.780000</td>\n",
              "      <td>0.000000e+00</td>\n",
              "      <td>8.055900e+04</td>\n",
              "      <td>2.370000e+04</td>\n",
              "      <td>0.000000</td>\n",
              "      <td>8523.00000</td>\n",
              "      <td>2557.000000</td>\n",
              "      <td>2983.000000</td>\n",
              "      <td>2557.000000</td>\n",
              "      <td>6.000000</td>\n",
              "    </tr>\n",
              "    <tr>\n",
              "      <th>75%</th>\n",
              "      <td>5.490814e+07</td>\n",
              "      <td>5.847135e+07</td>\n",
              "      <td>20000.000000</td>\n",
              "      <td>20000.000000</td>\n",
              "      <td>20000.000000</td>\n",
              "      <td>60.000000</td>\n",
              "      <td>16.200000</td>\n",
              "      <td>572.600000</td>\n",
              "      <td>9.000000e+04</td>\n",
              "      <td>23.950000</td>\n",
              "      <td>0.000000</td>\n",
              "      <td>1.000000</td>\n",
              "      <td>50.000000</td>\n",
              "      <td>14.000000</td>\n",
              "      <td>0.000000</td>\n",
              "      <td>2.082900e+04</td>\n",
              "      <td>73.600000</td>\n",
              "      <td>32.000000</td>\n",
              "      <td>13659.055000</td>\n",
              "      <td>13654.050000</td>\n",
              "      <td>10616.814231</td>\n",
              "      <td>10565.690000</td>\n",
              "      <td>8000.000000</td>\n",
              "      <td>2238.265000</td>\n",
              "      <td>0.000000</td>\n",
              "      <td>0.000000</td>\n",
              "      <td>0.000000</td>\n",
              "      <td>831.245000</td>\n",
              "      <td>0.000000e+00</td>\n",
              "      <td>2.082050e+05</td>\n",
              "      <td>3.980000e+04</td>\n",
              "      <td>0.000000</td>\n",
              "      <td>10441.00000</td>\n",
              "      <td>2557.000000</td>\n",
              "      <td>3318.000000</td>\n",
              "      <td>2679.000000</td>\n",
              "      <td>10.000000</td>\n",
              "    </tr>\n",
              "    <tr>\n",
              "      <th>max</th>\n",
              "      <td>6.861706e+07</td>\n",
              "      <td>7.354484e+07</td>\n",
              "      <td>35000.000000</td>\n",
              "      <td>35000.000000</td>\n",
              "      <td>35000.000000</td>\n",
              "      <td>60.000000</td>\n",
              "      <td>28.990000</td>\n",
              "      <td>1445.460000</td>\n",
              "      <td>9.500000e+06</td>\n",
              "      <td>9999.000000</td>\n",
              "      <td>39.000000</td>\n",
              "      <td>33.000000</td>\n",
              "      <td>188.000000</td>\n",
              "      <td>90.000000</td>\n",
              "      <td>86.000000</td>\n",
              "      <td>2.904836e+06</td>\n",
              "      <td>892.300000</td>\n",
              "      <td>169.000000</td>\n",
              "      <td>49372.860000</td>\n",
              "      <td>49372.860000</td>\n",
              "      <td>57777.579870</td>\n",
              "      <td>57777.580000</td>\n",
              "      <td>35000.030000</td>\n",
              "      <td>24205.620000</td>\n",
              "      <td>358.680000</td>\n",
              "      <td>33520.270000</td>\n",
              "      <td>7002.190000</td>\n",
              "      <td>36475.590000</td>\n",
              "      <td>9.152545e+06</td>\n",
              "      <td>8.000078e+06</td>\n",
              "      <td>9.999999e+06</td>\n",
              "      <td>1.000000</td>\n",
              "      <td>28855.00000</td>\n",
              "      <td>5724.000000</td>\n",
              "      <td>5693.000000</td>\n",
              "      <td>5510.000000</td>\n",
              "      <td>10.000000</td>\n",
              "    </tr>\n",
              "  </tbody>\n",
              "</table>\n",
              "</div>\n",
              "      <button class=\"colab-df-convert\" onclick=\"convertToInteractive('df-30bfa816-65e5-4269-b011-663b95cd3280')\"\n",
              "              title=\"Convert this dataframe to an interactive table.\"\n",
              "              style=\"display:none;\">\n",
              "        \n",
              "  <svg xmlns=\"http://www.w3.org/2000/svg\" height=\"24px\"viewBox=\"0 0 24 24\"\n",
              "       width=\"24px\">\n",
              "    <path d=\"M0 0h24v24H0V0z\" fill=\"none\"/>\n",
              "    <path d=\"M18.56 5.44l.94 2.06.94-2.06 2.06-.94-2.06-.94-.94-2.06-.94 2.06-2.06.94zm-11 1L8.5 8.5l.94-2.06 2.06-.94-2.06-.94L8.5 2.5l-.94 2.06-2.06.94zm10 10l.94 2.06.94-2.06 2.06-.94-2.06-.94-.94-2.06-.94 2.06-2.06.94z\"/><path d=\"M17.41 7.96l-1.37-1.37c-.4-.4-.92-.59-1.43-.59-.52 0-1.04.2-1.43.59L10.3 9.45l-7.72 7.72c-.78.78-.78 2.05 0 2.83L4 21.41c.39.39.9.59 1.41.59.51 0 1.02-.2 1.41-.59l7.78-7.78 2.81-2.81c.8-.78.8-2.07 0-2.86zM5.41 20L4 18.59l7.72-7.72 1.47 1.35L5.41 20z\"/>\n",
              "  </svg>\n",
              "      </button>\n",
              "      \n",
              "  <style>\n",
              "    .colab-df-container {\n",
              "      display:flex;\n",
              "      flex-wrap:wrap;\n",
              "      gap: 12px;\n",
              "    }\n",
              "\n",
              "    .colab-df-convert {\n",
              "      background-color: #E8F0FE;\n",
              "      border: none;\n",
              "      border-radius: 50%;\n",
              "      cursor: pointer;\n",
              "      display: none;\n",
              "      fill: #1967D2;\n",
              "      height: 32px;\n",
              "      padding: 0 0 0 0;\n",
              "      width: 32px;\n",
              "    }\n",
              "\n",
              "    .colab-df-convert:hover {\n",
              "      background-color: #E2EBFA;\n",
              "      box-shadow: 0px 1px 2px rgba(60, 64, 67, 0.3), 0px 1px 3px 1px rgba(60, 64, 67, 0.15);\n",
              "      fill: #174EA6;\n",
              "    }\n",
              "\n",
              "    [theme=dark] .colab-df-convert {\n",
              "      background-color: #3B4455;\n",
              "      fill: #D2E3FC;\n",
              "    }\n",
              "\n",
              "    [theme=dark] .colab-df-convert:hover {\n",
              "      background-color: #434B5C;\n",
              "      box-shadow: 0px 1px 3px 1px rgba(0, 0, 0, 0.15);\n",
              "      filter: drop-shadow(0px 1px 2px rgba(0, 0, 0, 0.3));\n",
              "      fill: #FFFFFF;\n",
              "    }\n",
              "  </style>\n",
              "\n",
              "      <script>\n",
              "        const buttonEl =\n",
              "          document.querySelector('#df-30bfa816-65e5-4269-b011-663b95cd3280 button.colab-df-convert');\n",
              "        buttonEl.style.display =\n",
              "          google.colab.kernel.accessAllowed ? 'block' : 'none';\n",
              "\n",
              "        async function convertToInteractive(key) {\n",
              "          const element = document.querySelector('#df-30bfa816-65e5-4269-b011-663b95cd3280');\n",
              "          const dataTable =\n",
              "            await google.colab.kernel.invokeFunction('convertToInteractive',\n",
              "                                                     [key], {});\n",
              "          if (!dataTable) return;\n",
              "\n",
              "          const docLinkHtml = 'Like what you see? Visit the ' +\n",
              "            '<a target=\"_blank\" href=https://colab.research.google.com/notebooks/data_table.ipynb>data table notebook</a>'\n",
              "            + ' to learn more about interactive tables.';\n",
              "          element.innerHTML = '';\n",
              "          dataTable['output_type'] = 'display_data';\n",
              "          await google.colab.output.renderOutput(dataTable, element);\n",
              "          const docLink = document.createElement('div');\n",
              "          docLink.innerHTML = docLinkHtml;\n",
              "          element.appendChild(docLink);\n",
              "        }\n",
              "      </script>\n",
              "    </div>\n",
              "  </div>\n",
              "  "
            ],
            "text/plain": [
              "                 id     member_id      loan_amnt    funded_amnt  \\\n",
              "count  8.873790e+05  8.873790e+05  887379.000000  887379.000000   \n",
              "mean   3.246513e+07  3.500182e+07   14755.264605   14741.877625   \n",
              "std    2.282734e+07  2.411335e+07    8435.455601    8429.897657   \n",
              "min    5.473400e+04  7.047300e+04     500.000000     500.000000   \n",
              "25%    9.206643e+06  1.087713e+07    8000.000000    8000.000000   \n",
              "50%    3.443327e+07  3.709528e+07   13000.000000   13000.000000   \n",
              "75%    5.490814e+07  5.847135e+07   20000.000000   20000.000000   \n",
              "max    6.861706e+07  7.354484e+07   35000.000000   35000.000000   \n",
              "\n",
              "       funded_amnt_inv           term       int_rate    installment  \\\n",
              "count    887379.000000  887379.000000  887379.000000  887379.000000   \n",
              "mean      14702.464383      43.201090      13.246740     436.717127   \n",
              "std        8442.106732      10.998663       4.381867     244.186593   \n",
              "min           0.000000      36.000000       5.320000      15.670000   \n",
              "25%        8000.000000      36.000000       9.990000     260.705000   \n",
              "50%       13000.000000      36.000000      12.990000     382.550000   \n",
              "75%       20000.000000      60.000000      16.200000     572.600000   \n",
              "max       35000.000000      60.000000      28.990000    1445.460000   \n",
              "\n",
              "         annual_inc            dti    delinq_2yrs  inq_last_6mths  \\\n",
              "count  8.873750e+05  887379.000000  887350.000000   887350.000000   \n",
              "mean   7.502759e+04      18.157039       0.314442        0.694623   \n",
              "std    6.469830e+04      17.190626       0.862244        0.998448   \n",
              "min    0.000000e+00       0.000000       0.000000        0.000000   \n",
              "25%    4.500000e+04      11.910000       0.000000        0.000000   \n",
              "50%    6.500000e+04      17.650000       0.000000        0.000000   \n",
              "75%    9.000000e+04      23.950000       0.000000        1.000000   \n",
              "max    9.500000e+06    9999.000000      39.000000       33.000000   \n",
              "\n",
              "       mths_since_last_delinq       open_acc        pub_rec     revol_bal  \\\n",
              "count           433067.000000  887350.000000  887350.000000  8.873790e+05   \n",
              "mean                34.063798      11.548469       0.195307  1.692079e+04   \n",
              "std                 21.884940       5.317313       0.582091  2.242679e+04   \n",
              "min                  0.000000       0.000000       0.000000  0.000000e+00   \n",
              "25%                 15.000000       8.000000       0.000000  6.443000e+03   \n",
              "50%                 31.000000      11.000000       0.000000  1.187500e+04   \n",
              "75%                 50.000000      14.000000       0.000000  2.082900e+04   \n",
              "max                188.000000      90.000000      86.000000  2.904836e+06   \n",
              "\n",
              "          revol_util      total_acc      out_prncp  out_prncp_inv  \\\n",
              "count  886877.000000  887350.000000  887379.000000  887379.000000   \n",
              "mean       55.067693      25.268026    8403.124852    8399.713242   \n",
              "std        23.834344      11.840561    8493.450269    8489.997617   \n",
              "min         0.000000       1.000000       0.000000       0.000000   \n",
              "25%        37.700000      17.000000       0.000000       0.000000   \n",
              "50%        56.000000      24.000000    6458.290000    6455.810000   \n",
              "75%        73.600000      32.000000   13659.055000   13654.050000   \n",
              "max       892.300000     169.000000   49372.860000   49372.860000   \n",
              "\n",
              "         total_pymnt  total_pymnt_inv  total_rec_prncp  total_rec_int  \\\n",
              "count  887379.000000    887379.000000    887379.000000  887379.000000   \n",
              "mean     7558.826684      7521.160306      5757.706424    1754.804327   \n",
              "std      7871.243336      7846.108604      6625.441046    2095.356099   \n",
              "min         0.000000         0.000000         0.000000       0.000000   \n",
              "25%      1914.590000      1899.700000      1200.570000     441.460000   \n",
              "50%      4894.999117      4862.010000      3215.320000    1073.280000   \n",
              "75%     10616.814231     10565.690000      8000.000000    2238.265000   \n",
              "max     57777.579870     57777.580000     35000.030000   24205.620000   \n",
              "\n",
              "       total_rec_late_fee     recoveries  collection_recovery_fee  \\\n",
              "count       887379.000000  887379.000000            887379.000000   \n",
              "mean             0.396692      45.919243                 4.880757   \n",
              "std              4.087825     409.693874                63.125281   \n",
              "min              0.000000       0.000000                 0.000000   \n",
              "25%              0.000000       0.000000                 0.000000   \n",
              "50%              0.000000       0.000000                 0.000000   \n",
              "75%              0.000000       0.000000                 0.000000   \n",
              "max            358.680000   33520.270000              7002.190000   \n",
              "\n",
              "       last_pymnt_amnt  tot_coll_amt   tot_cur_bal  total_rev_hi_lim  \\\n",
              "count    887379.000000  8.171030e+05  8.171030e+05      8.171030e+05   \n",
              "mean       2164.145585  2.257026e+02  1.394582e+05      3.206862e+04   \n",
              "std        4794.783233  1.031137e+04  1.537500e+05      3.749826e+04   \n",
              "min           0.000000  0.000000e+00  0.000000e+00      0.000000e+00   \n",
              "25%         280.170000  0.000000e+00  2.985300e+04      1.390000e+04   \n",
              "50%         462.780000  0.000000e+00  8.055900e+04      2.370000e+04   \n",
              "75%         831.245000  0.000000e+00  2.082050e+05      3.980000e+04   \n",
              "max       36475.590000  9.152545e+06  8.000078e+06      9.999999e+06   \n",
              "\n",
              "        default_flag  cr_history_length  since_last_cr_pull    since_issue  \\\n",
              "count  887379.000000       887350.00000       887326.000000  887379.000000   \n",
              "mean        0.068083         9066.13260         2623.986856    3096.714597   \n",
              "std         0.251888         2716.31017          221.588770     468.165139   \n",
              "min         0.000000         3713.00000         2557.000000    2588.000000   \n",
              "25%         0.000000         7185.00000         2557.000000    2741.000000   \n",
              "50%         0.000000         8523.00000         2557.000000    2983.000000   \n",
              "75%         0.000000        10441.00000         2557.000000    3318.000000   \n",
              "max         1.000000        28855.00000         5724.000000    5693.000000   \n",
              "\n",
              "       since_last_pnmt  emp_length_num  \n",
              "count    869720.000000   842554.000000  \n",
              "mean       2699.664855        6.008695  \n",
              "std         310.120946        3.666155  \n",
              "min        2557.000000        0.000000  \n",
              "25%        2557.000000        3.000000  \n",
              "50%        2557.000000        6.000000  \n",
              "75%        2679.000000       10.000000  \n",
              "max        5510.000000       10.000000  "
            ]
          },
          "execution_count": 270,
          "metadata": {},
          "output_type": "execute_result"
        }
      ],
      "source": [
        "data.describe()"
      ]
    },
    {
      "cell_type": "code",
      "execution_count": null,
      "metadata": {
        "colab": {
          "base_uri": "https://localhost:8080/",
          "height": 282
        },
        "id": "ZBDPl6Ts3z4N",
        "outputId": "e40c7e55-f4ac-4f83-ec57-2556aa1cd809"
      },
      "outputs": [
        {
          "data": {
            "text/plain": [
              "<matplotlib.axes._subplots.AxesSubplot at 0x7f065f542d90>"
            ]
          },
          "execution_count": 275,
          "metadata": {},
          "output_type": "execute_result"
        },
        {
          "data": {
            "image/png": "[encoded data removed]",
            "text/plain": [
              "<Figure size 432x288 with 1 Axes>"
            ]
          },
          "metadata": {},
          "output_type": "display_data"
        }
      ],
      "source": [
        "data['recoveries'].hist(bins=100)"
      ]
    },
    {
      "cell_type": "code",
      "execution_count": null,
      "metadata": {
        "colab": {
          "base_uri": "https://localhost:8080/",
          "height": 282
        },
        "id": "mWXcyCtX4EY1",
        "outputId": "274c4121-054e-4f5d-f831-b1142b8672e7"
      },
      "outputs": [
        {
          "data": {
            "text/plain": [
              "<matplotlib.axes._subplots.AxesSubplot at 0x7f066a00af70>"
            ]
          },
          "execution_count": 276,
          "metadata": {},
          "output_type": "execute_result"
        },
        {
          "data": {
            "image/png": "[encoded data removed]",
            "text/plain": [
              "<Figure size 432x288 with 1 Axes>"
            ]
          },
          "metadata": {},
          "output_type": "display_data"
        }
      ],
      "source": [
        "data['collection_recovery_fee'].hist(bins=100)"
      ]
    },
    {
      "cell_type": "code",
      "execution_count": null,
      "metadata": {
        "colab": {
          "base_uri": "https://localhost:8080/",
          "height": 282
        },
        "id": "LaZw5NI-4KpQ",
        "outputId": "c22720c0-518a-4f3b-acc0-28e62b2e508b"
      },
      "outputs": [
        {
          "data": {
            "text/plain": [
              "<matplotlib.axes._subplots.AxesSubplot at 0x7f066c9455b0>"
            ]
          },
          "execution_count": 277,
          "metadata": {},
          "output_type": "execute_result"
        },
        {
          "data": {
            "image/png": "[encoded data removed]",
            "text/plain": [
              "<Figure size 432x288 with 1 Axes>"
            ]
          },
          "metadata": {},
          "output_type": "display_data"
        }
      ],
      "source": [
        "data['total_rec_late_fee'].hist(bins=100)\n"
      ]
    },
    {
      "cell_type": "code",
      "execution_count": null,
      "metadata": {
        "colab": {
          "base_uri": "https://localhost:8080/"
        },
        "id": "XTNjdSup4XU3",
        "outputId": "d21f7467-58e5-4a10-9e6c-dc1afb4d9191"
      },
      "outputs": [
        {
          "data": {
            "text/plain": [
              "887379"
            ]
          },
          "execution_count": 30,
          "metadata": {},
          "output_type": "execute_result"
        }
      ],
      "source": [
        "#(data['recoveries']==0).count()\n",
        "(data['total_rec_late_fee']==0).count()\n",
        "#(data['collection_recovery_fee']==0).count()"
      ]
    },
    {
      "cell_type": "markdown",
      "metadata": {
        "id": "WQUHECfs4Qdm"
      },
      "source": [
        "As we can see the 3 variables mentioned above have a very high concentration, almost all of the values are 0, thus we can delete them"
      ]
    },
    {
      "cell_type": "code",
      "execution_count": null,
      "metadata": {
        "id": "-2CjSCrE4Krk"
      },
      "outputs": [],
      "source": [
        "del data['total_rec_late_fee']\n",
        "del data['recoveries']\n",
        "del data['collection_recovery_fee']"
      ]
    },
    {
      "cell_type": "code",
      "execution_count": null,
      "metadata": {
        "colab": {
          "base_uri": "https://localhost:8080/"
        },
        "id": "rq87sdZH49h_",
        "outputId": "e431e406-863d-4d91-e51a-32edd0e6bf71"
      },
      "outputs": [
        {
          "name": "stdout",
          "output_type": "stream",
          "text": [
            "<class 'pandas.core.frame.DataFrame'>\n",
            "RangeIndex: 887379 entries, 0 to 887378\n",
            "Data columns (total 42 columns):\n",
            " #   Column                  Non-Null Count   Dtype  \n",
            "---  ------                  --------------   -----  \n",
            " 0   id                      887379 non-null  int64  \n",
            " 1   member_id               887379 non-null  int64  \n",
            " 2   loan_amnt               887379 non-null  float64\n",
            " 3   funded_amnt             887379 non-null  float64\n",
            " 4   funded_amnt_inv         887379 non-null  float64\n",
            " 5   term                    887379 non-null  int64  \n",
            " 6   int_rate                887379 non-null  float64\n",
            " 7   installment             887379 non-null  float64\n",
            " 8   grade                   887379 non-null  object \n",
            " 9   sub_grade               887379 non-null  object \n",
            " 10  emp_title               835917 non-null  object \n",
            " 11  home_ownership          887379 non-null  object \n",
            " 12  annual_inc              887375 non-null  float64\n",
            " 13  verification_status     887379 non-null  object \n",
            " 14  purpose                 887379 non-null  object \n",
            " 15  addr_state              887379 non-null  object \n",
            " 16  dti                     887379 non-null  float64\n",
            " 17  delinq_2yrs             887350 non-null  float64\n",
            " 18  inq_last_6mths          887350 non-null  float64\n",
            " 19  mths_since_last_delinq  433067 non-null  float64\n",
            " 20  open_acc                887350 non-null  float64\n",
            " 21  pub_rec                 887350 non-null  float64\n",
            " 22  revol_bal               887379 non-null  float64\n",
            " 23  revol_util              886877 non-null  float64\n",
            " 24  total_acc               887350 non-null  float64\n",
            " 25  initial_list_status     887379 non-null  object \n",
            " 26  out_prncp               887379 non-null  float64\n",
            " 27  out_prncp_inv           887379 non-null  float64\n",
            " 28  total_pymnt             887379 non-null  float64\n",
            " 29  total_pymnt_inv         887379 non-null  float64\n",
            " 30  total_rec_prncp         887379 non-null  float64\n",
            " 31  total_rec_int           887379 non-null  float64\n",
            " 32  last_pymnt_amnt         887379 non-null  float64\n",
            " 33  tot_coll_amt            817103 non-null  float64\n",
            " 34  tot_cur_bal             817103 non-null  float64\n",
            " 35  total_rev_hi_lim        817103 non-null  float64\n",
            " 36  default_flag            887379 non-null  int64  \n",
            " 37  cr_history_length       887350 non-null  float64\n",
            " 38  since_last_cr_pull      887326 non-null  float64\n",
            " 39  since_issue             887379 non-null  int64  \n",
            " 40  since_last_pnmt         869720 non-null  float64\n",
            " 41  emp_length_num          842554 non-null  float64\n",
            "dtypes: float64(29), int64(5), object(8)\n",
            "memory usage: 284.3+ MB\n"
          ]
        }
      ],
      "source": [
        "data.info()"
      ]
    },
    {
      "cell_type": "markdown",
      "metadata": {
        "id": "FpgwvCLHp-zh"
      },
      "source": [
        "###7. ETL process complete"
      ]
    },
    {
      "cell_type": "code",
      "execution_count": null,
      "metadata": {
        "id": "VUyfQ1aJV7kV"
      },
      "outputs": [],
      "source": [
        "data.to_csv(\"/content/drive/MyDrive/loan_etl_full.csv\", index=False)"
      ]
    },
    {
      "cell_type": "markdown",
      "metadata": {
        "id": "uyaggu0iHviL"
      },
      "source": [
        "#**Feature pre-selection** \n",
        "\n",
        "---\n",
        "\n"
      ]
    },
    {
      "cell_type": "markdown",
      "metadata": {
        "id": "vUhv-YBQH-dz"
      },
      "source": [
        "### **Correlation analysis**"
      ]
    },
    {
      "cell_type": "markdown",
      "source": [
        "Load the prepared data"
      ],
      "metadata": {
        "id": "GK_tV6LhQydt"
      }
    },
    {
      "cell_type": "code",
      "execution_count": null,
      "metadata": {
        "id": "8JXAu_4NhFaV"
      },
      "outputs": [],
      "source": [
        "path = \"/content/drive/MyDrive/loan_etl_full.csv\"\n",
        "data_etl = pd.read_csv(path, engine='python')\n",
        "#data_etl=data #if proceeding in one go"
      ]
    },
    {
      "cell_type": "code",
      "execution_count": null,
      "metadata": {
        "colab": {
          "base_uri": "https://localhost:8080/",
          "height": 270
        },
        "id": "3iVfDsjWhMny",
        "outputId": "b22e10c8-41d1-45ca-a2ca-ae98e1882ce2"
      },
      "outputs": [
        {
          "data": {
            "text/html": [
              "\n",
              "  <div id=\"df-76daf21d-fc8e-4732-8ab5-522d20ef164c\">\n",
              "    <div class=\"colab-df-container\">\n",
              "      <div>\n",
              "<style scoped>\n",
              "    .dataframe tbody tr th:only-of-type {\n",
              "        vertical-align: middle;\n",
              "    }\n",
              "\n",
              "    .dataframe tbody tr th {\n",
              "        vertical-align: top;\n",
              "    }\n",
              "\n",
              "    .dataframe thead th {\n",
              "        text-align: right;\n",
              "    }\n",
              "</style>\n",
              "<table border=\"1\" class=\"dataframe\">\n",
              "  <thead>\n",
              "    <tr style=\"text-align: right;\">\n",
              "      <th></th>\n",
              "      <th>id</th>\n",
              "      <th>member_id</th>\n",
              "      <th>loan_amnt</th>\n",
              "      <th>funded_amnt</th>\n",
              "      <th>funded_amnt_inv</th>\n",
              "      <th>term</th>\n",
              "      <th>int_rate</th>\n",
              "      <th>installment</th>\n",
              "      <th>grade</th>\n",
              "      <th>sub_grade</th>\n",
              "      <th>home_ownership</th>\n",
              "      <th>annual_inc</th>\n",
              "      <th>verification_status</th>\n",
              "      <th>purpose</th>\n",
              "      <th>addr_state</th>\n",
              "      <th>dti</th>\n",
              "      <th>delinq_2yrs</th>\n",
              "      <th>inq_last_6mths</th>\n",
              "      <th>mths_since_last_delinq</th>\n",
              "      <th>open_acc</th>\n",
              "      <th>pub_rec</th>\n",
              "      <th>revol_bal</th>\n",
              "      <th>revol_util</th>\n",
              "      <th>total_acc</th>\n",
              "      <th>initial_list_status</th>\n",
              "      <th>out_prncp</th>\n",
              "      <th>out_prncp_inv</th>\n",
              "      <th>total_pymnt</th>\n",
              "      <th>total_pymnt_inv</th>\n",
              "      <th>total_rec_prncp</th>\n",
              "      <th>total_rec_int</th>\n",
              "      <th>last_pymnt_amnt</th>\n",
              "      <th>tot_coll_amt</th>\n",
              "      <th>tot_cur_bal</th>\n",
              "      <th>total_rev_hi_lim</th>\n",
              "      <th>default_flag</th>\n",
              "      <th>cr_history_length</th>\n",
              "      <th>since_last_cr_pull</th>\n",
              "      <th>since_issue</th>\n",
              "      <th>since_last_pnmt</th>\n",
              "      <th>emp_length_num</th>\n",
              "    </tr>\n",
              "  </thead>\n",
              "  <tbody>\n",
              "    <tr>\n",
              "      <th>0</th>\n",
              "      <td>1077501</td>\n",
              "      <td>1296599</td>\n",
              "      <td>5000.0</td>\n",
              "      <td>5000.0</td>\n",
              "      <td>4975.0</td>\n",
              "      <td>36</td>\n",
              "      <td>10.65</td>\n",
              "      <td>162.87</td>\n",
              "      <td>B</td>\n",
              "      <td>B2</td>\n",
              "      <td>RENT</td>\n",
              "      <td>24000.0</td>\n",
              "      <td>Verified</td>\n",
              "      <td>credit_card</td>\n",
              "      <td>AZ</td>\n",
              "      <td>27.65</td>\n",
              "      <td>0.0</td>\n",
              "      <td>1.0</td>\n",
              "      <td>NaN</td>\n",
              "      <td>3.0</td>\n",
              "      <td>0.0</td>\n",
              "      <td>13648.0</td>\n",
              "      <td>83.7</td>\n",
              "      <td>9.0</td>\n",
              "      <td>f</td>\n",
              "      <td>0.0</td>\n",
              "      <td>0.0</td>\n",
              "      <td>5861.071414</td>\n",
              "      <td>5831.78</td>\n",
              "      <td>5000.00</td>\n",
              "      <td>861.07</td>\n",
              "      <td>171.62</td>\n",
              "      <td>NaN</td>\n",
              "      <td>NaN</td>\n",
              "      <td>NaN</td>\n",
              "      <td>0</td>\n",
              "      <td>13879.0</td>\n",
              "      <td>2557.0</td>\n",
              "      <td>4049</td>\n",
              "      <td>2922.0</td>\n",
              "      <td>10.0</td>\n",
              "    </tr>\n",
              "    <tr>\n",
              "      <th>1</th>\n",
              "      <td>1077430</td>\n",
              "      <td>1314167</td>\n",
              "      <td>2500.0</td>\n",
              "      <td>2500.0</td>\n",
              "      <td>2500.0</td>\n",
              "      <td>60</td>\n",
              "      <td>15.27</td>\n",
              "      <td>59.83</td>\n",
              "      <td>C</td>\n",
              "      <td>C4</td>\n",
              "      <td>RENT</td>\n",
              "      <td>30000.0</td>\n",
              "      <td>Source Verified</td>\n",
              "      <td>car</td>\n",
              "      <td>GA</td>\n",
              "      <td>1.00</td>\n",
              "      <td>0.0</td>\n",
              "      <td>5.0</td>\n",
              "      <td>NaN</td>\n",
              "      <td>3.0</td>\n",
              "      <td>0.0</td>\n",
              "      <td>1687.0</td>\n",
              "      <td>9.4</td>\n",
              "      <td>4.0</td>\n",
              "      <td>f</td>\n",
              "      <td>0.0</td>\n",
              "      <td>0.0</td>\n",
              "      <td>1008.710000</td>\n",
              "      <td>1008.71</td>\n",
              "      <td>456.46</td>\n",
              "      <td>435.17</td>\n",
              "      <td>119.66</td>\n",
              "      <td>NaN</td>\n",
              "      <td>NaN</td>\n",
              "      <td>NaN</td>\n",
              "      <td>1</td>\n",
              "      <td>8676.0</td>\n",
              "      <td>3409.0</td>\n",
              "      <td>4049</td>\n",
              "      <td>3562.0</td>\n",
              "      <td>0.0</td>\n",
              "    </tr>\n",
              "    <tr>\n",
              "      <th>2</th>\n",
              "      <td>1077175</td>\n",
              "      <td>1313524</td>\n",
              "      <td>2400.0</td>\n",
              "      <td>2400.0</td>\n",
              "      <td>2400.0</td>\n",
              "      <td>36</td>\n",
              "      <td>15.96</td>\n",
              "      <td>84.33</td>\n",
              "      <td>C</td>\n",
              "      <td>C5</td>\n",
              "      <td>RENT</td>\n",
              "      <td>12252.0</td>\n",
              "      <td>Not Verified</td>\n",
              "      <td>small_business</td>\n",
              "      <td>IL</td>\n",
              "      <td>8.72</td>\n",
              "      <td>0.0</td>\n",
              "      <td>2.0</td>\n",
              "      <td>NaN</td>\n",
              "      <td>2.0</td>\n",
              "      <td>0.0</td>\n",
              "      <td>2956.0</td>\n",
              "      <td>98.5</td>\n",
              "      <td>10.0</td>\n",
              "      <td>f</td>\n",
              "      <td>0.0</td>\n",
              "      <td>0.0</td>\n",
              "      <td>3003.653644</td>\n",
              "      <td>3003.65</td>\n",
              "      <td>2400.00</td>\n",
              "      <td>603.65</td>\n",
              "      <td>649.91</td>\n",
              "      <td>NaN</td>\n",
              "      <td>NaN</td>\n",
              "      <td>NaN</td>\n",
              "      <td>0</td>\n",
              "      <td>7731.0</td>\n",
              "      <td>2557.0</td>\n",
              "      <td>4049</td>\n",
              "      <td>3136.0</td>\n",
              "      <td>10.0</td>\n",
              "    </tr>\n",
              "    <tr>\n",
              "      <th>3</th>\n",
              "      <td>1076863</td>\n",
              "      <td>1277178</td>\n",
              "      <td>10000.0</td>\n",
              "      <td>10000.0</td>\n",
              "      <td>10000.0</td>\n",
              "      <td>36</td>\n",
              "      <td>13.49</td>\n",
              "      <td>339.31</td>\n",
              "      <td>C</td>\n",
              "      <td>C1</td>\n",
              "      <td>RENT</td>\n",
              "      <td>49200.0</td>\n",
              "      <td>Source Verified</td>\n",
              "      <td>other</td>\n",
              "      <td>CA</td>\n",
              "      <td>20.00</td>\n",
              "      <td>0.0</td>\n",
              "      <td>1.0</td>\n",
              "      <td>35.0</td>\n",
              "      <td>10.0</td>\n",
              "      <td>0.0</td>\n",
              "      <td>5598.0</td>\n",
              "      <td>21.0</td>\n",
              "      <td>37.0</td>\n",
              "      <td>f</td>\n",
              "      <td>0.0</td>\n",
              "      <td>0.0</td>\n",
              "      <td>12226.302212</td>\n",
              "      <td>12226.30</td>\n",
              "      <td>10000.00</td>\n",
              "      <td>2209.33</td>\n",
              "      <td>357.48</td>\n",
              "      <td>NaN</td>\n",
              "      <td>NaN</td>\n",
              "      <td>NaN</td>\n",
              "      <td>0</td>\n",
              "      <td>9831.0</td>\n",
              "      <td>2922.0</td>\n",
              "      <td>4049</td>\n",
              "      <td>2922.0</td>\n",
              "      <td>10.0</td>\n",
              "    </tr>\n",
              "    <tr>\n",
              "      <th>4</th>\n",
              "      <td>1075358</td>\n",
              "      <td>1311748</td>\n",
              "      <td>3000.0</td>\n",
              "      <td>3000.0</td>\n",
              "      <td>3000.0</td>\n",
              "      <td>60</td>\n",
              "      <td>12.69</td>\n",
              "      <td>67.79</td>\n",
              "      <td>B</td>\n",
              "      <td>B5</td>\n",
              "      <td>RENT</td>\n",
              "      <td>80000.0</td>\n",
              "      <td>Source Verified</td>\n",
              "      <td>other</td>\n",
              "      <td>OR</td>\n",
              "      <td>17.94</td>\n",
              "      <td>0.0</td>\n",
              "      <td>0.0</td>\n",
              "      <td>38.0</td>\n",
              "      <td>15.0</td>\n",
              "      <td>0.0</td>\n",
              "      <td>27783.0</td>\n",
              "      <td>53.9</td>\n",
              "      <td>38.0</td>\n",
              "      <td>f</td>\n",
              "      <td>766.9</td>\n",
              "      <td>766.9</td>\n",
              "      <td>3242.170000</td>\n",
              "      <td>3242.17</td>\n",
              "      <td>2233.10</td>\n",
              "      <td>1009.07</td>\n",
              "      <td>67.79</td>\n",
              "      <td>NaN</td>\n",
              "      <td>NaN</td>\n",
              "      <td>NaN</td>\n",
              "      <td>0</td>\n",
              "      <td>9862.0</td>\n",
              "      <td>2557.0</td>\n",
              "      <td>4049</td>\n",
              "      <td>2557.0</td>\n",
              "      <td>1.0</td>\n",
              "    </tr>\n",
              "  </tbody>\n",
              "</table>\n",
              "</div>\n",
              "      <button class=\"colab-df-convert\" onclick=\"convertToInteractive('df-76daf21d-fc8e-4732-8ab5-522d20ef164c')\"\n",
              "              title=\"Convert this dataframe to an interactive table.\"\n",
              "              style=\"display:none;\">\n",
              "        \n",
              "  <svg xmlns=\"http://www.w3.org/2000/svg\" height=\"24px\"viewBox=\"0 0 24 24\"\n",
              "       width=\"24px\">\n",
              "    <path d=\"M0 0h24v24H0V0z\" fill=\"none\"/>\n",
              "    <path d=\"M18.56 5.44l.94 2.06.94-2.06 2.06-.94-2.06-.94-.94-2.06-.94 2.06-2.06.94zm-11 1L8.5 8.5l.94-2.06 2.06-.94-2.06-.94L8.5 2.5l-.94 2.06-2.06.94zm10 10l.94 2.06.94-2.06 2.06-.94-2.06-.94-.94-2.06-.94 2.06-2.06.94z\"/><path d=\"M17.41 7.96l-1.37-1.37c-.4-.4-.92-.59-1.43-.59-.52 0-1.04.2-1.43.59L10.3 9.45l-7.72 7.72c-.78.78-.78 2.05 0 2.83L4 21.41c.39.39.9.59 1.41.59.51 0 1.02-.2 1.41-.59l7.78-7.78 2.81-2.81c.8-.78.8-2.07 0-2.86zM5.41 20L4 18.59l7.72-7.72 1.47 1.35L5.41 20z\"/>\n",
              "  </svg>\n",
              "      </button>\n",
              "      \n",
              "  <style>\n",
              "    .colab-df-container {\n",
              "      display:flex;\n",
              "      flex-wrap:wrap;\n",
              "      gap: 12px;\n",
              "    }\n",
              "\n",
              "    .colab-df-convert {\n",
              "      background-color: #E8F0FE;\n",
              "      border: none;\n",
              "      border-radius: 50%;\n",
              "      cursor: pointer;\n",
              "      display: none;\n",
              "      fill: #1967D2;\n",
              "      height: 32px;\n",
              "      padding: 0 0 0 0;\n",
              "      width: 32px;\n",
              "    }\n",
              "\n",
              "    .colab-df-convert:hover {\n",
              "      background-color: #E2EBFA;\n",
              "      box-shadow: 0px 1px 2px rgba(60, 64, 67, 0.3), 0px 1px 3px 1px rgba(60, 64, 67, 0.15);\n",
              "      fill: #174EA6;\n",
              "    }\n",
              "\n",
              "    [theme=dark] .colab-df-convert {\n",
              "      background-color: #3B4455;\n",
              "      fill: #D2E3FC;\n",
              "    }\n",
              "\n",
              "    [theme=dark] .colab-df-convert:hover {\n",
              "      background-color: #434B5C;\n",
              "      box-shadow: 0px 1px 3px 1px rgba(0, 0, 0, 0.15);\n",
              "      filter: drop-shadow(0px 1px 2px rgba(0, 0, 0, 0.3));\n",
              "      fill: #FFFFFF;\n",
              "    }\n",
              "  </style>\n",
              "\n",
              "      <script>\n",
              "        const buttonEl =\n",
              "          document.querySelector('#df-76daf21d-fc8e-4732-8ab5-522d20ef164c button.colab-df-convert');\n",
              "        buttonEl.style.display =\n",
              "          google.colab.kernel.accessAllowed ? 'block' : 'none';\n",
              "\n",
              "        async function convertToInteractive(key) {\n",
              "          const element = document.querySelector('#df-76daf21d-fc8e-4732-8ab5-522d20ef164c');\n",
              "          const dataTable =\n",
              "            await google.colab.kernel.invokeFunction('convertToInteractive',\n",
              "                                                     [key], {});\n",
              "          if (!dataTable) return;\n",
              "\n",
              "          const docLinkHtml = 'Like what you see? Visit the ' +\n",
              "            '<a target=\"_blank\" href=https://colab.research.google.com/notebooks/data_table.ipynb>data table notebook</a>'\n",
              "            + ' to learn more about interactive tables.';\n",
              "          element.innerHTML = '';\n",
              "          dataTable['output_type'] = 'display_data';\n",
              "          await google.colab.output.renderOutput(dataTable, element);\n",
              "          const docLink = document.createElement('div');\n",
              "          docLink.innerHTML = docLinkHtml;\n",
              "          element.appendChild(docLink);\n",
              "        }\n",
              "      </script>\n",
              "    </div>\n",
              "  </div>\n",
              "  "
            ],
            "text/plain": [
              "        id  member_id  loan_amnt  funded_amnt  funded_amnt_inv  term  \\\n",
              "0  1077501    1296599     5000.0       5000.0           4975.0    36   \n",
              "1  1077430    1314167     2500.0       2500.0           2500.0    60   \n",
              "2  1077175    1313524     2400.0       2400.0           2400.0    36   \n",
              "3  1076863    1277178    10000.0      10000.0          10000.0    36   \n",
              "4  1075358    1311748     3000.0       3000.0           3000.0    60   \n",
              "\n",
              "   int_rate  installment grade sub_grade home_ownership  annual_inc  \\\n",
              "0     10.65       162.87     B        B2           RENT     24000.0   \n",
              "1     15.27        59.83     C        C4           RENT     30000.0   \n",
              "2     15.96        84.33     C        C5           RENT     12252.0   \n",
              "3     13.49       339.31     C        C1           RENT     49200.0   \n",
              "4     12.69        67.79     B        B5           RENT     80000.0   \n",
              "\n",
              "  verification_status         purpose addr_state    dti  delinq_2yrs  \\\n",
              "0            Verified     credit_card         AZ  27.65          0.0   \n",
              "1     Source Verified             car         GA   1.00          0.0   \n",
              "2        Not Verified  small_business         IL   8.72          0.0   \n",
              "3     Source Verified           other         CA  20.00          0.0   \n",
              "4     Source Verified           other         OR  17.94          0.0   \n",
              "\n",
              "   inq_last_6mths  mths_since_last_delinq  open_acc  pub_rec  revol_bal  \\\n",
              "0             1.0                     NaN       3.0      0.0    13648.0   \n",
              "1             5.0                     NaN       3.0      0.0     1687.0   \n",
              "2             2.0                     NaN       2.0      0.0     2956.0   \n",
              "3             1.0                    35.0      10.0      0.0     5598.0   \n",
              "4             0.0                    38.0      15.0      0.0    27783.0   \n",
              "\n",
              "   revol_util  total_acc initial_list_status  out_prncp  out_prncp_inv  \\\n",
              "0        83.7        9.0                   f        0.0            0.0   \n",
              "1         9.4        4.0                   f        0.0            0.0   \n",
              "2        98.5       10.0                   f        0.0            0.0   \n",
              "3        21.0       37.0                   f        0.0            0.0   \n",
              "4        53.9       38.0                   f      766.9          766.9   \n",
              "\n",
              "    total_pymnt  total_pymnt_inv  total_rec_prncp  total_rec_int  \\\n",
              "0   5861.071414          5831.78          5000.00         861.07   \n",
              "1   1008.710000          1008.71           456.46         435.17   \n",
              "2   3003.653644          3003.65          2400.00         603.65   \n",
              "3  12226.302212         12226.30         10000.00        2209.33   \n",
              "4   3242.170000          3242.17          2233.10        1009.07   \n",
              "\n",
              "   last_pymnt_amnt  tot_coll_amt  tot_cur_bal  total_rev_hi_lim  default_flag  \\\n",
              "0           171.62           NaN          NaN               NaN             0   \n",
              "1           119.66           NaN          NaN               NaN             1   \n",
              "2           649.91           NaN          NaN               NaN             0   \n",
              "3           357.48           NaN          NaN               NaN             0   \n",
              "4            67.79           NaN          NaN               NaN             0   \n",
              "\n",
              "   cr_history_length  since_last_cr_pull  since_issue  since_last_pnmt  \\\n",
              "0            13879.0              2557.0         4049           2922.0   \n",
              "1             8676.0              3409.0         4049           3562.0   \n",
              "2             7731.0              2557.0         4049           3136.0   \n",
              "3             9831.0              2922.0         4049           2922.0   \n",
              "4             9862.0              2557.0         4049           2557.0   \n",
              "\n",
              "   emp_length_num  \n",
              "0            10.0  \n",
              "1             0.0  \n",
              "2            10.0  \n",
              "3            10.0  \n",
              "4             1.0  "
            ]
          },
          "execution_count": 4,
          "metadata": {},
          "output_type": "execute_result"
        }
      ],
      "source": [
        "data_etl.head()"
      ]
    },
    {
      "cell_type": "code",
      "execution_count": null,
      "metadata": {
        "colab": {
          "base_uri": "https://localhost:8080/"
        },
        "id": "EfU8AuYakzPp",
        "outputId": "1556c0c7-b76e-4fad-bd76-c482bc7d4d8e"
      },
      "outputs": [
        {
          "name": "stdout",
          "output_type": "stream",
          "text": [
            "<class 'pandas.core.frame.DataFrame'>\n",
            "RangeIndex: 887379 entries, 0 to 887378\n",
            "Data columns (total 41 columns):\n",
            " #   Column                  Non-Null Count   Dtype  \n",
            "---  ------                  --------------   -----  \n",
            " 0   id                      887379 non-null  int64  \n",
            " 1   member_id               887379 non-null  int64  \n",
            " 2   loan_amnt               887379 non-null  float64\n",
            " 3   funded_amnt             887379 non-null  float64\n",
            " 4   funded_amnt_inv         887379 non-null  float64\n",
            " 5   term                    887379 non-null  int64  \n",
            " 6   int_rate                887379 non-null  float64\n",
            " 7   installment             887379 non-null  float64\n",
            " 8   grade                   887379 non-null  object \n",
            " 9   sub_grade               887379 non-null  object \n",
            " 10  home_ownership          887379 non-null  object \n",
            " 11  annual_inc              887375 non-null  float64\n",
            " 12  verification_status     887379 non-null  object \n",
            " 13  purpose                 887379 non-null  object \n",
            " 14  addr_state              887379 non-null  object \n",
            " 15  dti                     887379 non-null  float64\n",
            " 16  delinq_2yrs             887350 non-null  float64\n",
            " 17  inq_last_6mths          887350 non-null  float64\n",
            " 18  mths_since_last_delinq  433067 non-null  float64\n",
            " 19  open_acc                887350 non-null  float64\n",
            " 20  pub_rec                 887350 non-null  float64\n",
            " 21  revol_bal               887379 non-null  float64\n",
            " 22  revol_util              886877 non-null  float64\n",
            " 23  total_acc               887350 non-null  float64\n",
            " 24  initial_list_status     887379 non-null  object \n",
            " 25  out_prncp               887379 non-null  float64\n",
            " 26  out_prncp_inv           887379 non-null  float64\n",
            " 27  total_pymnt             887379 non-null  float64\n",
            " 28  total_pymnt_inv         887379 non-null  float64\n",
            " 29  total_rec_prncp         887379 non-null  float64\n",
            " 30  total_rec_int           887379 non-null  float64\n",
            " 31  last_pymnt_amnt         887379 non-null  float64\n",
            " 32  tot_coll_amt            817103 non-null  float64\n",
            " 33  tot_cur_bal             817103 non-null  float64\n",
            " 34  total_rev_hi_lim        817103 non-null  float64\n",
            " 35  default_flag            887379 non-null  int64  \n",
            " 36  cr_history_length       887350 non-null  float64\n",
            " 37  since_last_cr_pull      887326 non-null  float64\n",
            " 38  since_issue             887379 non-null  int64  \n",
            " 39  since_last_pnmt         869720 non-null  float64\n",
            " 40  emp_length_num          842554 non-null  float64\n",
            "dtypes: float64(29), int64(5), object(7)\n",
            "memory usage: 277.6+ MB\n"
          ]
        }
      ],
      "source": [
        "data_etl.info()"
      ]
    },
    {
      "cell_type": "code",
      "execution_count": null,
      "metadata": {
        "colab": {
          "base_uri": "https://localhost:8080/"
        },
        "id": "cWYEqN7IIFnR",
        "outputId": "6ad866bd-8b27-4577-f4bc-d255f999e64d"
      },
      "outputs": [
        {
          "name": "stdout",
          "output_type": "stream",
          "text": [
            "Most Postive Correlations:\n",
            " funded_amnt           0.000979\n",
            "loan_amnt             0.001657\n",
            "dti                   0.009126\n",
            "installment           0.011653\n",
            "term                  0.038862\n",
            "revol_util            0.046778\n",
            "total_rec_int         0.061359\n",
            "inq_last_6mths        0.069164\n",
            "since_last_cr_pull    0.152379\n",
            "int_rate              0.170069\n",
            "since_issue           0.173428\n",
            "since_last_pnmt       0.257462\n",
            "default_flag          1.000000\n",
            "Name: default_flag, dtype: float64\n",
            "\n",
            "Most Negative Correlations:\n",
            " member_id          -0.197888\n",
            "id                 -0.197742\n",
            "out_prncp          -0.174308\n",
            "out_prncp_inv      -0.174305\n",
            "last_pymnt_amnt    -0.095703\n",
            "total_rec_prncp    -0.093326\n",
            "total_pymnt_inv    -0.041272\n",
            "total_pymnt        -0.040807\n",
            "tot_cur_bal        -0.038387\n",
            "total_rev_hi_lim   -0.037400\n",
            "Name: default_flag, dtype: float64\n"
          ]
        }
      ],
      "source": [
        "# Find correlation with the target and sort\n",
        "correlations = data_etl.corr()['default_flag'].sort_values()\n",
        "\n",
        "# Display correlations\n",
        "print('Most Postive Correlations:\\n', correlations.tail(13))\n",
        "print('\\nMost Negative Correlations:\\n', correlations.head(10))"
      ]
    },
    {
      "cell_type": "code",
      "execution_count": null,
      "metadata": {
        "id": "XlReggMZlxep"
      },
      "outputs": [],
      "source": [
        "data_etl.corr()"
      ]
    },
    {
      "cell_type": "code",
      "execution_count": null,
      "metadata": {
        "id": "7VMTqNAZ7Xh7"
      },
      "outputs": [],
      "source": [
        "data_etl[['out_prncp','out_prncp_inv']].corr()"
      ]
    },
    {
      "cell_type": "markdown",
      "metadata": {
        "id": "zfJXJktilxDr"
      },
      "source": [
        "As mentioned earlier, loan_amnt, funded_amnt and funded_amnt_inv are very similar, correlation over 0,98 thus we pick only the one with the highest correlation with our target variable, which is loan_amnt and drop the rest. Same with total_pynmnt and total_pynmt_inv and out_prncp"
      ]
    },
    {
      "cell_type": "code",
      "execution_count": null,
      "metadata": {
        "id": "v8kAoAV3ma8I"
      },
      "outputs": [],
      "source": [
        "del data_etl['funded_amnt']\n",
        "del data_etl['funded_amnt_inv']\n",
        "del data_etl['total_pymnt']\n",
        "del data_etl['out_prncp']"
      ]
    },
    {
      "cell_type": "code",
      "execution_count": null,
      "metadata": {
        "id": "QWc6rm3CjL0d"
      },
      "outputs": [],
      "source": [
        "data_etl.head()"
      ]
    },
    {
      "cell_type": "markdown",
      "metadata": {
        "id": "taFxX0pAjN2v"
      },
      "source": [
        "### **Object type vars**"
      ]
    },
    {
      "cell_type": "markdown",
      "metadata": {
        "id": "gA7jj7s3jHU-"
      },
      "source": [
        "We already have quite some number of variables fairly correlated with our default flag. Now investigate a couple of promising object type variables. Since we already transformed majority of variables into numeric types we're left with only 6 object typ vars: grade, sub grade, home ownership, verification status, purpose and state. Since grade can be thougt of as ordinal (A is best etc) we can transform it into numerical vars"
      ]
    },
    {
      "cell_type": "code",
      "execution_count": null,
      "metadata": {
        "colab": {
          "base_uri": "https://localhost:8080/",
          "height": 334
        },
        "id": "5dYo9EMGntSq",
        "outputId": "d92321ac-8d8a-4cc9-ec8b-9d9c3f5a684f"
      },
      "outputs": [
        {
          "data": {
            "text/plain": [
              "Text(0.5, 0, 'target 0')"
            ]
          },
          "execution_count": 8,
          "metadata": {},
          "output_type": "execute_result"
        },
        {
          "data": {
            "image/png": "[encoded data removed]",
            "text/plain": [
              "<Figure size 1440x360 with 2 Axes>"
            ]
          },
          "metadata": {},
          "output_type": "display_data"
        }
      ],
      "source": [
        "fig, (ax1, ax2) = plt.subplots(ncols=2, figsize=(20, 5))\n",
        "data_etl.loc[data_etl[\"default_flag\"]==1, \"grade\"].reset_index().groupby(\"grade\").size().plot(kind=\"pie\", ax=ax1)\n",
        "data_etl.loc[data_etl[\"default_flag\"]==0, \"grade\"].reset_index().groupby(\"grade\").size().plot(kind=\"pie\", ax=ax2)\n",
        "\n",
        "ax1.set_xlabel(\"target 1\")\n",
        "ax2.set_xlabel(\"target 0\")"
      ]
    },
    {
      "cell_type": "markdown",
      "metadata": {
        "id": "yJhL8Fym7w8z"
      },
      "source": [
        "Looks promising"
      ]
    },
    {
      "cell_type": "code",
      "execution_count": null,
      "metadata": {
        "id": "tVT_sPiJoR_8"
      },
      "outputs": [],
      "source": [
        "fig, (ax1, ax2) = plt.subplots(ncols=2, figsize=(20, 5))\n",
        "data_etl.loc[data_etl[\"default_flag\"]==1, \"sub_grade\"].reset_index().groupby(\"sub_grade\").size().plot(kind=\"pie\", ax=ax1)\n",
        "data_etl.loc[data_etl[\"default_flag\"]==0, \"sub_grade\"].reset_index().groupby(\"sub_grade\").size().plot(kind=\"pie\", ax=ax2)\n",
        "\n",
        "ax1.set_xlabel(\"target 1\")\n",
        "ax2.set_xlabel(\"target 0\")"
      ]
    },
    {
      "cell_type": "markdown",
      "metadata": {
        "id": "R9dBZvRir_9Z"
      },
      "source": [
        "**Home Ownership**"
      ]
    },
    {
      "cell_type": "code",
      "execution_count": null,
      "metadata": {
        "colab": {
          "base_uri": "https://localhost:8080/",
          "height": 334
        },
        "id": "ueqFgaXhr_jv",
        "outputId": "b5ea501a-e07d-4f57-8754-3b4c84fe0b0d"
      },
      "outputs": [
        {
          "data": {
            "text/plain": [
              "Text(0.5, 0, 'target 0')"
            ]
          },
          "execution_count": 9,
          "metadata": {},
          "output_type": "execute_result"
        },
        {
          "data": {
            "image/png": "[encoded data removed]",
            "text/plain": [
              "<Figure size 1440x360 with 2 Axes>"
            ]
          },
          "metadata": {},
          "output_type": "display_data"
        }
      ],
      "source": [
        "fig, (ax1, ax2) = plt.subplots(ncols=2, figsize=(20, 5))\n",
        "data_etl.loc[data_etl[\"default_flag\"]==1, \"home_ownership\"].reset_index().groupby(\"home_ownership\").size().plot(kind=\"pie\", ax=ax1)\n",
        "data_etl.loc[data_etl[\"default_flag\"]==0, \"home_ownership\"].reset_index().groupby(\"home_ownership\").size().plot(kind=\"pie\", ax=ax2)\n",
        "\n",
        "ax1.set_xlabel(\"target 1\")\n",
        "ax2.set_xlabel(\"target 0\")"
      ]
    },
    {
      "cell_type": "markdown",
      "metadata": {
        "id": "aZgA4CZEsQKU"
      },
      "source": [
        "Does  look promising- visible difference, but it will be convenient to merge the smallest counts into one category"
      ]
    },
    {
      "cell_type": "code",
      "execution_count": null,
      "metadata": {
        "id": "vJXwOWUJGEb1"
      },
      "outputs": [],
      "source": [
        "s=data_etl['home_ownership'].value_counts()\n",
        "merged=s.groupby(np.where(s>=3000,s.index,'other')).sum()\n",
        "#data_etl['home_own_merged']=s.groupby(np.where(s>=3000,s.index,'other')).sum()#.plot.pie()"
      ]
    },
    {
      "cell_type": "code",
      "execution_count": null,
      "metadata": {
        "colab": {
          "base_uri": "https://localhost:8080/"
        },
        "id": "o8J4z8e6GWHQ",
        "outputId": "c07b28d6-14af-4fab-b449-7d39f3d863af"
      },
      "outputs": [
        {
          "data": {
            "text/plain": [
              "MORTGAGE    443557\n",
              "OWN          87470\n",
              "RENT        356117\n",
              "other          235\n",
              "Name: home_ownership, dtype: int64"
            ]
          },
          "execution_count": 53,
          "metadata": {},
          "output_type": "execute_result"
        }
      ],
      "source": [
        "merged"
      ]
    },
    {
      "cell_type": "code",
      "execution_count": null,
      "metadata": {
        "id": "VwGMBQZ_HG6N"
      },
      "outputs": [],
      "source": [
        "data_etl['home_own_merged']=data_etl['home_ownership'].map({'MORTGAGE': 'MORTGAGE','RENT': 'RENT', 'OWN': 'OWN', 'OTHER': 'OTHER', 'NONE': 'OTHER', 'ANY': 'OTHER'})"
      ]
    },
    {
      "cell_type": "code",
      "execution_count": null,
      "metadata": {
        "id": "9toJW9E5H2n6"
      },
      "outputs": [],
      "source": [
        "del data_etl['home_ownership']"
      ]
    },
    {
      "cell_type": "markdown",
      "source": [
        "**Verification Status**"
      ],
      "metadata": {
        "id": "Gym4nPOPR_Fa"
      }
    },
    {
      "cell_type": "code",
      "execution_count": null,
      "metadata": {
        "colab": {
          "base_uri": "https://localhost:8080/",
          "height": 334
        },
        "id": "dhZ-66Dtsezo",
        "outputId": "8af6bc0f-7d7d-4f36-df18-f04cca680632"
      },
      "outputs": [
        {
          "data": {
            "text/plain": [
              "Text(0.5, 0, 'target 0')"
            ]
          },
          "execution_count": 10,
          "metadata": {},
          "output_type": "execute_result"
        },
        {
          "data": {
            "image/png": "[encoded data removed]",
            "text/plain": [
              "<Figure size 1440x360 with 2 Axes>"
            ]
          },
          "metadata": {},
          "output_type": "display_data"
        }
      ],
      "source": [
        "fig, (ax1, ax2) = plt.subplots(ncols=2, figsize=(20, 5))\n",
        "data_etl.loc[data_etl[\"default_flag\"]==1, \"verification_status\"].reset_index().groupby(\"verification_status\").size().plot(kind=\"pie\", ax=ax1)\n",
        "data_etl.loc[data_etl[\"default_flag\"]==0, \"verification_status\"].reset_index().groupby(\"verification_status\").size().plot(kind=\"pie\", ax=ax2)\n",
        "\n",
        "ax1.set_xlabel(\"target 1\")\n",
        "ax2.set_xlabel(\"target 0\")"
      ]
    },
    {
      "cell_type": "markdown",
      "source": [
        "**Purpose**"
      ],
      "metadata": {
        "id": "Ms6-fNZ7R8Rt"
      }
    },
    {
      "cell_type": "code",
      "execution_count": null,
      "metadata": {
        "colab": {
          "base_uri": "https://localhost:8080/",
          "height": 334
        },
        "id": "1qh4qdV4s7w1",
        "outputId": "40bad2b4-2cf7-4a63-916b-4dae5f255382"
      },
      "outputs": [
        {
          "data": {
            "text/plain": [
              "Text(0.5, 0, 'target 0')"
            ]
          },
          "execution_count": 11,
          "metadata": {},
          "output_type": "execute_result"
        },
        {
          "data": {
            "image/png": "[encoded data removed]",
            "text/plain": [
              "<Figure size 1440x360 with 2 Axes>"
            ]
          },
          "metadata": {},
          "output_type": "display_data"
        }
      ],
      "source": [
        "fig, (ax1, ax2) = plt.subplots(ncols=2, figsize=(20, 5))\n",
        "data_etl.loc[data_etl[\"default_flag\"]==1, \"purpose\"].reset_index().groupby(\"purpose\").size().plot(kind=\"pie\", ax=ax1)\n",
        "data_etl.loc[data_etl[\"default_flag\"]==0, \"purpose\"].reset_index().groupby(\"purpose\").size().plot(kind=\"pie\", ax=ax2)\n",
        "\n",
        "ax1.set_xlabel(\"target 1\")\n",
        "ax2.set_xlabel(\"target 0\")"
      ]
    },
    {
      "cell_type": "markdown",
      "source": [
        "**Address State**"
      ],
      "metadata": {
        "id": "geSv7W91R4LD"
      }
    },
    {
      "cell_type": "code",
      "execution_count": null,
      "metadata": {
        "colab": {
          "base_uri": "https://localhost:8080/",
          "height": 334
        },
        "id": "qGe9e64Is9RZ",
        "outputId": "ca2ac648-e12c-44f2-b37d-f5fcc619a080"
      },
      "outputs": [
        {
          "data": {
            "text/plain": [
              "Text(0.5, 0, 'target 0')"
            ]
          },
          "execution_count": 12,
          "metadata": {},
          "output_type": "execute_result"
        },
        {
          "data": {
            "image/png": "[encoded data removed]",
            "text/plain": [
              "<Figure size 1440x360 with 2 Axes>"
            ]
          },
          "metadata": {},
          "output_type": "display_data"
        }
      ],
      "source": [
        "fig, (ax1, ax2) = plt.subplots(ncols=2, figsize=(20, 5))\n",
        "data_etl.loc[data_etl[\"default_flag\"]==1, \"addr_state\"].reset_index().groupby(\"addr_state\").size().plot(kind=\"pie\", ax=ax1)\n",
        "data_etl.loc[data_etl[\"default_flag\"]==0, \"addr_state\"].reset_index().groupby(\"addr_state\").size().plot(kind=\"pie\", ax=ax2)\n",
        "\n",
        "ax1.set_xlabel(\"target 1\")\n",
        "ax2.set_xlabel(\"target 0\")"
      ]
    },
    {
      "cell_type": "markdown",
      "source": [],
      "metadata": {
        "id": "jMDWlJW7RyWD"
      }
    },
    {
      "cell_type": "markdown",
      "source": [
        "**Initial List Status**"
      ],
      "metadata": {
        "id": "DpRdubAjRyX9"
      }
    },
    {
      "cell_type": "code",
      "execution_count": null,
      "metadata": {
        "colab": {
          "base_uri": "https://localhost:8080/",
          "height": 334
        },
        "id": "Cpm7C0pNArfb",
        "outputId": "83efa298-b3eb-4cb1-ad60-df80ce80d4b5"
      },
      "outputs": [
        {
          "data": {
            "text/plain": [
              "Text(0.5, 0, 'target 0')"
            ]
          },
          "execution_count": 13,
          "metadata": {},
          "output_type": "execute_result"
        },
        {
          "data": {
            "image/png": "[encoded data removed]",
            "text/plain": [
              "<Figure size 1440x360 with 2 Axes>"
            ]
          },
          "metadata": {},
          "output_type": "display_data"
        }
      ],
      "source": [
        "fig, (ax1, ax2) = plt.subplots(ncols=2, figsize=(20, 5))\n",
        "data_etl.loc[data_etl[\"default_flag\"]==1, \"initial_list_status\"].reset_index().groupby(\"initial_list_status\").size().plot(kind=\"pie\", ax=ax1)\n",
        "data_etl.loc[data_etl[\"default_flag\"]==0, \"initial_list_status\"].reset_index().groupby(\"initial_list_status\").size().plot(kind=\"pie\", ax=ax2)\n",
        "\n",
        "ax1.set_xlabel(\"target 1\")\n",
        "ax2.set_xlabel(\"target 0\")"
      ]
    },
    {
      "cell_type": "markdown",
      "metadata": {
        "id": "KXHXx0qztPXQ"
      },
      "source": [
        "Of the  variables plotted above, there are a couple of promising variables:\n",
        "*  home_ownership\n",
        "*  initial_list_status\n",
        "*   Grade\n",
        "\n",
        "\n"
      ]
    },
    {
      "cell_type": "markdown",
      "metadata": {
        "id": "leCRGxgzselC"
      },
      "source": [
        "# 3. Feature final selection and encoding\n",
        "\n",
        "We select numerical variables correlated with default flag above 5%, home_ownership and intiial_list_status and grade"
      ]
    },
    {
      "cell_type": "code",
      "execution_count": null,
      "metadata": {
        "colab": {
          "base_uri": "https://localhost:8080/"
        },
        "id": "BRNlgu7bBTdh",
        "outputId": "da44945f-a41e-4b16-a3a8-22225108dd03"
      },
      "outputs": [
        {
          "name": "stdout",
          "output_type": "stream",
          "text": [
            "Most Postive Correlations:\n",
            " tot_coll_amt         -0.001642\n",
            "loan_amnt             0.001657\n",
            "dti                   0.009126\n",
            "installment           0.011653\n",
            "term                  0.038862\n",
            "revol_util            0.046778\n",
            "total_rec_int         0.061359\n",
            "inq_last_6mths        0.069164\n",
            "since_last_cr_pull    0.152379\n",
            "int_rate              0.170069\n",
            "since_issue           0.173428\n",
            "since_last_pnmt       0.257462\n",
            "default_flag          1.000000\n",
            "Name: default_flag, dtype: float64\n",
            "\n",
            "Most Negative Correlations:\n",
            " member_id          -0.197888\n",
            "id                 -0.197742\n",
            "out_prncp_inv      -0.174305\n",
            "last_pymnt_amnt    -0.095703\n",
            "total_rec_prncp    -0.093326\n",
            "total_pymnt_inv    -0.041272\n",
            "tot_cur_bal        -0.038387\n",
            "total_rev_hi_lim   -0.037400\n",
            "annual_inc         -0.036104\n",
            "revol_bal          -0.021974\n",
            "Name: default_flag, dtype: float64\n"
          ]
        }
      ],
      "source": [
        "# Find correlation with the target and sort\n",
        "correlations = data_etl.corr()['default_flag'].sort_values()\n",
        "\n",
        "# Display correlations\n",
        "print('Most Postive Correlations:\\n', correlations.tail(13))\n",
        "print('\\nMost Negative Correlations:\\n', correlations.head(10))"
      ]
    },
    {
      "cell_type": "code",
      "execution_count": null,
      "metadata": {
        "id": "dYmfbWjbyYmy"
      },
      "outputs": [],
      "source": [
        "data_selected=data_etl[['default_flag','since_last_pnmt','since_issue','int_rate','since_last_cr_pull','out_prncp_inv','last_pymnt_amnt','home_own_merged',\n",
        "                       'initial_list_status','grade', 'verification_status']]"
      ]
    },
    {
      "cell_type": "markdown",
      "metadata": {
        "id": "bgcC2vfUCb5w"
      },
      "source": [
        "At the very beginning, Grade variable is ordinal so we can transform it into numbers:"
      ]
    },
    {
      "cell_type": "code",
      "execution_count": null,
      "metadata": {
        "colab": {
          "base_uri": "https://localhost:8080/"
        },
        "id": "rK-97BJpCUKv",
        "outputId": "89e692af-ffa6-496c-ae37-2acea837b5f9"
      },
      "outputs": [
        {
          "output_type": "stream",
          "name": "stderr",
          "text": [
            "<ipython-input-10-c309a0394926>:4: SettingWithCopyWarning: \n",
            "A value is trying to be set on a copy of a slice from a DataFrame.\n",
            "Try using .loc[row_indexer,col_indexer] = value instead\n",
            "\n",
            "See the caveats in the documentation: https://pandas.pydata.org/pandas-docs/stable/user_guide/indexing.html#returning-a-view-versus-a-copy\n",
            "  data_selected['grade_num']=data_selected['grade'].map(res)\n"
          ]
        }
      ],
      "source": [
        "test_keys=data_selected['grade'].unique().tolist()\n",
        "test_values=np.arange(7).tolist()\n",
        "res = {test_keys[i]: test_values[i] for i in range(len(test_keys))}\n",
        "data_selected['grade_num']=data_selected['grade'].map(res)\n",
        "del data_selected['grade']"
      ]
    },
    {
      "cell_type": "code",
      "execution_count": null,
      "metadata": {
        "colab": {
          "base_uri": "https://localhost:8080/"
        },
        "id": "8GYT2KqPCUNf",
        "outputId": "78f170d2-b281-4fd9-b285-9cb419d2f98f"
      },
      "outputs": [
        {
          "data": {
            "text/plain": [
              "0    254535\n",
              "1    245860\n",
              "2    148202\n",
              "5    139542\n",
              "3     70705\n",
              "4     23046\n",
              "6      5489\n",
              "Name: grade_num, dtype: int64"
            ]
          },
          "execution_count": 62,
          "metadata": {},
          "output_type": "execute_result"
        }
      ],
      "source": [
        "data_selected['grade_num'].value_counts()"
      ]
    },
    {
      "cell_type": "markdown",
      "metadata": {
        "id": "r9xpumt7C9up"
      },
      "source": [
        "Correlation heatmap"
      ]
    },
    {
      "cell_type": "code",
      "execution_count": null,
      "metadata": {
        "colab": {
          "base_uri": "https://localhost:8080/",
          "height": 880
        },
        "id": "3Zd8heHqC5yC",
        "outputId": "fa71d6c0-ae14-4cb5-891c-8e75a0abf66f"
      },
      "outputs": [
        {
          "output_type": "display_data",
          "data": {
            "text/plain": [
              "<Figure size 1296x1080 with 2 Axes>"
            ],
            "image/png": "[encoded data removed]"
          },
          "metadata": {
            "needs_background": "light"
          }
        }
      ],
      "source": [
        "corr = data_selected.corr()\n",
        "\n",
        "plt.figure(figsize=(18,15))\n",
        "sns.heatmap(corr, annot=True, vmin=-1.0, cmap='mako')\n",
        "plt.title('Correlation Heatmap')\n",
        "plt.show()"
      ]
    },
    {
      "cell_type": "markdown",
      "metadata": {
        "id": "ZkIZvfN9DPM2"
      },
      "source": [
        "\n",
        "\n",
        "\n",
        "\n",
        "We're left with 3 object variables that have to be one hot encoded: home ownership, verification_status and initial_list_status"
      ]
    },
    {
      "cell_type": "code",
      "execution_count": null,
      "metadata": {
        "id": "Z3MESx4hDZKW"
      },
      "outputs": [],
      "source": [
        "h_ownership_dummies = pd.get_dummies(data_selected['home_own_merged'],prefix='home_own_merged')\n",
        "initial_status_dummies = pd.get_dummies(data_selected['initial_list_status'],prefix='initial_list_status')\n",
        "verification_dummies=pd.get_dummies(data_selected['verification_status'],prefix='verification_status')"
      ]
    },
    {
      "cell_type": "code",
      "execution_count": null,
      "metadata": {
        "id": "ecu4-lMbEWvC"
      },
      "outputs": [],
      "source": [
        "data_selected = pd.concat([data_selected, h_ownership_dummies, initial_status_dummies, verification_dummies], axis=1)"
      ]
    },
    {
      "cell_type": "code",
      "execution_count": null,
      "metadata": {
        "id": "8AsIQHZwEe-X"
      },
      "outputs": [],
      "source": [
        "data_selected=data_selected.drop(['home_own_merged','initial_list_status','verification_status'], axis=1)"
      ]
    },
    {
      "cell_type": "markdown",
      "metadata": {
        "id": "ZuH4NL-hIgOu"
      },
      "source": [
        "Now it's time to check for Nulls in the final dataset"
      ]
    },
    {
      "cell_type": "code",
      "execution_count": null,
      "metadata": {
        "colab": {
          "base_uri": "https://localhost:8080/"
        },
        "id": "T5YiwyMVIkdY",
        "outputId": "ba317725-70e6-41dd-8068-ce26f5e259de"
      },
      "outputs": [
        {
          "name": "stdout",
          "output_type": "stream",
          "text": [
            "<class 'pandas.core.frame.DataFrame'>\n",
            "RangeIndex: 887379 entries, 0 to 887378\n",
            "Data columns (total 20 columns):\n",
            " #   Column                               Non-Null Count   Dtype  \n",
            "---  ------                               --------------   -----  \n",
            " 0   default_flag                         887379 non-null  int64  \n",
            " 1   since_last_pnmt                      869720 non-null  float64\n",
            " 2   since_issue                          887379 non-null  int64  \n",
            " 3   int_rate                             887379 non-null  float64\n",
            " 4   since_last_cr_pull                   887326 non-null  float64\n",
            " 5   out_prncp_inv                        887379 non-null  float64\n",
            " 6   last_pymnt_amnt                      887379 non-null  float64\n",
            " 7   total_rec_prncp                      887379 non-null  float64\n",
            " 8   inq_last_6mths                       887350 non-null  float64\n",
            " 9   total_rec_int                        887379 non-null  float64\n",
            " 10  grade_num                            887379 non-null  int64  \n",
            " 11  home_own_merged_MORTGAGE             887379 non-null  uint8  \n",
            " 12  home_own_merged_OTHER                887379 non-null  uint8  \n",
            " 13  home_own_merged_OWN                  887379 non-null  uint8  \n",
            " 14  home_own_merged_RENT                 887379 non-null  uint8  \n",
            " 15  initial_list_status_f                887379 non-null  uint8  \n",
            " 16  initial_list_status_w                887379 non-null  uint8  \n",
            " 17  verification_status_Not Verified     887379 non-null  uint8  \n",
            " 18  verification_status_Source Verified  887379 non-null  uint8  \n",
            " 19  verification_status_Verified         887379 non-null  uint8  \n",
            "dtypes: float64(8), int64(3), uint8(9)\n",
            "memory usage: 82.1 MB\n"
          ]
        }
      ],
      "source": [
        "data_selected.info()"
      ]
    },
    {
      "cell_type": "markdown",
      "metadata": {
        "id": "Q6DqYr2_IspW"
      },
      "source": [
        "The smallest number of non nulls is in since_last_pnmt which is still aroun 98%, so we can drop all the rows containing N/A"
      ]
    },
    {
      "cell_type": "code",
      "execution_count": null,
      "metadata": {
        "colab": {
          "base_uri": "https://localhost:8080/",
          "height": 288
        },
        "id": "Q5pLx3ryEoto",
        "outputId": "c882ba76-4c54-4c08-ee72-c2a32f3bbfa2"
      },
      "outputs": [
        {
          "data": {
            "text/html": [
              "\n",
              "  <div id=\"df-de97213c-79c4-4418-bdff-fafef3f24f34\">\n",
              "    <div class=\"colab-df-container\">\n",
              "      <div>\n",
              "<style scoped>\n",
              "    .dataframe tbody tr th:only-of-type {\n",
              "        vertical-align: middle;\n",
              "    }\n",
              "\n",
              "    .dataframe tbody tr th {\n",
              "        vertical-align: top;\n",
              "    }\n",
              "\n",
              "    .dataframe thead th {\n",
              "        text-align: right;\n",
              "    }\n",
              "</style>\n",
              "<table border=\"1\" class=\"dataframe\">\n",
              "  <thead>\n",
              "    <tr style=\"text-align: right;\">\n",
              "      <th></th>\n",
              "      <th>default_flag</th>\n",
              "      <th>since_last_pnmt</th>\n",
              "      <th>since_issue</th>\n",
              "      <th>int_rate</th>\n",
              "      <th>since_last_cr_pull</th>\n",
              "      <th>out_prncp_inv</th>\n",
              "      <th>last_pymnt_amnt</th>\n",
              "      <th>total_rec_prncp</th>\n",
              "      <th>inq_last_6mths</th>\n",
              "      <th>total_rec_int</th>\n",
              "      <th>grade_num</th>\n",
              "      <th>home_own_merged_MORTGAGE</th>\n",
              "      <th>home_own_merged_OTHER</th>\n",
              "      <th>home_own_merged_OWN</th>\n",
              "      <th>home_own_merged_RENT</th>\n",
              "      <th>initial_list_status_f</th>\n",
              "      <th>initial_list_status_w</th>\n",
              "      <th>verification_status_Not Verified</th>\n",
              "      <th>verification_status_Source Verified</th>\n",
              "      <th>verification_status_Verified</th>\n",
              "    </tr>\n",
              "  </thead>\n",
              "  <tbody>\n",
              "    <tr>\n",
              "      <th>0</th>\n",
              "      <td>0</td>\n",
              "      <td>2922.0</td>\n",
              "      <td>4049</td>\n",
              "      <td>10.65</td>\n",
              "      <td>2557.0</td>\n",
              "      <td>0.0</td>\n",
              "      <td>171.62</td>\n",
              "      <td>5000.00</td>\n",
              "      <td>1.0</td>\n",
              "      <td>861.07</td>\n",
              "      <td>0</td>\n",
              "      <td>0</td>\n",
              "      <td>0</td>\n",
              "      <td>0</td>\n",
              "      <td>1</td>\n",
              "      <td>1</td>\n",
              "      <td>0</td>\n",
              "      <td>0</td>\n",
              "      <td>0</td>\n",
              "      <td>1</td>\n",
              "    </tr>\n",
              "    <tr>\n",
              "      <th>1</th>\n",
              "      <td>1</td>\n",
              "      <td>3562.0</td>\n",
              "      <td>4049</td>\n",
              "      <td>15.27</td>\n",
              "      <td>3409.0</td>\n",
              "      <td>0.0</td>\n",
              "      <td>119.66</td>\n",
              "      <td>456.46</td>\n",
              "      <td>5.0</td>\n",
              "      <td>435.17</td>\n",
              "      <td>1</td>\n",
              "      <td>0</td>\n",
              "      <td>0</td>\n",
              "      <td>0</td>\n",
              "      <td>1</td>\n",
              "      <td>1</td>\n",
              "      <td>0</td>\n",
              "      <td>0</td>\n",
              "      <td>1</td>\n",
              "      <td>0</td>\n",
              "    </tr>\n",
              "    <tr>\n",
              "      <th>2</th>\n",
              "      <td>0</td>\n",
              "      <td>3136.0</td>\n",
              "      <td>4049</td>\n",
              "      <td>15.96</td>\n",
              "      <td>2557.0</td>\n",
              "      <td>0.0</td>\n",
              "      <td>649.91</td>\n",
              "      <td>2400.00</td>\n",
              "      <td>2.0</td>\n",
              "      <td>603.65</td>\n",
              "      <td>1</td>\n",
              "      <td>0</td>\n",
              "      <td>0</td>\n",
              "      <td>0</td>\n",
              "      <td>1</td>\n",
              "      <td>1</td>\n",
              "      <td>0</td>\n",
              "      <td>1</td>\n",
              "      <td>0</td>\n",
              "      <td>0</td>\n",
              "    </tr>\n",
              "    <tr>\n",
              "      <th>3</th>\n",
              "      <td>0</td>\n",
              "      <td>2922.0</td>\n",
              "      <td>4049</td>\n",
              "      <td>13.49</td>\n",
              "      <td>2922.0</td>\n",
              "      <td>0.0</td>\n",
              "      <td>357.48</td>\n",
              "      <td>10000.00</td>\n",
              "      <td>1.0</td>\n",
              "      <td>2209.33</td>\n",
              "      <td>1</td>\n",
              "      <td>0</td>\n",
              "      <td>0</td>\n",
              "      <td>0</td>\n",
              "      <td>1</td>\n",
              "      <td>1</td>\n",
              "      <td>0</td>\n",
              "      <td>0</td>\n",
              "      <td>1</td>\n",
              "      <td>0</td>\n",
              "    </tr>\n",
              "    <tr>\n",
              "      <th>4</th>\n",
              "      <td>0</td>\n",
              "      <td>2557.0</td>\n",
              "      <td>4049</td>\n",
              "      <td>12.69</td>\n",
              "      <td>2557.0</td>\n",
              "      <td>766.9</td>\n",
              "      <td>67.79</td>\n",
              "      <td>2233.10</td>\n",
              "      <td>0.0</td>\n",
              "      <td>1009.07</td>\n",
              "      <td>0</td>\n",
              "      <td>0</td>\n",
              "      <td>0</td>\n",
              "      <td>0</td>\n",
              "      <td>1</td>\n",
              "      <td>1</td>\n",
              "      <td>0</td>\n",
              "      <td>0</td>\n",
              "      <td>1</td>\n",
              "      <td>0</td>\n",
              "    </tr>\n",
              "  </tbody>\n",
              "</table>\n",
              "</div>\n",
              "      <button class=\"colab-df-convert\" onclick=\"convertToInteractive('df-de97213c-79c4-4418-bdff-fafef3f24f34')\"\n",
              "              title=\"Convert this dataframe to an interactive table.\"\n",
              "              style=\"display:none;\">\n",
              "        \n",
              "  <svg xmlns=\"http://www.w3.org/2000/svg\" height=\"24px\"viewBox=\"0 0 24 24\"\n",
              "       width=\"24px\">\n",
              "    <path d=\"M0 0h24v24H0V0z\" fill=\"none\"/>\n",
              "    <path d=\"M18.56 5.44l.94 2.06.94-2.06 2.06-.94-2.06-.94-.94-2.06-.94 2.06-2.06.94zm-11 1L8.5 8.5l.94-2.06 2.06-.94-2.06-.94L8.5 2.5l-.94 2.06-2.06.94zm10 10l.94 2.06.94-2.06 2.06-.94-2.06-.94-.94-2.06-.94 2.06-2.06.94z\"/><path d=\"M17.41 7.96l-1.37-1.37c-.4-.4-.92-.59-1.43-.59-.52 0-1.04.2-1.43.59L10.3 9.45l-7.72 7.72c-.78.78-.78 2.05 0 2.83L4 21.41c.39.39.9.59 1.41.59.51 0 1.02-.2 1.41-.59l7.78-7.78 2.81-2.81c.8-.78.8-2.07 0-2.86zM5.41 20L4 18.59l7.72-7.72 1.47 1.35L5.41 20z\"/>\n",
              "  </svg>\n",
              "      </button>\n",
              "      \n",
              "  <style>\n",
              "    .colab-df-container {\n",
              "      display:flex;\n",
              "      flex-wrap:wrap;\n",
              "      gap: 12px;\n",
              "    }\n",
              "\n",
              "    .colab-df-convert {\n",
              "      background-color: #E8F0FE;\n",
              "      border: none;\n",
              "      border-radius: 50%;\n",
              "      cursor: pointer;\n",
              "      display: none;\n",
              "      fill: #1967D2;\n",
              "      height: 32px;\n",
              "      padding: 0 0 0 0;\n",
              "      width: 32px;\n",
              "    }\n",
              "\n",
              "    .colab-df-convert:hover {\n",
              "      background-color: #E2EBFA;\n",
              "      box-shadow: 0px 1px 2px rgba(60, 64, 67, 0.3), 0px 1px 3px 1px rgba(60, 64, 67, 0.15);\n",
              "      fill: #174EA6;\n",
              "    }\n",
              "\n",
              "    [theme=dark] .colab-df-convert {\n",
              "      background-color: #3B4455;\n",
              "      fill: #D2E3FC;\n",
              "    }\n",
              "\n",
              "    [theme=dark] .colab-df-convert:hover {\n",
              "      background-color: #434B5C;\n",
              "      box-shadow: 0px 1px 3px 1px rgba(0, 0, 0, 0.15);\n",
              "      filter: drop-shadow(0px 1px 2px rgba(0, 0, 0, 0.3));\n",
              "      fill: #FFFFFF;\n",
              "    }\n",
              "  </style>\n",
              "\n",
              "      <script>\n",
              "        const buttonEl =\n",
              "          document.querySelector('#df-de97213c-79c4-4418-bdff-fafef3f24f34 button.colab-df-convert');\n",
              "        buttonEl.style.display =\n",
              "          google.colab.kernel.accessAllowed ? 'block' : 'none';\n",
              "\n",
              "        async function convertToInteractive(key) {\n",
              "          const element = document.querySelector('#df-de97213c-79c4-4418-bdff-fafef3f24f34');\n",
              "          const dataTable =\n",
              "            await google.colab.kernel.invokeFunction('convertToInteractive',\n",
              "                                                     [key], {});\n",
              "          if (!dataTable) return;\n",
              "\n",
              "          const docLinkHtml = 'Like what you see? Visit the ' +\n",
              "            '<a target=\"_blank\" href=https://colab.research.google.com/notebooks/data_table.ipynb>data table notebook</a>'\n",
              "            + ' to learn more about interactive tables.';\n",
              "          element.innerHTML = '';\n",
              "          dataTable['output_type'] = 'display_data';\n",
              "          await google.colab.output.renderOutput(dataTable, element);\n",
              "          const docLink = document.createElement('div');\n",
              "          docLink.innerHTML = docLinkHtml;\n",
              "          element.appendChild(docLink);\n",
              "        }\n",
              "      </script>\n",
              "    </div>\n",
              "  </div>\n",
              "  "
            ],
            "text/plain": [
              "   default_flag  since_last_pnmt  since_issue  int_rate  since_last_cr_pull  \\\n",
              "0             0           2922.0         4049     10.65              2557.0   \n",
              "1             1           3562.0         4049     15.27              3409.0   \n",
              "2             0           3136.0         4049     15.96              2557.0   \n",
              "3             0           2922.0         4049     13.49              2922.0   \n",
              "4             0           2557.0         4049     12.69              2557.0   \n",
              "\n",
              "   out_prncp_inv  last_pymnt_amnt  total_rec_prncp  inq_last_6mths  \\\n",
              "0            0.0           171.62          5000.00             1.0   \n",
              "1            0.0           119.66           456.46             5.0   \n",
              "2            0.0           649.91          2400.00             2.0   \n",
              "3            0.0           357.48         10000.00             1.0   \n",
              "4          766.9            67.79          2233.10             0.0   \n",
              "\n",
              "   total_rec_int  grade_num  home_own_merged_MORTGAGE  home_own_merged_OTHER  \\\n",
              "0         861.07          0                         0                      0   \n",
              "1         435.17          1                         0                      0   \n",
              "2         603.65          1                         0                      0   \n",
              "3        2209.33          1                         0                      0   \n",
              "4        1009.07          0                         0                      0   \n",
              "\n",
              "   home_own_merged_OWN  home_own_merged_RENT  initial_list_status_f  \\\n",
              "0                    0                     1                      1   \n",
              "1                    0                     1                      1   \n",
              "2                    0                     1                      1   \n",
              "3                    0                     1                      1   \n",
              "4                    0                     1                      1   \n",
              "\n",
              "   initial_list_status_w  verification_status_Not Verified  \\\n",
              "0                      0                                 0   \n",
              "1                      0                                 0   \n",
              "2                      0                                 1   \n",
              "3                      0                                 0   \n",
              "4                      0                                 0   \n",
              "\n",
              "   verification_status_Source Verified  verification_status_Verified  \n",
              "0                                    0                             1  \n",
              "1                                    1                             0  \n",
              "2                                    0                             0  \n",
              "3                                    1                             0  \n",
              "4                                    1                             0  "
            ]
          },
          "execution_count": 89,
          "metadata": {},
          "output_type": "execute_result"
        }
      ],
      "source": [
        "data_selected.head()"
      ]
    },
    {
      "cell_type": "code",
      "execution_count": null,
      "metadata": {
        "id": "v_LwuESpI9P_"
      },
      "outputs": [],
      "source": [
        "data_selected.dropna(axis=0, how='any', inplace=True)"
      ]
    },
    {
      "cell_type": "markdown",
      "metadata": {
        "id": "CXLWQjF0Erww"
      },
      "source": [
        "#4. Split, divide and balance the set"
      ]
    },
    {
      "cell_type": "code",
      "execution_count": null,
      "metadata": {
        "id": "p2vLDfqoEuId"
      },
      "outputs": [],
      "source": [
        "y = data_selected.iloc[:, 0].values\n",
        "x = data_selected.iloc[:, 1:].values"
      ]
    },
    {
      "cell_type": "markdown",
      "metadata": {
        "id": "2WtDJNyuJn6o"
      },
      "source": [
        "Smote"
      ]
    },
    {
      "cell_type": "code",
      "execution_count": null,
      "metadata": {
        "id": "DACZaCRNE8-8"
      },
      "outputs": [],
      "source": [
        "smote=SMOTE()"
      ]
    },
    {
      "cell_type": "code",
      "execution_count": null,
      "metadata": {
        "id": "9MBUXB65JsED"
      },
      "outputs": [],
      "source": [
        "x_smote, y_smote = smote.fit_resample(x, y)"
      ]
    },
    {
      "cell_type": "markdown",
      "metadata": {
        "id": "GcBpmB9sKQ_d"
      },
      "source": [
        "#5. Scaling Data and splitting\n",
        "\n",
        "\n"
      ]
    },
    {
      "cell_type": "code",
      "execution_count": null,
      "metadata": {
        "id": "Kn90_zfkJsGC"
      },
      "outputs": [],
      "source": [
        "sc = StandardScaler()\n",
        "x_smote = sc.fit_transform(x_smote)"
      ]
    },
    {
      "cell_type": "code",
      "execution_count": null,
      "metadata": {
        "id": "7v2VKwR-JsIo"
      },
      "outputs": [],
      "source": [
        "x_train, x_test, y_train, y_test = train_test_split(x_smote, y_smote, test_size = .25, random_state = 10)"
      ]
    },
    {
      "cell_type": "markdown",
      "source": [
        "Also we're gonna want to test the model on a natural, imbalanced dataset"
      ],
      "metadata": {
        "id": "-4yWBP8hT9FV"
      }
    },
    {
      "cell_type": "code",
      "source": [
        "x_1=sc.fit_transform(x)"
      ],
      "metadata": {
        "id": "JXTXp5elUQLf"
      },
      "execution_count": null,
      "outputs": []
    },
    {
      "cell_type": "code",
      "source": [
        "x_train_un, x_test_un, y_train_un, y_test_un = train_test_split(x_1, y, test_size = .25, random_state = 10)"
      ],
      "metadata": {
        "id": "25-axCBGUBX-"
      },
      "execution_count": null,
      "outputs": []
    },
    {
      "cell_type": "markdown",
      "metadata": {
        "id": "3nUmyv4FNa5i"
      },
      "source": [
        "# 6. Modelling "
      ]
    },
    {
      "cell_type": "markdown",
      "metadata": {
        "id": "xiwGO_LgNuqY"
      },
      "source": [
        "###1. Logistic Regression\n",
        "\n",
        "Most widely used in credit risk analysis, simple logistic regression model"
      ]
    },
    {
      "cell_type": "markdown",
      "metadata": {
        "id": "s7Oe-3YlN-Z7"
      },
      "source": [
        "Train"
      ]
    },
    {
      "cell_type": "code",
      "execution_count": null,
      "metadata": {
        "id": "xTesJYMZKmT2"
      },
      "outputs": [],
      "source": [
        "classifier =  LogisticRegression(max_iter=3000)\n",
        "classifier.fit(x_train, y_train)\n",
        "y_pred = classifier.predict(x_test)"
      ]
    },
    {
      "cell_type": "markdown",
      "metadata": {
        "id": "hxp8eRF8O0ac"
      },
      "source": [
        "Metrics"
      ]
    },
    {
      "cell_type": "code",
      "execution_count": null,
      "metadata": {
        "id": "AAZDbDWqOGhN"
      },
      "outputs": [],
      "source": [
        "log_accuracy=accuracy_score(y_test, y_pred)\n",
        "log_recall=recall_score(y_test,y_pred)\n",
        "log_precision=precision_score(y_test,y_pred)\n",
        "log_rocauc=roc_auc_score(y_test,y_pred)"
      ]
    },
    {
      "cell_type": "code",
      "execution_count": null,
      "metadata": {
        "colab": {
          "base_uri": "https://localhost:8080/"
        },
        "id": "8ulfqCjvOHu8",
        "outputId": "45f731ef-c170-41ce-9664-899c950e4e75"
      },
      "outputs": [
        {
          "output_type": "stream",
          "name": "stdout",
          "text": [
            "0.8502 - Log Accuracy\n",
            "0.8223 - Log Recall\n",
            "0.8708 - Log Precision\n",
            "0.8502 - Log ROC AUC\n"
          ]
        }
      ],
      "source": [
        "print('{:.4f}'.format(log_accuracy), '- Log Accuracy')\n",
        "print('{:.4f}'.format(log_recall), '- Log Recall')\n",
        "print('{:.4f}'.format(log_precision), '- Log Precision')\n",
        "print('{:.4f}'.format(log_rocauc), '- Log ROC AUC')"
      ]
    },
    {
      "cell_type": "markdown",
      "source": [
        "Test on unbalanced"
      ],
      "metadata": {
        "id": "LupQX6aQUnYR"
      }
    },
    {
      "cell_type": "code",
      "source": [
        "y_pred_un=classifier.predict(x_test_un)"
      ],
      "metadata": {
        "id": "iFChc_s9UosZ"
      },
      "execution_count": null,
      "outputs": []
    },
    {
      "cell_type": "code",
      "source": [
        "log_accuracy=accuracy_score(y_test_un, y_pred_un)\n",
        "log_recall=recall_score(y_test_un,y_pred_un)\n",
        "log_precision=precision_score(y_test_un,y_pred_un)\n",
        "log_rocauc=roc_auc_score(y_test_un,y_pred_un)\n",
        "print('{:.4f}'.format(log_accuracy), '- Log Accuracy')\n",
        "print('{:.4f}'.format(log_recall), '- Log Recall')\n",
        "print('{:.4f}'.format(log_precision), '- Log Precision')\n",
        "print('{:.4f}'.format(log_rocauc), '- Log ROC AUC')"
      ],
      "metadata": {
        "colab": {
          "base_uri": "https://localhost:8080/"
        },
        "id": "fX8aiEgQUouS",
        "outputId": "944be0a5-df22-420a-af39-018f56fcab14"
      },
      "execution_count": null,
      "outputs": [
        {
          "output_type": "stream",
          "name": "stdout",
          "text": [
            "0.5284 - Log Accuracy\n",
            "0.9684 - Log Recall\n",
            "0.1236 - Log Precision\n",
            "0.7323 - Log ROC AUC\n"
          ]
        }
      ]
    },
    {
      "cell_type": "markdown",
      "metadata": {
        "id": "X6Jw8uJ8Oy8r"
      },
      "source": [
        "Predictions"
      ]
    },
    {
      "cell_type": "code",
      "execution_count": null,
      "metadata": {
        "colab": {
          "base_uri": "https://localhost:8080/"
        },
        "id": "9S8rtdy3OJl2",
        "outputId": "e812ff8a-01e7-41fd-d3fb-b427f2bb9983"
      },
      "outputs": [
        {
          "data": {
            "text/plain": [
              "array([[0.34067347, 0.65932653],\n",
              "       [0.50856374, 0.49143626],\n",
              "       [0.13309466, 0.86690534],\n",
              "       ...,\n",
              "       [0.83499367, 0.16500633],\n",
              "       [0.5839613 , 0.4160387 ],\n",
              "       [0.28567177, 0.71432823]])"
            ]
          },
          "execution_count": 99,
          "metadata": {},
          "output_type": "execute_result"
        }
      ],
      "source": [
        "predictions = classifier.predict_proba(x_test)\n",
        "predictions"
      ]
    },
    {
      "cell_type": "code",
      "execution_count": null,
      "metadata": {
        "id": "CW8MWfCvOL5S"
      },
      "outputs": [],
      "source": [
        "df_prediction_prob = pd.DataFrame(predictions, columns = ['prob_0', 'prob_1'])\n",
        "df_prediction_target = pd.DataFrame(classifier.predict(x_test), columns = ['predicted_TARGET'])\n",
        "df_test_dataset = pd.DataFrame(y_test,columns= ['Actual Outcome'])\n",
        "\n",
        "df=pd.concat([df_test_dataset, df_prediction_prob, df_prediction_target], axis=1)\n",
        "df.sort_values(by=['prob_0'],  ascending=[False],inplace=True)"
      ]
    },
    {
      "cell_type": "code",
      "execution_count": null,
      "metadata": {
        "colab": {
          "base_uri": "https://localhost:8080/",
          "height": 424
        },
        "id": "R6CHapGMOX_j",
        "outputId": "73d824f9-0c26-41a6-aa7d-87f53b1825cd"
      },
      "outputs": [
        {
          "data": {
            "text/html": [
              "\n",
              "  <div id=\"df-4572fb2d-4b80-479d-a6c7-58abfe9bdac3\">\n",
              "    <div class=\"colab-df-container\">\n",
              "      <div>\n",
              "<style scoped>\n",
              "    .dataframe tbody tr th:only-of-type {\n",
              "        vertical-align: middle;\n",
              "    }\n",
              "\n",
              "    .dataframe tbody tr th {\n",
              "        vertical-align: top;\n",
              "    }\n",
              "\n",
              "    .dataframe thead th {\n",
              "        text-align: right;\n",
              "    }\n",
              "</style>\n",
              "<table border=\"1\" class=\"dataframe\">\n",
              "  <thead>\n",
              "    <tr style=\"text-align: right;\">\n",
              "      <th></th>\n",
              "      <th>Actual Outcome</th>\n",
              "      <th>prob_0</th>\n",
              "      <th>prob_1</th>\n",
              "      <th>predicted_TARGET</th>\n",
              "    </tr>\n",
              "  </thead>\n",
              "  <tbody>\n",
              "    <tr>\n",
              "      <th>144755</th>\n",
              "      <td>0</td>\n",
              "      <td>1.000000e+00</td>\n",
              "      <td>4.609244e-17</td>\n",
              "      <td>0</td>\n",
              "    </tr>\n",
              "    <tr>\n",
              "      <th>131497</th>\n",
              "      <td>0</td>\n",
              "      <td>1.000000e+00</td>\n",
              "      <td>1.527995e-17</td>\n",
              "      <td>0</td>\n",
              "    </tr>\n",
              "    <tr>\n",
              "      <th>392060</th>\n",
              "      <td>0</td>\n",
              "      <td>1.000000e+00</td>\n",
              "      <td>8.328602e-20</td>\n",
              "      <td>0</td>\n",
              "    </tr>\n",
              "    <tr>\n",
              "      <th>295505</th>\n",
              "      <td>0</td>\n",
              "      <td>1.000000e+00</td>\n",
              "      <td>6.483921e-18</td>\n",
              "      <td>0</td>\n",
              "    </tr>\n",
              "    <tr>\n",
              "      <th>185207</th>\n",
              "      <td>0</td>\n",
              "      <td>1.000000e+00</td>\n",
              "      <td>1.184330e-17</td>\n",
              "      <td>0</td>\n",
              "    </tr>\n",
              "    <tr>\n",
              "      <th>...</th>\n",
              "      <td>...</td>\n",
              "      <td>...</td>\n",
              "      <td>...</td>\n",
              "      <td>...</td>\n",
              "    </tr>\n",
              "    <tr>\n",
              "      <th>218089</th>\n",
              "      <td>0</td>\n",
              "      <td>2.319140e-10</td>\n",
              "      <td>1.000000e+00</td>\n",
              "      <td>1</td>\n",
              "    </tr>\n",
              "    <tr>\n",
              "      <th>219445</th>\n",
              "      <td>0</td>\n",
              "      <td>1.733182e-10</td>\n",
              "      <td>1.000000e+00</td>\n",
              "      <td>1</td>\n",
              "    </tr>\n",
              "    <tr>\n",
              "      <th>319637</th>\n",
              "      <td>0</td>\n",
              "      <td>1.671423e-10</td>\n",
              "      <td>1.000000e+00</td>\n",
              "      <td>1</td>\n",
              "    </tr>\n",
              "    <tr>\n",
              "      <th>177953</th>\n",
              "      <td>0</td>\n",
              "      <td>1.541389e-10</td>\n",
              "      <td>1.000000e+00</td>\n",
              "      <td>1</td>\n",
              "    </tr>\n",
              "    <tr>\n",
              "      <th>347761</th>\n",
              "      <td>0</td>\n",
              "      <td>1.275140e-10</td>\n",
              "      <td>1.000000e+00</td>\n",
              "      <td>1</td>\n",
              "    </tr>\n",
              "  </tbody>\n",
              "</table>\n",
              "<p>404965 rows × 4 columns</p>\n",
              "</div>\n",
              "      <button class=\"colab-df-convert\" onclick=\"convertToInteractive('df-4572fb2d-4b80-479d-a6c7-58abfe9bdac3')\"\n",
              "              title=\"Convert this dataframe to an interactive table.\"\n",
              "              style=\"display:none;\">\n",
              "        \n",
              "  <svg xmlns=\"http://www.w3.org/2000/svg\" height=\"24px\"viewBox=\"0 0 24 24\"\n",
              "       width=\"24px\">\n",
              "    <path d=\"M0 0h24v24H0V0z\" fill=\"none\"/>\n",
              "    <path d=\"M18.56 5.44l.94 2.06.94-2.06 2.06-.94-2.06-.94-.94-2.06-.94 2.06-2.06.94zm-11 1L8.5 8.5l.94-2.06 2.06-.94-2.06-.94L8.5 2.5l-.94 2.06-2.06.94zm10 10l.94 2.06.94-2.06 2.06-.94-2.06-.94-.94-2.06-.94 2.06-2.06.94z\"/><path d=\"M17.41 7.96l-1.37-1.37c-.4-.4-.92-.59-1.43-.59-.52 0-1.04.2-1.43.59L10.3 9.45l-7.72 7.72c-.78.78-.78 2.05 0 2.83L4 21.41c.39.39.9.59 1.41.59.51 0 1.02-.2 1.41-.59l7.78-7.78 2.81-2.81c.8-.78.8-2.07 0-2.86zM5.41 20L4 18.59l7.72-7.72 1.47 1.35L5.41 20z\"/>\n",
              "  </svg>\n",
              "      </button>\n",
              "      \n",
              "  <style>\n",
              "    .colab-df-container {\n",
              "      display:flex;\n",
              "      flex-wrap:wrap;\n",
              "      gap: 12px;\n",
              "    }\n",
              "\n",
              "    .colab-df-convert {\n",
              "      background-color: #E8F0FE;\n",
              "      border: none;\n",
              "      border-radius: 50%;\n",
              "      cursor: pointer;\n",
              "      display: none;\n",
              "      fill: #1967D2;\n",
              "      height: 32px;\n",
              "      padding: 0 0 0 0;\n",
              "      width: 32px;\n",
              "    }\n",
              "\n",
              "    .colab-df-convert:hover {\n",
              "      background-color: #E2EBFA;\n",
              "      box-shadow: 0px 1px 2px rgba(60, 64, 67, 0.3), 0px 1px 3px 1px rgba(60, 64, 67, 0.15);\n",
              "      fill: #174EA6;\n",
              "    }\n",
              "\n",
              "    [theme=dark] .colab-df-convert {\n",
              "      background-color: #3B4455;\n",
              "      fill: #D2E3FC;\n",
              "    }\n",
              "\n",
              "    [theme=dark] .colab-df-convert:hover {\n",
              "      background-color: #434B5C;\n",
              "      box-shadow: 0px 1px 3px 1px rgba(0, 0, 0, 0.15);\n",
              "      filter: drop-shadow(0px 1px 2px rgba(0, 0, 0, 0.3));\n",
              "      fill: #FFFFFF;\n",
              "    }\n",
              "  </style>\n",
              "\n",
              "      <script>\n",
              "        const buttonEl =\n",
              "          document.querySelector('#df-4572fb2d-4b80-479d-a6c7-58abfe9bdac3 button.colab-df-convert');\n",
              "        buttonEl.style.display =\n",
              "          google.colab.kernel.accessAllowed ? 'block' : 'none';\n",
              "\n",
              "        async function convertToInteractive(key) {\n",
              "          const element = document.querySelector('#df-4572fb2d-4b80-479d-a6c7-58abfe9bdac3');\n",
              "          const dataTable =\n",
              "            await google.colab.kernel.invokeFunction('convertToInteractive',\n",
              "                                                     [key], {});\n",
              "          if (!dataTable) return;\n",
              "\n",
              "          const docLinkHtml = 'Like what you see? Visit the ' +\n",
              "            '<a target=\"_blank\" href=https://colab.research.google.com/notebooks/data_table.ipynb>data table notebook</a>'\n",
              "            + ' to learn more about interactive tables.';\n",
              "          element.innerHTML = '';\n",
              "          dataTable['output_type'] = 'display_data';\n",
              "          await google.colab.output.renderOutput(dataTable, element);\n",
              "          const docLink = document.createElement('div');\n",
              "          docLink.innerHTML = docLinkHtml;\n",
              "          element.appendChild(docLink);\n",
              "        }\n",
              "      </script>\n",
              "    </div>\n",
              "  </div>\n",
              "  "
            ],
            "text/plain": [
              "        Actual Outcome        prob_0        prob_1  predicted_TARGET\n",
              "144755               0  1.000000e+00  4.609244e-17                 0\n",
              "131497               0  1.000000e+00  1.527995e-17                 0\n",
              "392060               0  1.000000e+00  8.328602e-20                 0\n",
              "295505               0  1.000000e+00  6.483921e-18                 0\n",
              "185207               0  1.000000e+00  1.184330e-17                 0\n",
              "...                ...           ...           ...               ...\n",
              "218089               0  2.319140e-10  1.000000e+00                 1\n",
              "219445               0  1.733182e-10  1.000000e+00                 1\n",
              "319637               0  1.671423e-10  1.000000e+00                 1\n",
              "177953               0  1.541389e-10  1.000000e+00                 1\n",
              "347761               0  1.275140e-10  1.000000e+00                 1\n",
              "\n",
              "[404965 rows x 4 columns]"
            ]
          },
          "execution_count": 101,
          "metadata": {},
          "output_type": "execute_result"
        }
      ],
      "source": [
        "df"
      ]
    },
    {
      "cell_type": "markdown",
      "metadata": {
        "id": "GSdyOhGkO3IH"
      },
      "source": [
        "Confusion Matrix"
      ]
    },
    {
      "cell_type": "code",
      "execution_count": null,
      "metadata": {
        "colab": {
          "base_uri": "https://localhost:8080/"
        },
        "id": "LZwHajfcOYCQ",
        "outputId": "611d0ab2-65e0-4004-ec44-f4536edd0ed9"
      },
      "outputs": [
        {
          "output_type": "stream",
          "name": "stdout",
          "text": [
            "[[177862  24698]\n",
            " [ 35979 166440]]\n"
          ]
        }
      ],
      "source": [
        "confusion_matrix_logit = confusion_matrix(y_test, y_pred)\n",
        "print(confusion_matrix_logit)\n",
        "#pd.crosstab(y_test,y_pred)"
      ]
    },
    {
      "cell_type": "markdown",
      "metadata": {
        "id": "ZyuKfBk7OHEn"
      },
      "source": [
        "###2. **KNN**"
      ]
    },
    {
      "cell_type": "code",
      "execution_count": null,
      "metadata": {
        "colab": {
          "base_uri": "https://localhost:8080/",
          "height": 345
        },
        "id": "HLjlym8BPbf8",
        "outputId": "01734623-27da-4315-9861-5a961d71c650"
      },
      "outputs": [
        {
          "ename": "KeyboardInterrupt",
          "evalue": "ignored",
          "output_type": "error",
          "traceback": [
            "\u001b[0;31m---------------------------------------------------------------------------\u001b[0m",
            "\u001b[0;31mKeyboardInterrupt\u001b[0m                         Traceback (most recent call last)",
            "\u001b[0;32m<ipython-input-103-8439baedaeed>\u001b[0m in \u001b[0;36m<module>\u001b[0;34m\u001b[0m\n\u001b[1;32m      2\u001b[0m \u001b[0mknn\u001b[0m \u001b[0;34m=\u001b[0m \u001b[0mKNeighborsClassifier\u001b[0m\u001b[0;34m(\u001b[0m\u001b[0mn_neighbors\u001b[0m \u001b[0;34m=\u001b[0m \u001b[0mn\u001b[0m\u001b[0;34m)\u001b[0m\u001b[0;34m\u001b[0m\u001b[0;34m\u001b[0m\u001b[0m\n\u001b[1;32m      3\u001b[0m \u001b[0mknn\u001b[0m\u001b[0;34m.\u001b[0m\u001b[0mfit\u001b[0m\u001b[0;34m(\u001b[0m\u001b[0mx_train\u001b[0m\u001b[0;34m,\u001b[0m \u001b[0my_train\u001b[0m\u001b[0;34m)\u001b[0m\u001b[0;34m\u001b[0m\u001b[0;34m\u001b[0m\u001b[0m\n\u001b[0;32m----> 4\u001b[0;31m \u001b[0my_pred\u001b[0m \u001b[0;34m=\u001b[0m \u001b[0mknn\u001b[0m\u001b[0;34m.\u001b[0m\u001b[0mpredict\u001b[0m\u001b[0;34m(\u001b[0m\u001b[0mx_test\u001b[0m\u001b[0;34m)\u001b[0m\u001b[0;34m\u001b[0m\u001b[0;34m\u001b[0m\u001b[0m\n\u001b[0m",
            "\u001b[0;32m/usr/local/lib/python3.8/dist-packages/sklearn/neighbors/_classification.py\u001b[0m in \u001b[0;36mpredict\u001b[0;34m(self, X)\u001b[0m\n\u001b[1;32m    212\u001b[0m             \u001b[0mClass\u001b[0m \u001b[0mlabels\u001b[0m \u001b[0;32mfor\u001b[0m \u001b[0meach\u001b[0m \u001b[0mdata\u001b[0m \u001b[0msample\u001b[0m\u001b[0;34m.\u001b[0m\u001b[0;34m\u001b[0m\u001b[0;34m\u001b[0m\u001b[0m\n\u001b[1;32m    213\u001b[0m         \"\"\"\n\u001b[0;32m--> 214\u001b[0;31m         \u001b[0mneigh_dist\u001b[0m\u001b[0;34m,\u001b[0m \u001b[0mneigh_ind\u001b[0m \u001b[0;34m=\u001b[0m \u001b[0mself\u001b[0m\u001b[0;34m.\u001b[0m\u001b[0mkneighbors\u001b[0m\u001b[0;34m(\u001b[0m\u001b[0mX\u001b[0m\u001b[0;34m)\u001b[0m\u001b[0;34m\u001b[0m\u001b[0;34m\u001b[0m\u001b[0m\n\u001b[0m\u001b[1;32m    215\u001b[0m         \u001b[0mclasses_\u001b[0m \u001b[0;34m=\u001b[0m \u001b[0mself\u001b[0m\u001b[0;34m.\u001b[0m\u001b[0mclasses_\u001b[0m\u001b[0;34m\u001b[0m\u001b[0;34m\u001b[0m\u001b[0m\n\u001b[1;32m    216\u001b[0m         \u001b[0m_y\u001b[0m \u001b[0;34m=\u001b[0m \u001b[0mself\u001b[0m\u001b[0;34m.\u001b[0m\u001b[0m_y\u001b[0m\u001b[0;34m\u001b[0m\u001b[0;34m\u001b[0m\u001b[0m\n",
            "\u001b[0;32m/usr/local/lib/python3.8/dist-packages/sklearn/neighbors/_base.py\u001b[0m in \u001b[0;36mkneighbors\u001b[0;34m(self, X, n_neighbors, return_distance)\u001b[0m\n\u001b[1;32m    750\u001b[0m                 \u001b[0mkwds\u001b[0m \u001b[0;34m=\u001b[0m \u001b[0mself\u001b[0m\u001b[0;34m.\u001b[0m\u001b[0meffective_metric_params_\u001b[0m\u001b[0;34m\u001b[0m\u001b[0;34m\u001b[0m\u001b[0m\n\u001b[1;32m    751\u001b[0m \u001b[0;34m\u001b[0m\u001b[0m\n\u001b[0;32m--> 752\u001b[0;31m             chunked_results = list(\n\u001b[0m\u001b[1;32m    753\u001b[0m                 pairwise_distances_chunked(\n\u001b[1;32m    754\u001b[0m                     \u001b[0mX\u001b[0m\u001b[0;34m,\u001b[0m\u001b[0;34m\u001b[0m\u001b[0;34m\u001b[0m\u001b[0m\n",
            "\u001b[0;32m/usr/local/lib/python3.8/dist-packages/sklearn/metrics/pairwise.py\u001b[0m in \u001b[0;36mpairwise_distances_chunked\u001b[0;34m(X, Y, reduce_func, metric, n_jobs, working_memory, **kwds)\u001b[0m\n\u001b[1;32m   1715\u001b[0m         \u001b[0;32melse\u001b[0m\u001b[0;34m:\u001b[0m\u001b[0;34m\u001b[0m\u001b[0;34m\u001b[0m\u001b[0m\n\u001b[1;32m   1716\u001b[0m             \u001b[0mX_chunk\u001b[0m \u001b[0;34m=\u001b[0m \u001b[0mX\u001b[0m\u001b[0;34m[\u001b[0m\u001b[0msl\u001b[0m\u001b[0;34m]\u001b[0m\u001b[0;34m\u001b[0m\u001b[0;34m\u001b[0m\u001b[0m\n\u001b[0;32m-> 1717\u001b[0;31m         \u001b[0mD_chunk\u001b[0m \u001b[0;34m=\u001b[0m \u001b[0mpairwise_distances\u001b[0m\u001b[0;34m(\u001b[0m\u001b[0mX_chunk\u001b[0m\u001b[0;34m,\u001b[0m \u001b[0mY\u001b[0m\u001b[0;34m,\u001b[0m \u001b[0mmetric\u001b[0m\u001b[0;34m=\u001b[0m\u001b[0mmetric\u001b[0m\u001b[0;34m,\u001b[0m \u001b[0mn_jobs\u001b[0m\u001b[0;34m=\u001b[0m\u001b[0mn_jobs\u001b[0m\u001b[0;34m,\u001b[0m \u001b[0;34m**\u001b[0m\u001b[0mkwds\u001b[0m\u001b[0;34m)\u001b[0m\u001b[0;34m\u001b[0m\u001b[0;34m\u001b[0m\u001b[0m\n\u001b[0m\u001b[1;32m   1718\u001b[0m         if (X is Y or Y is None) and PAIRWISE_DISTANCE_FUNCTIONS.get(\n\u001b[1;32m   1719\u001b[0m             \u001b[0mmetric\u001b[0m\u001b[0;34m,\u001b[0m \u001b[0;32mNone\u001b[0m\u001b[0;34m\u001b[0m\u001b[0;34m\u001b[0m\u001b[0m\n",
            "\u001b[0;32m/usr/local/lib/python3.8/dist-packages/sklearn/metrics/pairwise.py\u001b[0m in \u001b[0;36mpairwise_distances\u001b[0;34m(X, Y, metric, n_jobs, force_all_finite, **kwds)\u001b[0m\n\u001b[1;32m   1887\u001b[0m         \u001b[0mfunc\u001b[0m \u001b[0;34m=\u001b[0m \u001b[0mpartial\u001b[0m\u001b[0;34m(\u001b[0m\u001b[0mdistance\u001b[0m\u001b[0;34m.\u001b[0m\u001b[0mcdist\u001b[0m\u001b[0;34m,\u001b[0m \u001b[0mmetric\u001b[0m\u001b[0;34m=\u001b[0m\u001b[0mmetric\u001b[0m\u001b[0;34m,\u001b[0m \u001b[0;34m**\u001b[0m\u001b[0mkwds\u001b[0m\u001b[0;34m)\u001b[0m\u001b[0;34m\u001b[0m\u001b[0;34m\u001b[0m\u001b[0m\n\u001b[1;32m   1888\u001b[0m \u001b[0;34m\u001b[0m\u001b[0m\n\u001b[0;32m-> 1889\u001b[0;31m     \u001b[0;32mreturn\u001b[0m \u001b[0m_parallel_pairwise\u001b[0m\u001b[0;34m(\u001b[0m\u001b[0mX\u001b[0m\u001b[0;34m,\u001b[0m \u001b[0mY\u001b[0m\u001b[0;34m,\u001b[0m \u001b[0mfunc\u001b[0m\u001b[0;34m,\u001b[0m \u001b[0mn_jobs\u001b[0m\u001b[0;34m,\u001b[0m \u001b[0;34m**\u001b[0m\u001b[0mkwds\u001b[0m\u001b[0;34m)\u001b[0m\u001b[0;34m\u001b[0m\u001b[0;34m\u001b[0m\u001b[0m\n\u001b[0m\u001b[1;32m   1890\u001b[0m \u001b[0;34m\u001b[0m\u001b[0m\n\u001b[1;32m   1891\u001b[0m \u001b[0;34m\u001b[0m\u001b[0m\n",
            "\u001b[0;32m/usr/local/lib/python3.8/dist-packages/sklearn/metrics/pairwise.py\u001b[0m in \u001b[0;36m_parallel_pairwise\u001b[0;34m(X, Y, func, n_jobs, **kwds)\u001b[0m\n\u001b[1;32m   1428\u001b[0m \u001b[0;34m\u001b[0m\u001b[0m\n\u001b[1;32m   1429\u001b[0m     \u001b[0;32mif\u001b[0m \u001b[0meffective_n_jobs\u001b[0m\u001b[0;34m(\u001b[0m\u001b[0mn_jobs\u001b[0m\u001b[0;34m)\u001b[0m \u001b[0;34m==\u001b[0m \u001b[0;36m1\u001b[0m\u001b[0;34m:\u001b[0m\u001b[0;34m\u001b[0m\u001b[0;34m\u001b[0m\u001b[0m\n\u001b[0;32m-> 1430\u001b[0;31m         \u001b[0;32mreturn\u001b[0m \u001b[0mfunc\u001b[0m\u001b[0;34m(\u001b[0m\u001b[0mX\u001b[0m\u001b[0;34m,\u001b[0m \u001b[0mY\u001b[0m\u001b[0;34m,\u001b[0m \u001b[0;34m**\u001b[0m\u001b[0mkwds\u001b[0m\u001b[0;34m)\u001b[0m\u001b[0;34m\u001b[0m\u001b[0;34m\u001b[0m\u001b[0m\n\u001b[0m\u001b[1;32m   1431\u001b[0m \u001b[0;34m\u001b[0m\u001b[0m\n\u001b[1;32m   1432\u001b[0m     \u001b[0;31m# enforce a threading backend to prevent data communication overhead\u001b[0m\u001b[0;34m\u001b[0m\u001b[0;34m\u001b[0m\u001b[0;34m\u001b[0m\u001b[0m\n",
            "\u001b[0;32m/usr/local/lib/python3.8/dist-packages/sklearn/metrics/pairwise.py\u001b[0m in \u001b[0;36meuclidean_distances\u001b[0;34m(X, Y, Y_norm_squared, squared, X_norm_squared)\u001b[0m\n\u001b[1;32m    328\u001b[0m             )\n\u001b[1;32m    329\u001b[0m \u001b[0;34m\u001b[0m\u001b[0m\n\u001b[0;32m--> 330\u001b[0;31m     \u001b[0;32mreturn\u001b[0m \u001b[0m_euclidean_distances\u001b[0m\u001b[0;34m(\u001b[0m\u001b[0mX\u001b[0m\u001b[0;34m,\u001b[0m \u001b[0mY\u001b[0m\u001b[0;34m,\u001b[0m \u001b[0mX_norm_squared\u001b[0m\u001b[0;34m,\u001b[0m \u001b[0mY_norm_squared\u001b[0m\u001b[0;34m,\u001b[0m \u001b[0msquared\u001b[0m\u001b[0;34m)\u001b[0m\u001b[0;34m\u001b[0m\u001b[0;34m\u001b[0m\u001b[0m\n\u001b[0m\u001b[1;32m    331\u001b[0m \u001b[0;34m\u001b[0m\u001b[0m\n\u001b[1;32m    332\u001b[0m \u001b[0;34m\u001b[0m\u001b[0m\n",
            "\u001b[0;32m/usr/local/lib/python3.8/dist-packages/sklearn/metrics/pairwise.py\u001b[0m in \u001b[0;36m_euclidean_distances\u001b[0;34m(X, Y, X_norm_squared, Y_norm_squared, squared)\u001b[0m\n\u001b[1;32m    372\u001b[0m         \u001b[0mdistances\u001b[0m \u001b[0;34m+=\u001b[0m \u001b[0mXX\u001b[0m\u001b[0;34m\u001b[0m\u001b[0;34m\u001b[0m\u001b[0m\n\u001b[1;32m    373\u001b[0m         \u001b[0mdistances\u001b[0m \u001b[0;34m+=\u001b[0m \u001b[0mYY\u001b[0m\u001b[0;34m\u001b[0m\u001b[0;34m\u001b[0m\u001b[0m\n\u001b[0;32m--> 374\u001b[0;31m     \u001b[0mnp\u001b[0m\u001b[0;34m.\u001b[0m\u001b[0mmaximum\u001b[0m\u001b[0;34m(\u001b[0m\u001b[0mdistances\u001b[0m\u001b[0;34m,\u001b[0m \u001b[0;36m0\u001b[0m\u001b[0;34m,\u001b[0m \u001b[0mout\u001b[0m\u001b[0;34m=\u001b[0m\u001b[0mdistances\u001b[0m\u001b[0;34m)\u001b[0m\u001b[0;34m\u001b[0m\u001b[0;34m\u001b[0m\u001b[0m\n\u001b[0m\u001b[1;32m    375\u001b[0m \u001b[0;34m\u001b[0m\u001b[0m\n\u001b[1;32m    376\u001b[0m     \u001b[0;31m# Ensure that distances between vectors and themselves are set to 0.0.\u001b[0m\u001b[0;34m\u001b[0m\u001b[0;34m\u001b[0m\u001b[0;34m\u001b[0m\u001b[0m\n",
            "\u001b[0;31mKeyboardInterrupt\u001b[0m: "
          ]
        }
      ],
      "source": [
        "n = 2\n",
        "knn = KNeighborsClassifier(n_neighbors = n)\n",
        "knn.fit(x_train, y_train)\n",
        "y_pred = knn.predict(x_test)"
      ]
    },
    {
      "cell_type": "code",
      "execution_count": null,
      "metadata": {
        "id": "W0HLaC44PjbZ"
      },
      "outputs": [],
      "source": [
        "log_accuracy=accuracy_score(y_test, y_pred)\n",
        "log_recall=recall_score(y_test,y_pred)\n",
        "log_precision=precision_score(y_test,y_pred)\n",
        "log_rocauc=roc_auc_score(y_test,y_pred)\n",
        "\n",
        "print('{:.4f}'.format(log_accuracy), '- Log Accuracy')\n",
        "print('{:.4f}'.format(log_recall), '- Log Recall')\n",
        "print('{:.4f}'.format(log_precision), '- Log Precision')\n",
        "print('{:.4f}'.format(log_rocauc), '- Log ROC AUC')"
      ]
    },
    {
      "cell_type": "code",
      "execution_count": null,
      "metadata": {
        "id": "_G8moy0-PkFE"
      },
      "outputs": [],
      "source": [
        "#confusion_matrix = confusion_matrix(y_test, y_pred)\n",
        "#print(confusion_matrix)\n",
        "pd.crosstab(y_test,y_pred)"
      ]
    },
    {
      "cell_type": "markdown",
      "source": [
        "KNN is too time-complex for such large dataset"
      ],
      "metadata": {
        "id": "pr_IDz_BVIqy"
      }
    },
    {
      "cell_type": "markdown",
      "metadata": {
        "id": "9ph1vY8aV7e7"
      },
      "source": [
        "###3. SVM"
      ]
    },
    {
      "cell_type": "code",
      "execution_count": null,
      "metadata": {
        "colab": {
          "base_uri": "https://localhost:8080/"
        },
        "id": "UciwNHd7V6wm",
        "outputId": "69d75509-bcae-4b74-f362-e3d80216af1b"
      },
      "outputs": [
        {
          "output_type": "stream",
          "name": "stderr",
          "text": [
            "/usr/local/lib/python3.8/dist-packages/sklearn/svm/_base.py:1206: ConvergenceWarning: Liblinear failed to converge, increase the number of iterations.\n",
            "  warnings.warn(\n"
          ]
        }
      ],
      "source": [
        "svm = LinearSVC()\n",
        "svm.fit(x_train, y_train)\n",
        "y_pred = svm.predict(x_test)"
      ]
    },
    {
      "cell_type": "code",
      "execution_count": null,
      "metadata": {
        "id": "QThGMWFxWBrP",
        "colab": {
          "base_uri": "https://localhost:8080/"
        },
        "outputId": "9d7de2fd-90e0-46af-f27f-ead732c4969e"
      },
      "outputs": [
        {
          "output_type": "stream",
          "name": "stdout",
          "text": [
            "0.8345 - Log Accuracy\n",
            "0.8061 - Log Recall\n",
            "0.8545 - Log Precision\n",
            "0.8345 - Log ROC AUC\n"
          ]
        }
      ],
      "source": [
        "log_accuracy=accuracy_score(y_test, y_pred)\n",
        "log_recall=recall_score(y_test,y_pred)\n",
        "log_precision=precision_score(y_test,y_pred)\n",
        "log_rocauc=roc_auc_score(y_test,y_pred)\n",
        "\n",
        "print('{:.4f}'.format(log_accuracy), '- Log Accuracy')\n",
        "print('{:.4f}'.format(log_recall), '- Log Recall')\n",
        "print('{:.4f}'.format(log_precision), '- Log Precision')\n",
        "print('{:.4f}'.format(log_rocauc), '- Log ROC AUC')"
      ]
    },
    {
      "cell_type": "code",
      "execution_count": null,
      "metadata": {
        "id": "Y6snUCgUWD62",
        "colab": {
          "base_uri": "https://localhost:8080/",
          "height": 143
        },
        "outputId": "a019389c-fa4c-4ae7-9350-ec2609a1e0ee"
      },
      "outputs": [
        {
          "output_type": "execute_result",
          "data": {
            "text/plain": [
              "col_0       0       1\n",
              "row_0                \n",
              "0      174786   27774\n",
              "1       39252  163167"
            ],
            "text/html": [
              "\n",
              "  <div id=\"df-1ac2e3ac-d268-4ea4-9234-13d80c82908c\">\n",
              "    <div class=\"colab-df-container\">\n",
              "      <div>\n",
              "<style scoped>\n",
              "    .dataframe tbody tr th:only-of-type {\n",
              "        vertical-align: middle;\n",
              "    }\n",
              "\n",
              "    .dataframe tbody tr th {\n",
              "        vertical-align: top;\n",
              "    }\n",
              "\n",
              "    .dataframe thead th {\n",
              "        text-align: right;\n",
              "    }\n",
              "</style>\n",
              "<table border=\"1\" class=\"dataframe\">\n",
              "  <thead>\n",
              "    <tr style=\"text-align: right;\">\n",
              "      <th>col_0</th>\n",
              "      <th>0</th>\n",
              "      <th>1</th>\n",
              "    </tr>\n",
              "    <tr>\n",
              "      <th>row_0</th>\n",
              "      <th></th>\n",
              "      <th></th>\n",
              "    </tr>\n",
              "  </thead>\n",
              "  <tbody>\n",
              "    <tr>\n",
              "      <th>0</th>\n",
              "      <td>174786</td>\n",
              "      <td>27774</td>\n",
              "    </tr>\n",
              "    <tr>\n",
              "      <th>1</th>\n",
              "      <td>39252</td>\n",
              "      <td>163167</td>\n",
              "    </tr>\n",
              "  </tbody>\n",
              "</table>\n",
              "</div>\n",
              "      <button class=\"colab-df-convert\" onclick=\"convertToInteractive('df-1ac2e3ac-d268-4ea4-9234-13d80c82908c')\"\n",
              "              title=\"Convert this dataframe to an interactive table.\"\n",
              "              style=\"display:none;\">\n",
              "        \n",
              "  <svg xmlns=\"http://www.w3.org/2000/svg\" height=\"24px\"viewBox=\"0 0 24 24\"\n",
              "       width=\"24px\">\n",
              "    <path d=\"M0 0h24v24H0V0z\" fill=\"none\"/>\n",
              "    <path d=\"M18.56 5.44l.94 2.06.94-2.06 2.06-.94-2.06-.94-.94-2.06-.94 2.06-2.06.94zm-11 1L8.5 8.5l.94-2.06 2.06-.94-2.06-.94L8.5 2.5l-.94 2.06-2.06.94zm10 10l.94 2.06.94-2.06 2.06-.94-2.06-.94-.94-2.06-.94 2.06-2.06.94z\"/><path d=\"M17.41 7.96l-1.37-1.37c-.4-.4-.92-.59-1.43-.59-.52 0-1.04.2-1.43.59L10.3 9.45l-7.72 7.72c-.78.78-.78 2.05 0 2.83L4 21.41c.39.39.9.59 1.41.59.51 0 1.02-.2 1.41-.59l7.78-7.78 2.81-2.81c.8-.78.8-2.07 0-2.86zM5.41 20L4 18.59l7.72-7.72 1.47 1.35L5.41 20z\"/>\n",
              "  </svg>\n",
              "      </button>\n",
              "      \n",
              "  <style>\n",
              "    .colab-df-container {\n",
              "      display:flex;\n",
              "      flex-wrap:wrap;\n",
              "      gap: 12px;\n",
              "    }\n",
              "\n",
              "    .colab-df-convert {\n",
              "      background-color: #E8F0FE;\n",
              "      border: none;\n",
              "      border-radius: 50%;\n",
              "      cursor: pointer;\n",
              "      display: none;\n",
              "      fill: #1967D2;\n",
              "      height: 32px;\n",
              "      padding: 0 0 0 0;\n",
              "      width: 32px;\n",
              "    }\n",
              "\n",
              "    .colab-df-convert:hover {\n",
              "      background-color: #E2EBFA;\n",
              "      box-shadow: 0px 1px 2px rgba(60, 64, 67, 0.3), 0px 1px 3px 1px rgba(60, 64, 67, 0.15);\n",
              "      fill: #174EA6;\n",
              "    }\n",
              "\n",
              "    [theme=dark] .colab-df-convert {\n",
              "      background-color: #3B4455;\n",
              "      fill: #D2E3FC;\n",
              "    }\n",
              "\n",
              "    [theme=dark] .colab-df-convert:hover {\n",
              "      background-color: #434B5C;\n",
              "      box-shadow: 0px 1px 3px 1px rgba(0, 0, 0, 0.15);\n",
              "      filter: drop-shadow(0px 1px 2px rgba(0, 0, 0, 0.3));\n",
              "      fill: #FFFFFF;\n",
              "    }\n",
              "  </style>\n",
              "\n",
              "      <script>\n",
              "        const buttonEl =\n",
              "          document.querySelector('#df-1ac2e3ac-d268-4ea4-9234-13d80c82908c button.colab-df-convert');\n",
              "        buttonEl.style.display =\n",
              "          google.colab.kernel.accessAllowed ? 'block' : 'none';\n",
              "\n",
              "        async function convertToInteractive(key) {\n",
              "          const element = document.querySelector('#df-1ac2e3ac-d268-4ea4-9234-13d80c82908c');\n",
              "          const dataTable =\n",
              "            await google.colab.kernel.invokeFunction('convertToInteractive',\n",
              "                                                     [key], {});\n",
              "          if (!dataTable) return;\n",
              "\n",
              "          const docLinkHtml = 'Like what you see? Visit the ' +\n",
              "            '<a target=\"_blank\" href=https://colab.research.google.com/notebooks/data_table.ipynb>data table notebook</a>'\n",
              "            + ' to learn more about interactive tables.';\n",
              "          element.innerHTML = '';\n",
              "          dataTable['output_type'] = 'display_data';\n",
              "          await google.colab.output.renderOutput(dataTable, element);\n",
              "          const docLink = document.createElement('div');\n",
              "          docLink.innerHTML = docLinkHtml;\n",
              "          element.appendChild(docLink);\n",
              "        }\n",
              "      </script>\n",
              "    </div>\n",
              "  </div>\n",
              "  "
            ]
          },
          "metadata": {},
          "execution_count": 32
        }
      ],
      "source": [
        "pd.crosstab(y_test,y_pred)"
      ]
    },
    {
      "cell_type": "markdown",
      "source": [
        "Metrics lookg good but the message 'liblinear failed to converge' suggests that the algorithm does not work so well"
      ],
      "metadata": {
        "id": "kFVY79AwXoyo"
      }
    },
    {
      "cell_type": "markdown",
      "metadata": {
        "id": "OWjN1nmhWGFs"
      },
      "source": [
        "###4. Decision trees"
      ]
    },
    {
      "cell_type": "markdown",
      "metadata": {
        "id": "XWDpKJTfPghD"
      },
      "source": []
    },
    {
      "cell_type": "code",
      "execution_count": null,
      "metadata": {
        "id": "R6lj891lWLEK"
      },
      "outputs": [],
      "source": [
        "dtree = DecisionTreeClassifier(criterion = \"gini\", random_state = 100,max_depth=5, min_samples_leaf=5)\n",
        "dtree.fit(x_train, y_train)\n",
        "y_pred = dtree.predict(x_test)"
      ]
    },
    {
      "cell_type": "code",
      "execution_count": null,
      "metadata": {
        "id": "5OsVJOryWLGv",
        "colab": {
          "base_uri": "https://localhost:8080/"
        },
        "outputId": "686c54c5-3692-4573-98da-c317772eee6a"
      },
      "outputs": [
        {
          "output_type": "stream",
          "name": "stdout",
          "text": [
            "0.9580 - Log Accuracy\n",
            "0.9664 - Log Recall\n",
            "0.9504 - Log Precision\n",
            "0.9580 - Log ROC AUC\n"
          ]
        }
      ],
      "source": [
        "log_accuracy=accuracy_score(y_test, y_pred)\n",
        "log_recall=recall_score(y_test,y_pred)\n",
        "log_precision=precision_score(y_test,y_pred)\n",
        "log_rocauc=roc_auc_score(y_test,y_pred)\n",
        "\n",
        "print('{:.4f}'.format(log_accuracy), '- Log Accuracy')\n",
        "print('{:.4f}'.format(log_recall), '- Log Recall')\n",
        "print('{:.4f}'.format(log_precision), '- Log Precision')\n",
        "print('{:.4f}'.format(log_rocauc), '- Log ROC AUC')"
      ]
    },
    {
      "cell_type": "code",
      "execution_count": null,
      "metadata": {
        "id": "cGPJ5Z80WSlU",
        "colab": {
          "base_uri": "https://localhost:8080/",
          "height": 143
        },
        "outputId": "3ae4321a-e522-47c9-befc-67882a1d2346"
      },
      "outputs": [
        {
          "output_type": "execute_result",
          "data": {
            "text/plain": [
              "col_0       0       1\n",
              "row_0                \n",
              "0      192346   10214\n",
              "1        6794  195625"
            ],
            "text/html": [
              "\n",
              "  <div id=\"df-cc7931c3-1148-4f8e-96b2-8f1f3fea8680\">\n",
              "    <div class=\"colab-df-container\">\n",
              "      <div>\n",
              "<style scoped>\n",
              "    .dataframe tbody tr th:only-of-type {\n",
              "        vertical-align: middle;\n",
              "    }\n",
              "\n",
              "    .dataframe tbody tr th {\n",
              "        vertical-align: top;\n",
              "    }\n",
              "\n",
              "    .dataframe thead th {\n",
              "        text-align: right;\n",
              "    }\n",
              "</style>\n",
              "<table border=\"1\" class=\"dataframe\">\n",
              "  <thead>\n",
              "    <tr style=\"text-align: right;\">\n",
              "      <th>col_0</th>\n",
              "      <th>0</th>\n",
              "      <th>1</th>\n",
              "    </tr>\n",
              "    <tr>\n",
              "      <th>row_0</th>\n",
              "      <th></th>\n",
              "      <th></th>\n",
              "    </tr>\n",
              "  </thead>\n",
              "  <tbody>\n",
              "    <tr>\n",
              "      <th>0</th>\n",
              "      <td>192346</td>\n",
              "      <td>10214</td>\n",
              "    </tr>\n",
              "    <tr>\n",
              "      <th>1</th>\n",
              "      <td>6794</td>\n",
              "      <td>195625</td>\n",
              "    </tr>\n",
              "  </tbody>\n",
              "</table>\n",
              "</div>\n",
              "      <button class=\"colab-df-convert\" onclick=\"convertToInteractive('df-cc7931c3-1148-4f8e-96b2-8f1f3fea8680')\"\n",
              "              title=\"Convert this dataframe to an interactive table.\"\n",
              "              style=\"display:none;\">\n",
              "        \n",
              "  <svg xmlns=\"http://www.w3.org/2000/svg\" height=\"24px\"viewBox=\"0 0 24 24\"\n",
              "       width=\"24px\">\n",
              "    <path d=\"M0 0h24v24H0V0z\" fill=\"none\"/>\n",
              "    <path d=\"M18.56 5.44l.94 2.06.94-2.06 2.06-.94-2.06-.94-.94-2.06-.94 2.06-2.06.94zm-11 1L8.5 8.5l.94-2.06 2.06-.94-2.06-.94L8.5 2.5l-.94 2.06-2.06.94zm10 10l.94 2.06.94-2.06 2.06-.94-2.06-.94-.94-2.06-.94 2.06-2.06.94z\"/><path d=\"M17.41 7.96l-1.37-1.37c-.4-.4-.92-.59-1.43-.59-.52 0-1.04.2-1.43.59L10.3 9.45l-7.72 7.72c-.78.78-.78 2.05 0 2.83L4 21.41c.39.39.9.59 1.41.59.51 0 1.02-.2 1.41-.59l7.78-7.78 2.81-2.81c.8-.78.8-2.07 0-2.86zM5.41 20L4 18.59l7.72-7.72 1.47 1.35L5.41 20z\"/>\n",
              "  </svg>\n",
              "      </button>\n",
              "      \n",
              "  <style>\n",
              "    .colab-df-container {\n",
              "      display:flex;\n",
              "      flex-wrap:wrap;\n",
              "      gap: 12px;\n",
              "    }\n",
              "\n",
              "    .colab-df-convert {\n",
              "      background-color: #E8F0FE;\n",
              "      border: none;\n",
              "      border-radius: 50%;\n",
              "      cursor: pointer;\n",
              "      display: none;\n",
              "      fill: #1967D2;\n",
              "      height: 32px;\n",
              "      padding: 0 0 0 0;\n",
              "      width: 32px;\n",
              "    }\n",
              "\n",
              "    .colab-df-convert:hover {\n",
              "      background-color: #E2EBFA;\n",
              "      box-shadow: 0px 1px 2px rgba(60, 64, 67, 0.3), 0px 1px 3px 1px rgba(60, 64, 67, 0.15);\n",
              "      fill: #174EA6;\n",
              "    }\n",
              "\n",
              "    [theme=dark] .colab-df-convert {\n",
              "      background-color: #3B4455;\n",
              "      fill: #D2E3FC;\n",
              "    }\n",
              "\n",
              "    [theme=dark] .colab-df-convert:hover {\n",
              "      background-color: #434B5C;\n",
              "      box-shadow: 0px 1px 3px 1px rgba(0, 0, 0, 0.15);\n",
              "      filter: drop-shadow(0px 1px 2px rgba(0, 0, 0, 0.3));\n",
              "      fill: #FFFFFF;\n",
              "    }\n",
              "  </style>\n",
              "\n",
              "      <script>\n",
              "        const buttonEl =\n",
              "          document.querySelector('#df-cc7931c3-1148-4f8e-96b2-8f1f3fea8680 button.colab-df-convert');\n",
              "        buttonEl.style.display =\n",
              "          google.colab.kernel.accessAllowed ? 'block' : 'none';\n",
              "\n",
              "        async function convertToInteractive(key) {\n",
              "          const element = document.querySelector('#df-cc7931c3-1148-4f8e-96b2-8f1f3fea8680');\n",
              "          const dataTable =\n",
              "            await google.colab.kernel.invokeFunction('convertToInteractive',\n",
              "                                                     [key], {});\n",
              "          if (!dataTable) return;\n",
              "\n",
              "          const docLinkHtml = 'Like what you see? Visit the ' +\n",
              "            '<a target=\"_blank\" href=https://colab.research.google.com/notebooks/data_table.ipynb>data table notebook</a>'\n",
              "            + ' to learn more about interactive tables.';\n",
              "          element.innerHTML = '';\n",
              "          dataTable['output_type'] = 'display_data';\n",
              "          await google.colab.output.renderOutput(dataTable, element);\n",
              "          const docLink = document.createElement('div');\n",
              "          docLink.innerHTML = docLinkHtml;\n",
              "          element.appendChild(docLink);\n",
              "        }\n",
              "      </script>\n",
              "    </div>\n",
              "  </div>\n",
              "  "
            ]
          },
          "metadata": {},
          "execution_count": 39
        }
      ],
      "source": [
        "pd.crosstab(y_test,y_pred)"
      ]
    },
    {
      "cell_type": "markdown",
      "source": [
        "Seems that decision tress have the highest metrics of all - 96% ROC AUC"
      ],
      "metadata": {
        "id": "2q3FV0liaeH7"
      }
    },
    {
      "cell_type": "markdown",
      "source": [
        "###5. Visualization"
      ],
      "metadata": {
        "id": "J3Ece6pcasIO"
      }
    },
    {
      "cell_type": "code",
      "source": [
        "logit_roc_auc = roc_auc_score(y_test, classifier.predict(x_test))\n",
        "tree_roc_auc = roc_auc_score(y_test, dtree.predict(x_test))\n",
        "#knn_roc_auc = roc_auc_score(y_test, knn.predict(x_test))\n",
        "\n",
        "fpr, tpr, thresholds = roc_curve(y_test, classifier.predict_proba(x_test)[:,1])\n",
        "#fpr, tpr, thresholds = roc_curve(y_test, knn.predict_proba(x_test)[:,1])\n",
        "fpr, tpr, thresholds = roc_curve(y_test, dtree.predict_proba(x_test)[:,1])\n",
        "#fpr, tpr, thresholds = roc_curve(y_test, svm.decision_function(x_test))\n",
        "\n",
        "plt.figure()\n",
        "plt.plot(fpr, tpr, label='Logistic Regression (area = %0.2f)' % logit_roc_auc)\n",
        "plt.plot(fpr, tpr, label='Tree Regression (area = %0.2f)' % tree_roc_auc)\n",
        "#plt.plot(fpr, tpr, label='Support Vector Machines (area = %0.2f)' % svm_roc_auc)\n",
        "#plt.plot(fpr, tpr, label='K-nearest neighbours (area = %0.2f)' % knn_roc_auc)\n",
        "plt.plot([0, 1], [0, 1],'r--')\n",
        "plt.xlim([0.0, 1.0])\n",
        "plt.ylim([0.0, 1.05])\n",
        "plt.xlabel('False Positive Rate')\n",
        "plt.ylabel('True Positive Rate')\n",
        "plt.title('Receiver operating characteristic')\n",
        "plt.legend(loc=\"lower right\")\n",
        "plt.show()"
      ],
      "metadata": {
        "colab": {
          "base_uri": "https://localhost:8080/",
          "height": 295
        },
        "id": "mIQzauv3avEK",
        "outputId": "6a4df717-ef5f-41b7-868d-f7e1acc37827"
      },
      "execution_count": null,
      "outputs": [
        {
          "output_type": "display_data",
          "data": {
            "text/plain": [
              "<Figure size 432x288 with 1 Axes>"
            ],
            "image/png": "[encoded data removed]"
          },
          "metadata": {
            "needs_background": "light"
          }
        }
      ]
    },
    {
      "cell_type": "code",
      "source": [],
      "metadata": {
        "id": "KFYz7h59avF9"
      },
      "execution_count": null,
      "outputs": []
    }
  ],
  "metadata": {
    "colab": {
      "provenance": [],
      "toc_visible": true
    },
    "kernelspec": {
      "display_name": "Python 3",
      "name": "python3"
    },
    "language_info": {
      "name": "python"
    }
  },
  "nbformat": 4,
  "nbformat_minor": 0
}